{
  "nbformat": 4,
  "nbformat_minor": 0,
  "metadata": {
    "colab": {
      "provenance": []
    },
    "kernelspec": {
      "name": "python3",
      "display_name": "Python 3"
    },
    "language_info": {
      "name": "python"
    }
  },
  "cells": [
    {
      "cell_type": "markdown",
      "source": [
        "### Data Science and AI Practicum"
      ],
      "metadata": {
        "id": "AwAtkkIinEtn"
      }
    },
    {
      "cell_type": "markdown",
      "source": [
        "Data Analytics"
      ],
      "metadata": {
        "id": "O4J-cmWDnExC"
      }
    },
    {
      "cell_type": "markdown",
      "source": [
        "### Universal Functions"
      ],
      "metadata": {
        "id": "lazid47FnPKP"
      }
    },
    {
      "cell_type": "markdown",
      "source": [
        "Universal Functions: are the functions that work with one argument\n",
        "\n",
        "`sqrt` `square` `exp` `log` `modf` `sign` `isnan`"
      ],
      "metadata": {
        "id": "vFzNRkEanYBH"
      }
    },
    {
      "cell_type": "code",
      "execution_count": null,
      "metadata": {
        "id": "8MeaMUMEm2uR"
      },
      "outputs": [],
      "source": [
        "import numpy as np"
      ]
    },
    {
      "cell_type": "code",
      "source": [
        "import numpy as np\n",
        "arr = np.arange(10) # array with numbers from 0 to 9\n",
        "print(arr)"
      ],
      "metadata": {
        "colab": {
          "base_uri": "https://localhost:8080/"
        },
        "id": "qnJFcgI-oIXB",
        "outputId": "5851e4ad-ed12-4cb1-f202-d4c57220ff89"
      },
      "execution_count": 2,
      "outputs": [
        {
          "output_type": "stream",
          "name": "stdout",
          "text": [
            "[0 1 2 3 4 5 6 7 8 9]\n"
          ]
        }
      ]
    },
    {
      "cell_type": "markdown",
      "source": [
        "`square`"
      ],
      "metadata": {
        "id": "JjHOkbwZoWZo"
      }
    },
    {
      "cell_type": "code",
      "source": [
        "squ_arr = np.square(arr)\n",
        "print(squ_arr)"
      ],
      "metadata": {
        "colab": {
          "base_uri": "https://localhost:8080/"
        },
        "id": "F783G5uZoUmt",
        "outputId": "8cd6a210-df78-45bb-a63c-fd7720ec7a91"
      },
      "execution_count": 3,
      "outputs": [
        {
          "output_type": "stream",
          "name": "stdout",
          "text": [
            "[ 0  1  4  9 16 25 36 49 64 81]\n"
          ]
        }
      ]
    },
    {
      "cell_type": "markdown",
      "source": [
        "----------------------"
      ],
      "metadata": {
        "id": "4cAtpZLZps8Q"
      }
    },
    {
      "cell_type": "markdown",
      "source": [
        "`sqrt`"
      ],
      "metadata": {
        "id": "VTIEAqNmo2Di"
      }
    },
    {
      "cell_type": "code",
      "source": [
        "sqrt_arr = np.sqrt(squ_arr)\n",
        "sqrt_a = sqrt_arr.astype(np.int64)\n",
        "print(sqrt_a)"
      ],
      "metadata": {
        "colab": {
          "base_uri": "https://localhost:8080/"
        },
        "id": "Rf8UWXaooqnz",
        "outputId": "64b528c0-3158-4c08-8405-dbadad704b97"
      },
      "execution_count": 8,
      "outputs": [
        {
          "output_type": "stream",
          "name": "stdout",
          "text": [
            "[0 1 2 3 4 5 6 7 8 9]\n"
          ]
        }
      ]
    },
    {
      "cell_type": "markdown",
      "source": [
        "----------------------"
      ],
      "metadata": {
        "id": "DflWHosPp5zu"
      }
    },
    {
      "cell_type": "markdown",
      "source": [
        "`exp`  exponential of the number"
      ],
      "metadata": {
        "id": "T6rEGBqvp32E"
      }
    },
    {
      "cell_type": "code",
      "source": [
        "print(np.exp(arr))"
      ],
      "metadata": {
        "colab": {
          "base_uri": "https://localhost:8080/"
        },
        "id": "XlYY7uwEpA9v",
        "outputId": "8f2af67a-de63-42de-c7f9-52fbbb868f3c"
      },
      "execution_count": 9,
      "outputs": [
        {
          "output_type": "stream",
          "name": "stdout",
          "text": [
            "[1.00000000e+00 2.71828183e+00 7.38905610e+00 2.00855369e+01\n",
            " 5.45981500e+01 1.48413159e+02 4.03428793e+02 1.09663316e+03\n",
            " 2.98095799e+03 8.10308393e+03]\n"
          ]
        }
      ]
    },
    {
      "cell_type": "markdown",
      "source": [
        "----------------------"
      ],
      "metadata": {
        "id": "iNqLzxNFqDqU"
      }
    },
    {
      "cell_type": "markdown",
      "source": [
        "`log`  log of the number"
      ],
      "metadata": {
        "id": "Wi0d4rBmqH33"
      }
    },
    {
      "cell_type": "code",
      "source": [
        "print(np.log(arr[1:]))"
      ],
      "metadata": {
        "colab": {
          "base_uri": "https://localhost:8080/"
        },
        "id": "zoP7fCHlqCos",
        "outputId": "b332c371-6880-46b0-f869-929f683ae7b3"
      },
      "execution_count": 11,
      "outputs": [
        {
          "output_type": "stream",
          "name": "stdout",
          "text": [
            "[0.         0.69314718 1.09861229 1.38629436 1.60943791 1.79175947\n",
            " 1.94591015 2.07944154 2.19722458]\n"
          ]
        }
      ]
    },
    {
      "cell_type": "markdown",
      "source": [
        "----------------------"
      ],
      "metadata": {
        "id": "S-ERh3rAqTkI"
      }
    },
    {
      "cell_type": "markdown",
      "source": [
        "`modf` devides whole number and residual in to different arrays"
      ],
      "metadata": {
        "id": "fro8tb36qUwK"
      }
    },
    {
      "cell_type": "code",
      "source": [
        "arr1 = np.random.randn(6)\n",
        "whole, residual = np.modf(arr1)\n",
        "print(f\"{arr1}\\n{residual}\\n{whole}\")"
      ],
      "metadata": {
        "colab": {
          "base_uri": "https://localhost:8080/"
        },
        "id": "8fB1UEeaqOQn",
        "outputId": "41842ee9-8ab1-4c8b-d7a3-6f6a37fd9d47"
      },
      "execution_count": 13,
      "outputs": [
        {
          "output_type": "stream",
          "name": "stdout",
          "text": [
            "[-0.14525353  1.08555956 -0.42422712 -0.25676034  1.23079842 -0.48439502]\n",
            "[-0.  1. -0. -0.  1. -0.]\n",
            "[-0.14525353  0.08555956 -0.42422712 -0.25676034  0.23079842 -0.48439502]\n"
          ]
        }
      ]
    },
    {
      "cell_type": "markdown",
      "source": [
        "----------------------"
      ],
      "metadata": {
        "id": "koeK_D2xrb-s"
      }
    },
    {
      "cell_type": "markdown",
      "source": [
        "`sign` if the sign of the number in the array \"-\" = -1, \"+\" = 1"
      ],
      "metadata": {
        "id": "J9RuwY_yre2K"
      }
    },
    {
      "cell_type": "code",
      "source": [
        "print(arr1)\n",
        "print(np.sign(arr1))"
      ],
      "metadata": {
        "colab": {
          "base_uri": "https://localhost:8080/"
        },
        "id": "5VXm6C3wqxpY",
        "outputId": "e636e934-b1b0-4fe1-ae7b-3a8d6da18dc4"
      },
      "execution_count": 14,
      "outputs": [
        {
          "output_type": "stream",
          "name": "stdout",
          "text": [
            "[-0.14525353  1.08555956 -0.42422712 -0.25676034  1.23079842 -0.48439502]\n",
            "[-1.  1. -1. -1.  1. -1.]\n"
          ]
        }
      ]
    },
    {
      "cell_type": "markdown",
      "source": [
        "----------------------"
      ],
      "metadata": {
        "id": "nvaJf9eprxcZ"
      }
    },
    {
      "cell_type": "markdown",
      "source": [
        "`isnan` if in the array NaN ist == True"
      ],
      "metadata": {
        "id": "RaxBg8gHrydO"
      }
    },
    {
      "cell_type": "code",
      "source": [
        "print(np.isnan(arr1))\n",
        "arr1[1] = np.NaN\n",
        "print(arr1)\n",
        "print(np.isnan(arr1))"
      ],
      "metadata": {
        "colab": {
          "base_uri": "https://localhost:8080/"
        },
        "id": "loKPKPrJrv7m",
        "outputId": "40349f66-66b8-4d25-df2e-6249514f367c"
      },
      "execution_count": 17,
      "outputs": [
        {
          "output_type": "stream",
          "name": "stdout",
          "text": [
            "[False False False False False False]\n",
            "[-0.14525353         nan -0.42422712 -0.25676034  1.23079842 -0.48439502]\n",
            "[False  True False False False False]\n"
          ]
        }
      ]
    },
    {
      "cell_type": "markdown",
      "source": [
        "----------------------"
      ],
      "metadata": {
        "id": "LHiCNLANufi2"
      }
    },
    {
      "cell_type": "markdown",
      "source": [
        "### Binary Functions"
      ],
      "metadata": {
        "id": "CQXIWiG-ujvw"
      }
    },
    {
      "cell_type": "markdown",
      "source": [
        "Binary Functions: are the functions that work with two arguments"
      ],
      "metadata": {
        "id": "e8egxTN9unlT"
      }
    },
    {
      "cell_type": "markdown",
      "source": [
        "`add` `multiply` `maximum`"
      ],
      "metadata": {
        "id": "ruAsh7zGu44R"
      }
    },
    {
      "cell_type": "code",
      "source": [
        "import numpy as np"
      ],
      "metadata": {
        "id": "4Z-Vs8hSsQ1f"
      },
      "execution_count": null,
      "outputs": []
    },
    {
      "cell_type": "code",
      "source": [
        "arr2 = np.random.randn(6)\n",
        "arr3 = np.random.randn(6)\n",
        "print(arr2)\n",
        "print(arr3)"
      ],
      "metadata": {
        "colab": {
          "base_uri": "https://localhost:8080/"
        },
        "id": "ttY14m_ZvCmY",
        "outputId": "8a830973-2993-4160-83eb-6ffd388fbe74"
      },
      "execution_count": 20,
      "outputs": [
        {
          "output_type": "stream",
          "name": "stdout",
          "text": [
            "[-0.93212313  0.83359683  0.49829334 -0.65477107  0.93836541 -1.96102797]\n",
            "[ 1.73692989  2.02332864  0.14196082 -0.14305879  0.5305557   0.34415028]\n"
          ]
        }
      ]
    },
    {
      "cell_type": "markdown",
      "source": [
        "----------------------"
      ],
      "metadata": {
        "id": "DJ0K_9oivySI"
      }
    },
    {
      "cell_type": "markdown",
      "source": [
        "`add`"
      ],
      "metadata": {
        "id": "sxxFU41_vuLb"
      }
    },
    {
      "cell_type": "code",
      "source": [
        "print(np.add(arr2, arr3))"
      ],
      "metadata": {
        "colab": {
          "base_uri": "https://localhost:8080/"
        },
        "id": "ebdeyqDCvqMs",
        "outputId": "ff390d75-2464-46e2-891f-871ab26a3d93"
      },
      "execution_count": 21,
      "outputs": [
        {
          "output_type": "stream",
          "name": "stdout",
          "text": [
            "[ 0.80480676  2.85692547  0.64025416 -0.79782986  1.46892111 -1.61687769]\n"
          ]
        }
      ]
    },
    {
      "cell_type": "markdown",
      "source": [
        "----------------------"
      ],
      "metadata": {
        "id": "8OxAGnbHvw5v"
      }
    },
    {
      "cell_type": "markdown",
      "source": [
        "`multiply`"
      ],
      "metadata": {
        "id": "QfA8upcpv0Th"
      }
    },
    {
      "cell_type": "code",
      "source": [
        "print(np.multiply(arr2, arr3)) # multiplying two arrays appropriate elements"
      ],
      "metadata": {
        "colab": {
          "base_uri": "https://localhost:8080/"
        },
        "id": "pXkGnavfwJhw",
        "outputId": "9814427f-ea06-4119-a366-2b43d490b313"
      },
      "execution_count": 22,
      "outputs": [
        {
          "output_type": "stream",
          "name": "stdout",
          "text": [
            "[-1.61903252  1.68664034  0.07073813  0.09367075  0.49785512 -0.67488832]\n"
          ]
        }
      ]
    },
    {
      "cell_type": "markdown",
      "source": [
        "----------------------"
      ],
      "metadata": {
        "id": "k0td7_eFwT4i"
      }
    },
    {
      "cell_type": "markdown",
      "source": [
        "`maximum`"
      ],
      "metadata": {
        "id": "AV9vSjNywVEb"
      }
    },
    {
      "cell_type": "code",
      "source": [
        "print(np.maximum(arr2, arr3)) # gets the biggest element among two appropriate elements in the array"
      ],
      "metadata": {
        "colab": {
          "base_uri": "https://localhost:8080/"
        },
        "id": "6Ebzi6hQwNOo",
        "outputId": "05d0a058-9a91-4a13-d3f2-bd16bbb5f04b"
      },
      "execution_count": 23,
      "outputs": [
        {
          "output_type": "stream",
          "name": "stdout",
          "text": [
            "[ 1.73692989  2.02332864  0.49829334 -0.14305879  0.93836541  0.34415028]\n"
          ]
        }
      ]
    },
    {
      "cell_type": "markdown",
      "source": [
        "----------------------"
      ],
      "metadata": {
        "id": "fqsgxUG-wnNb"
      }
    }
  ]
}