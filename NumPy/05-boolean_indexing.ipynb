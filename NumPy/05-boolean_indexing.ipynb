{
  "nbformat": 4,
  "nbformat_minor": 0,
  "metadata": {
    "colab": {
      "provenance": []
    },
    "kernelspec": {
      "name": "python3",
      "display_name": "Python 3"
    },
    "language_info": {
      "name": "python"
    }
  },
  "cells": [
    {
      "cell_type": "markdown",
      "source": [
        "### Data Science and AI Practicum"
      ],
      "metadata": {
        "id": "-PsIzLO60w1d"
      }
    },
    {
      "cell_type": "markdown",
      "source": [
        "Data Analytics\n",
        "\n",
        "- Boolean Indexing"
      ],
      "metadata": {
        "id": "kZcNEGxt0w7w"
      }
    },
    {
      "cell_type": "code",
      "source": [
        "import numpy as np\n",
        "name = np.array([\"Jinwoo\", \"Levi\", \"Bibi\", \"Igris\", \"Kaizen\"])\n",
        "print(name)"
      ],
      "metadata": {
        "colab": {
          "base_uri": "https://localhost:8080/"
        },
        "id": "S1ZVV19M1KR7",
        "outputId": "473762a4-8c0e-4d8c-f3c1-c605be49eb26"
      },
      "execution_count": 2,
      "outputs": [
        {
          "output_type": "stream",
          "name": "stdout",
          "text": [
            "['Jinwoo' 'Levi' 'Bibi' 'Igris' 'Kaizen']\n"
          ]
        }
      ]
    },
    {
      "cell_type": "code",
      "source": [
        "data = np.random.randn(5, 4)\n",
        "print(data)"
      ],
      "metadata": {
        "colab": {
          "base_uri": "https://localhost:8080/"
        },
        "id": "Ryx_8AnZ1dJM",
        "outputId": "c1101bd2-ff58-4d6b-9466-670361895eaa"
      },
      "execution_count": 5,
      "outputs": [
        {
          "output_type": "stream",
          "name": "stdout",
          "text": [
            "[[-0.41095094  0.07812253 -0.14648127 -1.60989532]\n",
            " [ 0.32775243 -1.14935557  0.35329017 -0.19633118]\n",
            " [ 0.6569732  -0.33714717  0.6004308  -0.41366443]\n",
            " [ 0.58372112  0.64435264 -1.0953189  -0.36372574]\n",
            " [ 0.6193372  -1.08903876  0.12776268  0.82180332]]\n"
          ]
        }
      ]
    },
    {
      "cell_type": "code",
      "source": [
        "name == 'Bibi'"
      ],
      "metadata": {
        "colab": {
          "base_uri": "https://localhost:8080/"
        },
        "id": "DJ8XmZv41voX",
        "outputId": "e8b28a2f-903e-4caf-933f-147ef1125807"
      },
      "execution_count": 8,
      "outputs": [
        {
          "output_type": "execute_result",
          "data": {
            "text/plain": [
              "array([False, False,  True, False, False])"
            ]
          },
          "metadata": {},
          "execution_count": 8
        }
      ]
    },
    {
      "cell_type": "code",
      "source": [
        "print(data[name == \"Bibi\"]) # info related to the name Bibi"
      ],
      "metadata": {
        "colab": {
          "base_uri": "https://localhost:8080/"
        },
        "id": "9kp0xJ131_6G",
        "outputId": "98c162db-68d6-4d4d-adb1-b31b6f8311e1"
      },
      "execution_count": 9,
      "outputs": [
        {
          "output_type": "stream",
          "name": "stdout",
          "text": [
            "[[ 0.6569732  -0.33714717  0.6004308  -0.41366443]]\n"
          ]
        }
      ]
    },
    {
      "cell_type": "code",
      "source": [
        "print(data[name != 'Bibi']) # all info in the array except from 'Bibi'"
      ],
      "metadata": {
        "colab": {
          "base_uri": "https://localhost:8080/"
        },
        "id": "DuLLlt2c2LVq",
        "outputId": "09ed6462-a02f-4463-f776-1278c4ea8f37"
      },
      "execution_count": 10,
      "outputs": [
        {
          "output_type": "stream",
          "name": "stdout",
          "text": [
            "[[-0.41095094  0.07812253 -0.14648127 -1.60989532]\n",
            " [ 0.32775243 -1.14935557  0.35329017 -0.19633118]\n",
            " [ 0.58372112  0.64435264 -1.0953189  -0.36372574]\n",
            " [ 0.6193372  -1.08903876  0.12776268  0.82180332]]\n"
          ]
        }
      ]
    },
    {
      "cell_type": "code",
      "source": [
        "print(data[name == 'Kaizen', 2:4])"
      ],
      "metadata": {
        "colab": {
          "base_uri": "https://localhost:8080/"
        },
        "id": "EO5vhel62Rge",
        "outputId": "54c85d30-f3e7-4a06-d1ee-7a0bb359b781"
      },
      "execution_count": 46,
      "outputs": [
        {
          "output_type": "stream",
          "name": "stdout",
          "text": [
            "[[0.12776268 0.82180332]]\n"
          ]
        }
      ]
    },
    {
      "cell_type": "code",
      "source": [
        "mask = (name == 'Jinwoo') | (name == \"Kaizen\")\n",
        "data[mask]"
      ],
      "metadata": {
        "colab": {
          "base_uri": "https://localhost:8080/"
        },
        "id": "Reny8_ic2pD0",
        "outputId": "802dd815-9837-475b-a8ec-7da3d9f1f7f1"
      },
      "execution_count": 45,
      "outputs": [
        {
          "output_type": "execute_result",
          "data": {
            "text/plain": [
              "array([[1.        , 0.07812253, 1.        , 1.        ],\n",
              "       [0.6193372 , 1.        , 0.12776268, 0.82180332]])"
            ]
          },
          "metadata": {},
          "execution_count": 45
        }
      ]
    },
    {
      "cell_type": "code",
      "source": [
        "mask"
      ],
      "metadata": {
        "colab": {
          "base_uri": "https://localhost:8080/"
        },
        "id": "WapD83zf29mX",
        "outputId": "15cc8ca8-2a20-4c78-9c31-a060273c8f54"
      },
      "execution_count": 15,
      "outputs": [
        {
          "output_type": "execute_result",
          "data": {
            "text/plain": [
              "array([ True, False, False, False,  True])"
            ]
          },
          "metadata": {},
          "execution_count": 15
        }
      ]
    },
    {
      "cell_type": "code",
      "source": [
        "data[data < 0] = 1  # turning all negative floats into 1\n",
        "print(data)"
      ],
      "metadata": {
        "colab": {
          "base_uri": "https://localhost:8080/"
        },
        "id": "0veYRujV3Dfy",
        "outputId": "09acd9c8-2ec7-493d-82dc-2480fa42a9b5"
      },
      "execution_count": 44,
      "outputs": [
        {
          "output_type": "stream",
          "name": "stdout",
          "text": [
            "[[1.         0.07812253 1.         1.        ]\n",
            " [0.32775243 1.         0.35329017 1.        ]\n",
            " [0.6569732  1.         0.6004308  1.        ]\n",
            " [0.58372112 0.64435264 1.         1.        ]\n",
            " [0.6193372  1.         0.12776268 0.82180332]]\n"
          ]
        }
      ]
    },
    {
      "cell_type": "markdown",
      "source": [
        "### Practice"
      ],
      "metadata": {
        "id": "ShI7IRfY6Ots"
      }
    },
    {
      "cell_type": "markdown",
      "source": [
        "- Task 1\n",
        "\n",
        "You are given a NumPy array representing the temperatures (in Celsius) recorded over 10 days. Your task is to:\n",
        "\n",
        "Filter out temperatures above 30°C using boolean indexing.\n",
        "Replace all negative temperatures with 0 (no negative temperatures allowed).\n",
        "Count how many days had temperatures above 25°C."
      ],
      "metadata": {
        "id": "OMqRj2WF6VHb"
      }
    },
    {
      "cell_type": "code",
      "source": [
        "import numpy as np\n",
        "temps = np.array([22, 31, 15, -2, 28, 35, 40, 18, 25, 30]) # temperature for the last 10 days\n",
        "# above 30\n",
        "above = temps[temps >= 30] # getting temp above 30 or == 30\n",
        "print(f\"Temperatures above 30C: {above}\")\n",
        "\n",
        "temps[temps < 0] = 0 # replacing negative temp with 0\n",
        "print(f\"Negative replaced with 0: {temps} \")\n",
        "\n",
        "# days above 25C\n",
        "days = temps[temps > 25] # getting temp above 25 except from 25\n",
        "print(f\"Days above 25C: {len(days)}\")"
      ],
      "metadata": {
        "colab": {
          "base_uri": "https://localhost:8080/"
        },
        "id": "EYEmQPED3Q6u",
        "outputId": "68780acb-2743-407f-a34d-5e841d05fe13"
      },
      "execution_count": 43,
      "outputs": [
        {
          "output_type": "stream",
          "name": "stdout",
          "text": [
            "Temperatures above 30C: [31 35 40 30]\n",
            "Negative replaced with 0: [22 31 15  0 28 35 40 18 25 30] \n",
            "Days above 25C: 5\n"
          ]
        }
      ]
    },
    {
      "cell_type": "markdown",
      "source": [
        "- Task 2\n",
        "\n",
        "You are given an array of temperatures (in Celsius) recorded over a week. Your goal is to filter out the days where the temperature was above the average temperature for the week."
      ],
      "metadata": {
        "id": "GymnIaTJ_iKI"
      }
    },
    {
      "cell_type": "code",
      "source": [
        "import numpy as np\n",
        "temps = np.array([15, 18, 21, 20, 22, 19, 17]) # Temperature during the week\n",
        "average = temps.sum() / len(temps) # calculating the sum and dividing to the amount of elements\n",
        "\n",
        "in_av = average.astype(np.int64) # changing dtype from float to integer\n",
        "print(f\"Average temperature during the week is: [{in_av}]\")\n",
        "\n",
        "above_av = temps[temps > in_av] # getting all temperatures above average\n",
        "print(f\"Days with above-average temperatures: {above_av}\")"
      ],
      "metadata": {
        "colab": {
          "base_uri": "https://localhost:8080/"
        },
        "id": "-mopUDIF82WD",
        "outputId": "33a7c910-02d0-4c11-c1f3-73ee62067b7d"
      },
      "execution_count": 42,
      "outputs": [
        {
          "output_type": "stream",
          "name": "stdout",
          "text": [
            "Average temperature during the week is: [18]\n",
            "Days with above-average temperatures: [21 20 22 19]\n"
          ]
        }
      ]
    }
  ]
}