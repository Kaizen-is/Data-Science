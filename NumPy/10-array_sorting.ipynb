{
  "nbformat": 4,
  "nbformat_minor": 0,
  "metadata": {
    "colab": {
      "provenance": []
    },
    "kernelspec": {
      "name": "python3",
      "display_name": "Python 3"
    },
    "language_info": {
      "name": "python"
    }
  },
  "cells": [
    {
      "cell_type": "markdown",
      "source": [
        "### Data Science and AI Practicum"
      ],
      "metadata": {
        "id": "FkkgooJqLwOr"
      }
    },
    {
      "cell_type": "markdown",
      "source": [
        "- Sorting"
      ],
      "metadata": {
        "id": "H1F9t1XmL03-"
      }
    },
    {
      "cell_type": "code",
      "execution_count": 3,
      "metadata": {
        "colab": {
          "base_uri": "https://localhost:8080/"
        },
        "id": "x3BEDYqJLoGK",
        "outputId": "d7f31f32-42ef-46a8-b7e7-e9e05268e616"
      },
      "outputs": [
        {
          "output_type": "stream",
          "name": "stdout",
          "text": [
            "[[53 76  3 12 49 45 74 15 10 20 33 49 55 68 85 98 55 92 34 71]]\n"
          ]
        }
      ],
      "source": [
        "import numpy as np\n",
        "array =  np.random.randint(101, size = (1, 20))\n",
        "print(array)"
      ]
    },
    {
      "cell_type": "markdown",
      "source": [
        "Method `sort`"
      ],
      "metadata": {
        "id": "i0Sl1tNQMQbs"
      }
    },
    {
      "cell_type": "code",
      "source": [
        "sorted_array =  np.sort(array) # Copying a sorted array to another array while original is not changed\n",
        "\n",
        "print(f\"{array}\\n---------------------------------------------------------------\")\n",
        "print(sorted_array)"
      ],
      "metadata": {
        "colab": {
          "base_uri": "https://localhost:8080/"
        },
        "id": "sHUOpLLrMI_X",
        "outputId": "9866cc77-04d1-4f8d-816d-f1d7fc96764a"
      },
      "execution_count": 7,
      "outputs": [
        {
          "output_type": "stream",
          "name": "stdout",
          "text": [
            "[[53 76  3 12 49 45 74 15 10 20 33 49 55 68 85 98 55 92 34 71]]\n",
            "---------------------------------------------------------------\n",
            "[[ 3 10 12 15 20 33 34 45 49 49 53 55 55 68 71 74 76 85 92 98]]\n"
          ]
        }
      ]
    },
    {
      "cell_type": "code",
      "source": [
        "array.sort() # Not copying, changing the oringinal array to the sorted one\n",
        "print(array)"
      ],
      "metadata": {
        "colab": {
          "base_uri": "https://localhost:8080/"
        },
        "id": "JYBeA47PMnW9",
        "outputId": "4dbbba5d-1516-4969-fe7d-e5498c1a5b71"
      },
      "execution_count": 14,
      "outputs": [
        {
          "output_type": "stream",
          "name": "stdout",
          "text": [
            "[[ 3 10 12 15 20 33 34 45 49 49 53 55 55 68 71 74 76 85 92 98]]\n"
          ]
        }
      ]
    },
    {
      "cell_type": "markdown",
      "source": [
        "- Sorting vise versa"
      ],
      "metadata": {
        "id": "hHzwZCqlNzxD"
      }
    },
    {
      "cell_type": "code",
      "source": [
        "vice_versa = -np.sort(-array) # sorting in opposite order\n",
        "print(vice_versa)"
      ],
      "metadata": {
        "colab": {
          "base_uri": "https://localhost:8080/"
        },
        "id": "_qSZtarWNU7t",
        "outputId": "69eee9ce-13cb-4ef0-d243-228acb75858f"
      },
      "execution_count": 16,
      "outputs": [
        {
          "output_type": "stream",
          "name": "stdout",
          "text": [
            "[[98 92 85 76 74 71 68 55 55 53 49 49 45 34 33 20 15 12 10  3]]\n"
          ]
        }
      ]
    },
    {
      "cell_type": "markdown",
      "source": [
        "- Sorting exact elements"
      ],
      "metadata": {
        "id": "3ZX7U-I4OXF5"
      }
    },
    {
      "cell_type": "code",
      "source": [
        "import numpy as np"
      ],
      "metadata": {
        "id": "zp33n0lhOITA"
      },
      "execution_count": null,
      "outputs": []
    },
    {
      "cell_type": "code",
      "source": [
        "arr =  np.random.randint(101, size = (2, 4))\n",
        "print(arr)"
      ],
      "metadata": {
        "colab": {
          "base_uri": "https://localhost:8080/"
        },
        "id": "JF9kduByOhPB",
        "outputId": "8c017aef-cfef-4bbd-b6db-607617517031"
      },
      "execution_count": 18,
      "outputs": [
        {
          "output_type": "stream",
          "name": "stdout",
          "text": [
            "[[78  8 14 69]\n",
            " [88 74 29 16]]\n"
          ]
        }
      ]
    },
    {
      "cell_type": "code",
      "source": [
        "line = np.sort(arr, axis = 1) # sorting only the lines not whole array\n",
        "print(line)"
      ],
      "metadata": {
        "colab": {
          "base_uri": "https://localhost:8080/"
        },
        "id": "4YAWkCKGOqXS",
        "outputId": "1dd0627e-3671-4cb4-d0ef-b458aa19a080"
      },
      "execution_count": 19,
      "outputs": [
        {
          "output_type": "stream",
          "name": "stdout",
          "text": [
            "[[ 8 14 69 78]\n",
            " [16 29 74 88]]\n"
          ]
        }
      ]
    },
    {
      "cell_type": "code",
      "source": [
        "superior = np.sort(line, axis = 0) # sorting superiors\n",
        "print(superior)"
      ],
      "metadata": {
        "colab": {
          "base_uri": "https://localhost:8080/"
        },
        "id": "YBHFx_BeOz9t",
        "outputId": "81802115-d30b-4586-ade1-2cd7a5e00ad6"
      },
      "execution_count": 21,
      "outputs": [
        {
          "output_type": "stream",
          "name": "stdout",
          "text": [
            "[[ 8 14 69 78]\n",
            " [16 29 74 88]]\n"
          ]
        }
      ]
    },
    {
      "cell_type": "markdown",
      "source": [
        "### Practice\n"
      ],
      "metadata": {
        "id": "t9bjNlxzQkMJ"
      }
    },
    {
      "cell_type": "markdown",
      "source": [
        "- Task 1"
      ],
      "metadata": {
        "id": "MRd_rG14VD-J"
      }
    },
    {
      "cell_type": "code",
      "source": [
        "import numpy as np\n",
        "\n",
        "arr1_sorted = np.array([95, 92, 88, 85, 78])\n",
        "arr2_sorted = np.array([\"David\", \"Bob\", \"Eve\", \"Alice\", \"Charlie\"])\n",
        "print(arr1_sorted)\n",
        "print(arr2_sorted)\n",
        "\n",
        "s_index = np.argsort(arr1_sorted) # getting indexes of the scores\n",
        "print(f\"----------------------\\nIndexes\\n{s_index}\\n-----------------------\")\n",
        "\n",
        "scores = arr1_sorted[s_index] # sorting arr1_sorted based on indexes\n",
        "names = arr2_sorted[s_index]  # sorting arr2_sorted based on indexes\n",
        "\n",
        "print(scores)\n",
        "print(names)"
      ],
      "metadata": {
        "colab": {
          "base_uri": "https://localhost:8080/"
        },
        "id": "CQ2faYAvRRs5",
        "outputId": "c58c40b5-9246-43aa-d967-49b17985d06d"
      },
      "execution_count": 42,
      "outputs": [
        {
          "output_type": "stream",
          "name": "stdout",
          "text": [
            "[95 92 88 85 78]\n",
            "['David' 'Bob' 'Eve' 'Alice' 'Charlie']\n",
            "----------------------\n",
            "Indexes\n",
            "[4 3 2 1 0]\n",
            "-----------------------\n",
            "[78 85 88 92 95]\n",
            "['Charlie' 'Alice' 'Eve' 'Bob' 'David']\n"
          ]
        }
      ]
    }
  ]
}