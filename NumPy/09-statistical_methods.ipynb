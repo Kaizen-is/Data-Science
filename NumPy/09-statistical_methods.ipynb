{
  "nbformat": 4,
  "nbformat_minor": 0,
  "metadata": {
    "colab": {
      "provenance": []
    },
    "kernelspec": {
      "name": "python3",
      "display_name": "Python 3"
    },
    "language_info": {
      "name": "python"
    }
  },
  "cells": [
    {
      "cell_type": "markdown",
      "source": [
        "### Data Science and AI Practicum"
      ],
      "metadata": {
        "id": "p3ui-hTMrCQK"
      }
    },
    {
      "cell_type": "markdown",
      "source": [
        "Mathematik and Statistical Methods"
      ],
      "metadata": {
        "id": "H_qJtnesrHZ5"
      }
    },
    {
      "cell_type": "markdown",
      "source": [
        "### Mathematical"
      ],
      "metadata": {
        "id": "T_jepGZGrmgW"
      }
    },
    {
      "cell_type": "code",
      "execution_count": 4,
      "metadata": {
        "colab": {
          "base_uri": "https://localhost:8080/"
        },
        "id": "Sv_xxRWZq3p1",
        "outputId": "a269586d-24a7-4803-8a2a-1526c33ab78f"
      },
      "outputs": [
        {
          "output_type": "stream",
          "name": "stdout",
          "text": [
            "[[111  51  19  97 104 136  88  68  23  94 156]]\n",
            "---------------------------------------\n",
            "[[ 73  -7 -17 -45 -72   8 -36  12 -19 -82   6]]\n",
            "---------------------------------------\n",
            "[[1748  638   18 1846 1408 4608 1612 1120   42  528 6075]]\n",
            "---------------------------------------\n",
            "[[4.84210526 0.75862069 0.05555556 0.36619718 0.18181818 1.125\n",
            "  0.41935484 1.42857143 0.0952381  0.06818182 1.08      ]]\n",
            "---------------------------------------\n",
            "[[ 361  841  324 5041 7744 4096 3844  784  441 7744 5625]]\n",
            "---------------------------------------\n",
            "[[4.35889894 5.38516481 4.24264069 8.42614977 9.38083152 8.\n",
            "  7.87400787 5.29150262 4.58257569 9.38083152 8.66025404]]\n"
          ]
        }
      ],
      "source": [
        "import numpy as np\n",
        "\n",
        "arr1 = np.random.randint(0, 101, size = (1, 11))\n",
        "arr2 = np.random.randint(0, 101, size = (1, 11))\n",
        "\n",
        "print(arr1 + arr2)\n",
        "print(\"---------------------------------------\")\n",
        "print(arr2 - arr1)\n",
        "print(\"---------------------------------------\")\n",
        "print(arr1 * arr2)\n",
        "print(\"---------------------------------------\")\n",
        "print(arr2 / arr1)\n",
        "print(\"---------------------------------------\")\n",
        "print(arr1 ** 2)\n",
        "print(\"---------------------------------------\")\n",
        "print(arr1 ** 0.5)"
      ]
    },
    {
      "cell_type": "markdown",
      "source": [
        "Method `sum`"
      ],
      "metadata": {
        "id": "VuphPUpismi2"
      }
    },
    {
      "cell_type": "code",
      "source": [
        "arr3 = np.arange(16).reshape(4, 4)\n",
        "print(arr3)\n"
      ],
      "metadata": {
        "id": "T0h3h7dftHh8"
      },
      "execution_count": null,
      "outputs": []
    },
    {
      "cell_type": "code",
      "source": [
        "print(np.sum(arr3)) # sum of all elements in the array"
      ],
      "metadata": {
        "colab": {
          "base_uri": "https://localhost:8080/"
        },
        "id": "VrxbyzbGsPQF",
        "outputId": "ebd5cb2b-66d2-40cc-cf75-a3b1ecc9cd1f"
      },
      "execution_count": 5,
      "outputs": [
        {
          "output_type": "stream",
          "name": "stdout",
          "text": [
            "563\n"
          ]
        }
      ]
    },
    {
      "cell_type": "code",
      "source": [
        "arr3 = np.arange(16).reshape(4, 4)\n",
        "\n",
        "print(np.sum(arr3, axis = 1)) # sum of all elements in the lines\n",
        "print(\"\\n\")\n",
        "print(np.sum(arr3, axis = 0)) # sum of all elements in the superiors"
      ],
      "metadata": {
        "colab": {
          "base_uri": "https://localhost:8080/"
        },
        "id": "EqmF_H4bss8D",
        "outputId": "4ffb6b58-8f56-4564-a2b7-bf76915caacb"
      },
      "execution_count": 11,
      "outputs": [
        {
          "output_type": "stream",
          "name": "stdout",
          "text": [
            "[ 6 22 38 54]\n",
            "\n",
            "\n",
            "[24 28 32 36]\n"
          ]
        }
      ]
    },
    {
      "cell_type": "markdown",
      "source": [
        "Method `mean` - an average value"
      ],
      "metadata": {
        "id": "5nnMH3Nruaxa"
      }
    },
    {
      "cell_type": "code",
      "source": [
        "average = np.sum(arr3) / arr3.size     # in python\n",
        "print(average)"
      ],
      "metadata": {
        "colab": {
          "base_uri": "https://localhost:8080/"
        },
        "id": "n6rw8kqzuKe4",
        "outputId": "0d6e492a-f9fd-4283-b82f-2351e685fa8d"
      },
      "execution_count": 19,
      "outputs": [
        {
          "output_type": "stream",
          "name": "stdout",
          "text": [
            "7.5\n"
          ]
        }
      ]
    },
    {
      "cell_type": "code",
      "source": [
        "print(np.mean(arr3))                    # in numpy"
      ],
      "metadata": {
        "colab": {
          "base_uri": "https://localhost:8080/"
        },
        "id": "kICH9JISuoYL",
        "outputId": "0a2f363b-175b-4a48-f80e-9234eac7808c"
      },
      "execution_count": 15,
      "outputs": [
        {
          "output_type": "stream",
          "name": "stdout",
          "text": [
            "7.5\n"
          ]
        }
      ]
    },
    {
      "cell_type": "code",
      "source": [
        "ar = np.random.randn(16).reshape(4, 4)\n",
        "print(ar)"
      ],
      "metadata": {
        "colab": {
          "base_uri": "https://localhost:8080/"
        },
        "id": "9KzGeFBPuvEk",
        "outputId": "71245ab5-c301-4f9b-9da6-4b2caef5eb3d"
      },
      "execution_count": 21,
      "outputs": [
        {
          "output_type": "stream",
          "name": "stdout",
          "text": [
            "[[ 1.04067975 -0.33587662  1.4297916   1.50545596]\n",
            " [ 0.85648032 -1.07978326 -0.31638977  1.18003087]\n",
            " [-1.18684214 -0.48756202  0.487543   -2.08153995]\n",
            " [ 0.65033511 -0.62126518 -0.38231041  2.16921761]]\n"
          ]
        }
      ]
    },
    {
      "cell_type": "code",
      "source": [
        "print(np.mean(ar, axis = 1)) # an average value among the lines\n",
        "print(np.mean(ar, axis = 0)) # an average value among the superiors"
      ],
      "metadata": {
        "colab": {
          "base_uri": "https://localhost:8080/"
        },
        "id": "_nOFIYu-vvWt",
        "outputId": "dae79522-8dae-44c0-e3e7-ebb10fabc6a4"
      },
      "execution_count": 22,
      "outputs": [
        {
          "output_type": "stream",
          "name": "stdout",
          "text": [
            "[ 0.91001267  0.16008454 -0.81710028  0.45399428]\n",
            "[ 0.34016326 -0.63112177  0.30465861  0.69329112]\n"
          ]
        }
      ]
    },
    {
      "cell_type": "markdown",
      "source": [
        "Method `cumsum`"
      ],
      "metadata": {
        "id": "U-WyldPxwNAV"
      }
    },
    {
      "cell_type": "code",
      "source": [
        "array = np.arange(5)\n",
        "print(np.cumsum(array)) # calculates sum of the previous elements(0 + 1 = 1 => 0 + 1 + 2 = 3 => 0 + 1 + 2 + 3 = 6)"
      ],
      "metadata": {
        "colab": {
          "base_uri": "https://localhost:8080/"
        },
        "id": "SBJsbS4DwHWF",
        "outputId": "ec8a8fbb-db43-4769-b7a5-7ed82764cca6"
      },
      "execution_count": 23,
      "outputs": [
        {
          "output_type": "stream",
          "name": "stdout",
          "text": [
            "[ 0  1  3  6 10]\n"
          ]
        }
      ]
    }
  ]
}