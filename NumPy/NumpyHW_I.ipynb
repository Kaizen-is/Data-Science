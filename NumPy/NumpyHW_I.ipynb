{
  "nbformat": 4,
  "nbformat_minor": 0,
  "metadata": {
    "colab": {
      "provenance": []
    },
    "kernelspec": {
      "name": "python3",
      "display_name": "Python 3"
    },
    "language_info": {
      "name": "python"
    }
  },
  "cells": [
    {
      "cell_type": "markdown",
      "source": [
        "### Numpy Tasks"
      ],
      "metadata": {
        "id": "oxDUDdzMgEZ0"
      }
    },
    {
      "cell_type": "markdown",
      "source": [
        "1. 1D array yarating va 3-elementni chiqarib oling.\n",
        " 2. 2D array yarating va [1][2] elementni toping.\n",
        " 3. 3x4 arraydan oxirgi qatordagi barcha elementlarni oling.\n",
        " 4. Har bir qatordan 2-elementni chiqarib oling (fancy indexing).\n",
        " 5. 5x5 array yarating va [0,2,4] qatorlaridagi [1,3] ustunlarni oling.\n",
        " 6. Arraydagi musbat elementlarni faqat indeks orqali toping.\n",
        "\n",
        "\n",
        "        2. Slicing\n",
        " 1. [10, 20, 30, 40, 50, 60] dan [20, 30, 40] ni oling.\n",
        " 2. 5x5 arraydan markaziy 3x3 bo‘lakni kesib oling.\n",
        " 3. 1D arraydan har ikkinchi elementni oling.\n",
        " 4. [::-1] yordamida arrayni teskari aylantiring.\n",
        " 5. 2D arraydan oxirgi 2 qatordagi birinchi 3 ustunni oling.\n",
        " 6. Arrayni slicing orqali o‘zgartiring (subarrayni boshqa qiymat bilan almashtiring).\n",
        "\n",
        "\n",
        "      3. Filtering\n",
        " 1. [2, 8, -5, 0, 7, -1] dagi musbat elementlarni oling.\n",
        " 2. 10 dan katta elementlarni tanlang.\n",
        " 3. Hatto (juft) sonlarni toping.\n",
        " 4. 2D arraydagi manfiy qiymatlarni toping.\n",
        " 5. 1D arraydagi 3 va 7 ga karrali sonlarni tanlang.\n",
        " 6. [True, False, True, False] ni boolean filter sifatida qo‘llang.\n",
        " 7. Shartga mos kelmaydigan elementlarni 0 bilan almashtiring.\n",
        "\n",
        "\n",
        "        4. np.where, argwhere, nonzero\n",
        " 1. [3, 5, 7, 2, 9] arrayda >5 bo‘lgan indekslarni np.where bilan toping.\n",
        " 2. np.where bilan x > 5 bo‘lsa 1, aks holda 0 qaytaradigan yangi array yarating.\n",
        " 3. 2D arrayda np.argwhere yordamida 0 bo‘lmagan elementlarning koordinatalarini oling.\n",
        " 4. np.nonzero orqali x = [0, 1, 0, 2] dagi nol bo‘lmagan indekslarni toping.\n",
        " 5. np.where bilan 2 ta arrayni shartga qarab birlashtiring (np.where(condition, x, y)).\n",
        " 6. np.argwhere dan foydalanib: manfiy sonlar joylashgan indekslarni ajrating.\n",
        "\n",
        "\n",
        "         5. np.any, np.all\n",
        " 1. [True, False, True] da any va all natijasini hisoblang.\n",
        " 2. 2D arrayda har bir qatorda kamida 1 ta 0 bor-yo‘qligini tekshiring.\n",
        " 3. Har bir ustunda faqat musbat sonlar bor-yo‘qligini tekshiring.\n",
        " 4. Boolean arrayda all yordamida barcha shartlar bajarilganini aniqlang.\n",
        " 5. x > 5 bo‘lgan sonlar mavjudligini any yordamida tekshiring.\n",
        "\n",
        "          6. shape, size, ndim, dtype\n",
        " 1. 3x4 array yaratib, uning .shape, .size, .ndim, .dtype ni chop eting.\n",
        " 2. 1D va 2D arraylar uchun o‘lchamlarni taqqoslang.\n",
        " 3. .reshape() yordamida 1D arrayni 2x3 shaklga o‘tkazing.\n",
        " 4. .dtype o‘zgarishini kuzating (int -> float).\n",
        " 5. .astype() yordamida float arrayni int arrayga aylantiring.\n",
        " 6. np.random bilan yaratilgan 3D arrayni .shape orqali tahlil qiling.\n",
        "\n",
        "\n",
        "7. storega va .nbytes\n",
        " 1. [1, 2, 3, 4] arrayning .nbytes qiymatini toping.\n",
        " 2. 2D float array uchun har bir element va umumiy xotira hajmini hisoblang.\n",
        " 3. .itemsize yordamida element xajmini bilib oling.\n",
        " 4. Har xil .dtype bilan arraylar yaratib, xotira farqini ko‘ring.\n",
        " 5. 1000 ta elementli int va float arrayni solishtiring.\n",
        "\n",
        "\n",
        "8. .transpose(), .T\n",
        " 1. 3x2 arrayni .T bilan transpozitsiya qiling.\n",
        " 2. .reshape(2,3,4) qilib, keyin .transpose(1,0,2) qiling.\n",
        " 3. .T yordamida ustun va qatorlarni almashtiring.\n",
        " 4. 2D arrayni transpozitsiya qilib, matritsa ko‘rinishini tahlil qiling.\n",
        " 5. Transpozitsiya qilingan array ustida hisoblash bajaring (dot, sum).\n",
        "\n",
        "\n",
        " 9. .flat, .tolist(), .real, .imag\n",
        " 1. .flat yordamida 2D array elementlariga bitta loopda kirib chiqing.\n",
        " 2. .tolist() yordamida arrayni oddiy Python ro‘yxatiga aylantiring.\n",
        " 3. Kompleks sonli array yarating va uning .real qismini ajrating.\n",
        " 4. Yuqoridagi arraydan .imag (tasavvuriy) qismini ajrating.\n",
        " 5. .flat[index] = value bilan istalgan joydagi qiymatni o‘zgartiring.\n",
        " 6. .real + .imag orqali kompleks sonni tiklab ko‘ring.\n",
        " 7. .flat yordamida butun arrayni listga aylantirmasdan o‘qing.\n",
        "\n",
        "\n",
        " 10. Added\n",
        " 1. np.clip(x, min, max) yordamida qiymatlarni belgilangan oraliqqa tushiring.\n",
        " 2. np.unique() yordamida noyob qiymatlarni va ularning sonini hisoblang.\n",
        " 3. np.isfinite() yordamida np.nan, np.inf larni tekshiring.\n",
        " 4. np.cumsum() bilan yig‘indi ketma-ketligini yarating.\n",
        " 5. np.diff() bilan farqlarni toping.\n",
        " 6. np.sort() va np.argsort() bilan arrayni tartiblang va indekslarini biling."
      ],
      "metadata": {
        "id": "PO5PjNkBgfQb"
      }
    },
    {
      "cell_type": "markdown",
      "source": [
        "\n",
        "\n",
        "---\n",
        "\n"
      ],
      "metadata": {
        "id": "X3S3BYaFgqNq"
      }
    },
    {
      "cell_type": "markdown",
      "source": [
        "\n",
        "\n",
        "---\n",
        "\n"
      ],
      "metadata": {
        "id": "rrcfjaAOkKog"
      }
    },
    {
      "cell_type": "markdown",
      "source": [
        "### `1`"
      ],
      "metadata": {
        "id": "XQCyTvwbgqtl"
      }
    },
    {
      "cell_type": "markdown",
      "source": [
        "1"
      ],
      "metadata": {
        "id": "Q64hP32FgvoL"
      }
    },
    {
      "cell_type": "markdown",
      "source": [
        "1. 1D array yarating va 3-elementni chiqarib oling."
      ],
      "metadata": {
        "id": "wgfnPbW6g2ZD"
      }
    },
    {
      "cell_type": "code",
      "source": [
        "import numpy as np\n",
        "\n",
        "arr = np.array([1, 2, 3])\n",
        "arr"
      ],
      "metadata": {
        "colab": {
          "base_uri": "https://localhost:8080/"
        },
        "id": "H16BHUCggvJF",
        "outputId": "c298738c-ab35-4e11-ec1b-d9cd6575c70c"
      },
      "execution_count": null,
      "outputs": [
        {
          "output_type": "execute_result",
          "data": {
            "text/plain": [
              "array([1, 2, 3])"
            ]
          },
          "metadata": {},
          "execution_count": 1
        }
      ]
    },
    {
      "cell_type": "markdown",
      "source": [
        " 2. 2D array yarating va [1][2] elementni toping."
      ],
      "metadata": {
        "id": "cWlTdSp6hEVf"
      }
    },
    {
      "cell_type": "code",
      "source": [
        "arr = np.array([[1, 2, 3], [4, 5, 6]])\n",
        "arr[1][2]"
      ],
      "metadata": {
        "colab": {
          "base_uri": "https://localhost:8080/"
        },
        "id": "ungpV7pThC4p",
        "outputId": "04f11466-3a50-4395-c38c-41cbc8411e0c"
      },
      "execution_count": null,
      "outputs": [
        {
          "output_type": "execute_result",
          "data": {
            "text/plain": [
              "np.int64(6)"
            ]
          },
          "metadata": {},
          "execution_count": 2
        }
      ]
    },
    {
      "cell_type": "code",
      "source": [
        "arr[1][:2] # ?"
      ],
      "metadata": {
        "colab": {
          "base_uri": "https://localhost:8080/"
        },
        "id": "uYXx9GUhhUeM",
        "outputId": "d8d8f9cc-8319-4d1b-fcb4-1c8d8b53f1b2"
      },
      "execution_count": null,
      "outputs": [
        {
          "output_type": "execute_result",
          "data": {
            "text/plain": [
              "array([4, 5])"
            ]
          },
          "metadata": {},
          "execution_count": 3
        }
      ]
    },
    {
      "cell_type": "markdown",
      "source": [
        "3. 3x4 arraydan oxirgi qatordagi barcha elementlarni oling."
      ],
      "metadata": {
        "id": "mznhs-ZQhckr"
      }
    },
    {
      "cell_type": "code",
      "source": [
        "arr = np.arange(12).reshape(3, 4)\n",
        "arr"
      ],
      "metadata": {
        "colab": {
          "base_uri": "https://localhost:8080/"
        },
        "id": "O6JPlvcVhZBq",
        "outputId": "db5531b9-bf55-4a38-bc02-352b54dfa692"
      },
      "execution_count": null,
      "outputs": [
        {
          "output_type": "execute_result",
          "data": {
            "text/plain": [
              "array([[ 0,  1,  2,  3],\n",
              "       [ 4,  5,  6,  7],\n",
              "       [ 8,  9, 10, 11]])"
            ]
          },
          "metadata": {},
          "execution_count": 9
        }
      ]
    },
    {
      "cell_type": "code",
      "source": [
        "arr[2][:]"
      ],
      "metadata": {
        "colab": {
          "base_uri": "https://localhost:8080/"
        },
        "id": "IqMKLHYfho5F",
        "outputId": "e95587bc-197e-4423-83aa-6fdd5b18fc18"
      },
      "execution_count": null,
      "outputs": [
        {
          "output_type": "execute_result",
          "data": {
            "text/plain": [
              "array([ 8,  9, 10, 11])"
            ]
          },
          "metadata": {},
          "execution_count": 8
        }
      ]
    },
    {
      "cell_type": "markdown",
      "source": [
        " 4. Har bir qatordan 2-elementni chiqarib oling (fancy indexing).\n"
      ],
      "metadata": {
        "id": "jeK7M_-yh3Id"
      }
    },
    {
      "cell_type": "code",
      "source": [
        "arr[:, 2]"
      ],
      "metadata": {
        "colab": {
          "base_uri": "https://localhost:8080/"
        },
        "id": "aUU9fj31hvSq",
        "outputId": "fcad0574-4945-4826-9151-d61e6a806d1a"
      },
      "execution_count": null,
      "outputs": [
        {
          "output_type": "execute_result",
          "data": {
            "text/plain": [
              "array([ 2,  6, 10])"
            ]
          },
          "metadata": {},
          "execution_count": 24
        }
      ]
    },
    {
      "cell_type": "markdown",
      "source": [
        " 5. 5x5 array yarating va [0,2,4] qatorlaridagi [1,3] ustunlarni oling."
      ],
      "metadata": {
        "id": "4TvaC8j4jZtC"
      }
    },
    {
      "cell_type": "code",
      "source": [
        "arr = np.arange(1, 26).reshape(5, 5)\n",
        "arr"
      ],
      "metadata": {
        "colab": {
          "base_uri": "https://localhost:8080/"
        },
        "id": "zcZvh9uFiXtJ",
        "outputId": "f63fae59-e903-49cf-e2e7-136606056459"
      },
      "execution_count": null,
      "outputs": [
        {
          "output_type": "execute_result",
          "data": {
            "text/plain": [
              "array([[ 1,  2,  3,  4,  5],\n",
              "       [ 6,  7,  8,  9, 10],\n",
              "       [11, 12, 13, 14, 15],\n",
              "       [16, 17, 18, 19, 20],\n",
              "       [21, 22, 23, 24, 25]])"
            ]
          },
          "metadata": {},
          "execution_count": 26
        }
      ]
    },
    {
      "cell_type": "code",
      "source": [
        "ind = [1, 3]\n",
        "arr[::2, ind]"
      ],
      "metadata": {
        "colab": {
          "base_uri": "https://localhost:8080/"
        },
        "id": "EUK_2KkgjoNc",
        "outputId": "dbab8b18-5ad0-44fe-e300-ecb095b13c8e"
      },
      "execution_count": null,
      "outputs": [
        {
          "output_type": "execute_result",
          "data": {
            "text/plain": [
              "array([[ 2,  4],\n",
              "       [12, 14],\n",
              "       [22, 24]])"
            ]
          },
          "metadata": {},
          "execution_count": 29
        }
      ]
    },
    {
      "cell_type": "markdown",
      "source": [
        " 6. Arraydagi musbat elementlarni faqat indeks orqali toping."
      ],
      "metadata": {
        "id": "JHiMO2nMkL9M"
      }
    },
    {
      "cell_type": "code",
      "source": [
        "arr[arr > 0]"
      ],
      "metadata": {
        "colab": {
          "base_uri": "https://localhost:8080/"
        },
        "id": "uVR2ZwCbj1Q9",
        "outputId": "1c302cbb-8125-4b8b-9c4a-033e1c839681"
      },
      "execution_count": null,
      "outputs": [
        {
          "output_type": "execute_result",
          "data": {
            "text/plain": [
              "array([ 1,  2,  3,  4,  5,  6,  7,  8,  9, 10, 11, 12, 13, 14, 15, 16, 17,\n",
              "       18, 19, 20, 21, 22, 23, 24, 25])"
            ]
          },
          "metadata": {},
          "execution_count": 30
        }
      ]
    },
    {
      "cell_type": "markdown",
      "source": [
        "\n",
        "\n",
        "---\n",
        "\n",
        "\n",
        "\n",
        "---\n",
        "\n"
      ],
      "metadata": {
        "id": "56oNjWYtkSqJ"
      }
    },
    {
      "cell_type": "markdown",
      "source": [
        "### `2.Slicing`"
      ],
      "metadata": {
        "id": "DxrbsQnTkXyL"
      }
    },
    {
      "cell_type": "markdown",
      "source": [
        " 1. [10, 20, 30, 40, 50, 60] dan [20, 30, 40] ni oling."
      ],
      "metadata": {
        "id": "x-OQTz2Ikbee"
      }
    },
    {
      "cell_type": "code",
      "source": [
        "arr = np.array([10, 20, 30, 40, 50, 60])\n",
        "arr[1:4]"
      ],
      "metadata": {
        "colab": {
          "base_uri": "https://localhost:8080/"
        },
        "id": "6hY72gt2kRLI",
        "outputId": "d98d4a98-cb53-46f5-d9ae-98ba3ace9c9d"
      },
      "execution_count": null,
      "outputs": [
        {
          "output_type": "execute_result",
          "data": {
            "text/plain": [
              "array([20, 30, 40])"
            ]
          },
          "metadata": {},
          "execution_count": 32
        }
      ]
    },
    {
      "cell_type": "markdown",
      "source": [
        " 2. 5x5 arraydan markaziy 3x3 bo‘lakni kesib oling."
      ],
      "metadata": {
        "id": "vQya1ZuVku-5"
      }
    },
    {
      "cell_type": "code",
      "source": [
        "arr = np.random.randint(1, 100, size = [5, 5])\n",
        "arr"
      ],
      "metadata": {
        "colab": {
          "base_uri": "https://localhost:8080/"
        },
        "id": "Gjzz5TRAkprQ",
        "outputId": "558b647f-0634-42f2-a600-f5b693eddfe2"
      },
      "execution_count": null,
      "outputs": [
        {
          "output_type": "execute_result",
          "data": {
            "text/plain": [
              "array([[29, 17, 68, 11, 98],\n",
              "       [11, 40, 49, 97, 96],\n",
              "       [32, 90, 77, 72,  4],\n",
              "       [17, 12, 37, 10, 36],\n",
              "       [11, 91, 22, 13, 89]])"
            ]
          },
          "metadata": {},
          "execution_count": 35
        }
      ]
    },
    {
      "cell_type": "code",
      "source": [
        "arr = arr[:, 1:4]\n",
        "arr[1:4, :]"
      ],
      "metadata": {
        "colab": {
          "base_uri": "https://localhost:8080/"
        },
        "id": "yuFduZdck5pP",
        "outputId": "d03ed16b-2132-453c-cb5b-7feec89d5585"
      },
      "execution_count": null,
      "outputs": [
        {
          "output_type": "execute_result",
          "data": {
            "text/plain": [
              "array([[40, 49, 97],\n",
              "       [90, 77, 72],\n",
              "       [12, 37, 10]])"
            ]
          },
          "metadata": {},
          "execution_count": 38
        }
      ]
    },
    {
      "cell_type": "markdown",
      "source": [
        " 3. 1D arraydan har ikkinchi elementni oling."
      ],
      "metadata": {
        "id": "Uw-NEdMGlvj4"
      }
    },
    {
      "cell_type": "code",
      "source": [
        "arr = np.arange(11)\n",
        "arr[::2]"
      ],
      "metadata": {
        "colab": {
          "base_uri": "https://localhost:8080/"
        },
        "id": "1xw7_ZMElbvR",
        "outputId": "8741f7c5-1132-41ca-b852-c4ec08555d9d"
      },
      "execution_count": null,
      "outputs": [
        {
          "output_type": "execute_result",
          "data": {
            "text/plain": [
              "array([ 0,  2,  4,  6,  8, 10])"
            ]
          },
          "metadata": {},
          "execution_count": 46
        }
      ]
    },
    {
      "cell_type": "markdown",
      "source": [
        "4. [::-1] yordamida arrayni teskari aylantiring."
      ],
      "metadata": {
        "id": "OACbMxx_mGUK"
      }
    },
    {
      "cell_type": "code",
      "source": [
        "arr[:-1]"
      ],
      "metadata": {
        "colab": {
          "base_uri": "https://localhost:8080/"
        },
        "id": "heAHnOX4l3O2",
        "outputId": "a33b33a7-8add-4f17-8f96-130b44fbe8e4"
      },
      "execution_count": null,
      "outputs": [
        {
          "output_type": "execute_result",
          "data": {
            "text/plain": [
              "array([0, 1, 2, 3, 4, 5, 6, 7, 8, 9])"
            ]
          },
          "metadata": {},
          "execution_count": 47
        }
      ]
    },
    {
      "cell_type": "markdown",
      "source": [
        " 5. 2D arraydan oxirgi 2 qatordagi birinchi 3 ustunni oling."
      ],
      "metadata": {
        "id": "nLC_YT8amMAO"
      }
    },
    {
      "cell_type": "code",
      "source": [
        "arr = np.array([[1, 2, 3, 4, 5], [4, 5, 6, 7, 8], [7, 8, 9, 10, 11], [11, 12, 13, 14, 15]])\n",
        "arr"
      ],
      "metadata": {
        "colab": {
          "base_uri": "https://localhost:8080/"
        },
        "id": "lE-He2OPmKvE",
        "outputId": "dc5c5589-05ea-4c21-d0b0-717472f67486"
      },
      "execution_count": null,
      "outputs": [
        {
          "output_type": "execute_result",
          "data": {
            "text/plain": [
              "array([[ 1,  2,  3,  4,  5],\n",
              "       [ 4,  5,  6,  7,  8],\n",
              "       [ 7,  8,  9, 10, 11],\n",
              "       [11, 12, 13, 14, 15]])"
            ]
          },
          "metadata": {},
          "execution_count": 54
        }
      ]
    },
    {
      "cell_type": "code",
      "source": [
        "arr[-2:, :3]"
      ],
      "metadata": {
        "colab": {
          "base_uri": "https://localhost:8080/"
        },
        "id": "5vEnNo24mcHt",
        "outputId": "e949866f-7499-4678-ecf8-479ae5a33837"
      },
      "execution_count": null,
      "outputs": [
        {
          "output_type": "execute_result",
          "data": {
            "text/plain": [
              "array([[ 7,  8,  9],\n",
              "       [11, 12, 13]])"
            ]
          },
          "metadata": {},
          "execution_count": 53
        }
      ]
    },
    {
      "cell_type": "markdown",
      "source": [
        "\n",
        "\n",
        "---\n",
        "\n",
        "\n",
        "\n",
        "---\n",
        "\n"
      ],
      "metadata": {
        "id": "riYZgMxAnGxo"
      }
    },
    {
      "cell_type": "markdown",
      "source": [
        "###       `3. Filtering`\n"
      ],
      "metadata": {
        "id": "FU79O-CGnHik"
      }
    },
    {
      "cell_type": "markdown",
      "source": [
        " 1. [2, 8, -5, 0, 7, -1] dagi musbat elementlarni oling."
      ],
      "metadata": {
        "id": "pcqkNeV_nOKZ"
      }
    },
    {
      "cell_type": "code",
      "source": [
        "arr = np.array([2, 8, -5, 0, 7, -1])\n",
        "arr"
      ],
      "metadata": {
        "colab": {
          "base_uri": "https://localhost:8080/"
        },
        "id": "BTsv0bkzmhie",
        "outputId": "4e2105fe-0d81-41dd-fdfa-a415d82ca267"
      },
      "execution_count": null,
      "outputs": [
        {
          "output_type": "execute_result",
          "data": {
            "text/plain": [
              "array([ 2,  8, -5,  0,  7, -1])"
            ]
          },
          "metadata": {},
          "execution_count": 55
        }
      ]
    },
    {
      "cell_type": "code",
      "source": [
        "arr[arr > 0]"
      ],
      "metadata": {
        "colab": {
          "base_uri": "https://localhost:8080/"
        },
        "id": "AULchM8onT_O",
        "outputId": "b75e3389-546a-4f15-f9f3-b02304a44496"
      },
      "execution_count": null,
      "outputs": [
        {
          "output_type": "execute_result",
          "data": {
            "text/plain": [
              "array([2, 8, 7])"
            ]
          },
          "metadata": {},
          "execution_count": 56
        }
      ]
    },
    {
      "cell_type": "markdown",
      "source": [
        "2. 3 dan katta elementlarni tanlang."
      ],
      "metadata": {
        "id": "hHZVZaDAnb_6"
      }
    },
    {
      "cell_type": "code",
      "source": [
        "arr[arr > 3]"
      ],
      "metadata": {
        "colab": {
          "base_uri": "https://localhost:8080/"
        },
        "id": "ezRBIt4InY5H",
        "outputId": "c30db981-9c43-4bd4-9e5e-1a0d79feeb2a"
      },
      "execution_count": null,
      "outputs": [
        {
          "output_type": "execute_result",
          "data": {
            "text/plain": [
              "array([8, 7])"
            ]
          },
          "metadata": {},
          "execution_count": 58
        }
      ]
    },
    {
      "cell_type": "markdown",
      "source": [
        "3. Hatto (juft) sonlarni toping."
      ],
      "metadata": {
        "id": "rwwSkSqDnjwb"
      }
    },
    {
      "cell_type": "code",
      "source": [
        "arr[arr % 2 == 0]"
      ],
      "metadata": {
        "colab": {
          "base_uri": "https://localhost:8080/"
        },
        "id": "Jxyps9m-nfMI",
        "outputId": "22120318-eb01-42f1-b257-153942eef855"
      },
      "execution_count": null,
      "outputs": [
        {
          "output_type": "execute_result",
          "data": {
            "text/plain": [
              "array([2, 8, 0])"
            ]
          },
          "metadata": {},
          "execution_count": 59
        }
      ]
    },
    {
      "cell_type": "markdown",
      "source": [
        " 4. 2D arraydagi manfiy qiymatlarni toping."
      ],
      "metadata": {
        "id": "EcHWd2UgnqwO"
      }
    },
    {
      "cell_type": "code",
      "source": [
        "arr[arr < 0]"
      ],
      "metadata": {
        "colab": {
          "base_uri": "https://localhost:8080/"
        },
        "id": "qa25XWLynoRk",
        "outputId": "1de7ff91-a2a1-4ffa-c772-b7ba499ec40b"
      },
      "execution_count": null,
      "outputs": [
        {
          "output_type": "execute_result",
          "data": {
            "text/plain": [
              "array([-5, -1])"
            ]
          },
          "metadata": {},
          "execution_count": 60
        }
      ]
    },
    {
      "cell_type": "markdown",
      "source": [
        " 5. 1D arraydagi 3 va 7 ga karrali sonlarni tanlang."
      ],
      "metadata": {
        "id": "jkXbeOELnxNA"
      }
    },
    {
      "cell_type": "code",
      "source": [
        "arr = np.arange(0, 100, 3)\n",
        "arr"
      ],
      "metadata": {
        "colab": {
          "base_uri": "https://localhost:8080/"
        },
        "id": "XX8evydJnuUW",
        "outputId": "a9128530-6cab-43e6-b482-5c4a2a30f364"
      },
      "execution_count": null,
      "outputs": [
        {
          "output_type": "execute_result",
          "data": {
            "text/plain": [
              "array([ 0,  3,  6,  9, 12, 15, 18, 21, 24, 27, 30, 33, 36, 39, 42, 45, 48,\n",
              "       51, 54, 57, 60, 63, 66, 69, 72, 75, 78, 81, 84, 87, 90, 93, 96, 99])"
            ]
          },
          "metadata": {},
          "execution_count": 64
        }
      ]
    },
    {
      "cell_type": "code",
      "source": [
        "arr[(arr % 3 == 0) & (arr % 7 == 0)]"
      ],
      "metadata": {
        "colab": {
          "base_uri": "https://localhost:8080/"
        },
        "id": "HqenVRiUn9oq",
        "outputId": "9558a488-9ae5-4a23-f586-c3e8833dc49a"
      },
      "execution_count": null,
      "outputs": [
        {
          "output_type": "execute_result",
          "data": {
            "text/plain": [
              "array([ 0, 21, 42, 63, 84])"
            ]
          },
          "metadata": {},
          "execution_count": 66
        }
      ]
    },
    {
      "cell_type": "markdown",
      "source": [
        " 6. [True, False, True, False] ni boolean filter sifatida qo‘llang."
      ],
      "metadata": {
        "id": "c83OmmDTo5sF"
      }
    },
    {
      "cell_type": "code",
      "source": [
        "arr = np.array([1, 2, 3, 4])\n",
        "arr[[True, False, True, False]]"
      ],
      "metadata": {
        "colab": {
          "base_uri": "https://localhost:8080/"
        },
        "id": "m1y23-nmoFyk",
        "outputId": "61f31fb1-d24b-4737-fc1e-9c90cdb0ed35"
      },
      "execution_count": null,
      "outputs": [
        {
          "output_type": "execute_result",
          "data": {
            "text/plain": [
              "array([1, 3])"
            ]
          },
          "metadata": {},
          "execution_count": 75
        }
      ]
    },
    {
      "cell_type": "markdown",
      "source": [
        " 7. Shartga mos kelmaydigan elementlarni 0 bilan almashtiring."
      ],
      "metadata": {
        "id": "gfwzR0gOpjcg"
      }
    },
    {
      "cell_type": "code",
      "source": [
        "arr = np.where(arr % 2 == 0, 1, 0)\n",
        "arr"
      ],
      "metadata": {
        "colab": {
          "base_uri": "https://localhost:8080/"
        },
        "id": "FRSdbFFPo82t",
        "outputId": "537423e0-a3b7-446d-faa4-c1198fa629b5"
      },
      "execution_count": null,
      "outputs": [
        {
          "output_type": "execute_result",
          "data": {
            "text/plain": [
              "array([0, 1, 0, 1])"
            ]
          },
          "metadata": {},
          "execution_count": 79
        }
      ]
    },
    {
      "cell_type": "code",
      "source": [
        "arr = np.array([1, 2, 3, 4])\n",
        "arr[arr % 2 == 1] = 0\n",
        "arr"
      ],
      "metadata": {
        "colab": {
          "base_uri": "https://localhost:8080/"
        },
        "id": "adcM1v2opyKN",
        "outputId": "6bdbf357-96cb-4546-cade-8e760ac1b86d"
      },
      "execution_count": null,
      "outputs": [
        {
          "output_type": "execute_result",
          "data": {
            "text/plain": [
              "array([0, 2, 0, 4])"
            ]
          },
          "metadata": {},
          "execution_count": 80
        }
      ]
    },
    {
      "cell_type": "markdown",
      "source": [
        "\n",
        "\n",
        "---\n",
        "\n",
        "\n",
        "\n",
        "---\n",
        "\n"
      ],
      "metadata": {
        "id": "oSgOORCMqVZu"
      }
    },
    {
      "cell_type": "markdown",
      "source": [
        "### `4. np.where, argwhere, nonzero `"
      ],
      "metadata": {
        "id": "-MVit3GPqWOm"
      }
    },
    {
      "cell_type": "markdown",
      "source": [
        " 1. [3, 5, 7, 2, 9] arrayda >5 bo‘lgan indekslarni np.where bilan toping."
      ],
      "metadata": {
        "id": "94bhq8WQqaoY"
      }
    },
    {
      "cell_type": "code",
      "source": [
        "arr = np.array([3, 5, 7, 2, 9])\n",
        "np.where(arr > 5, 'B', 'S')"
      ],
      "metadata": {
        "colab": {
          "base_uri": "https://localhost:8080/"
        },
        "id": "RTPbfW6gqLFw",
        "outputId": "a42050a4-47ae-41a3-8bd5-51459145b901"
      },
      "execution_count": null,
      "outputs": [
        {
          "output_type": "execute_result",
          "data": {
            "text/plain": [
              "array(['S', 'S', 'B', 'S', 'B'], dtype='<U1')"
            ]
          },
          "metadata": {},
          "execution_count": 83
        }
      ]
    },
    {
      "cell_type": "code",
      "source": [
        "arr[arr > 5]"
      ],
      "metadata": {
        "colab": {
          "base_uri": "https://localhost:8080/"
        },
        "id": "3-7-Mx4Wqlvj",
        "outputId": "bdc7e7f4-eea0-410c-b240-17c85c300fcc"
      },
      "execution_count": null,
      "outputs": [
        {
          "output_type": "execute_result",
          "data": {
            "text/plain": [
              "array([7, 9])"
            ]
          },
          "metadata": {},
          "execution_count": 84
        }
      ]
    },
    {
      "cell_type": "markdown",
      "source": [
        " 2. np.where bilan x > 5 bo‘lsa 1, aks holda 0 qaytaradigan yangi array yarating."
      ],
      "metadata": {
        "id": "XG9yAR2qq9sk"
      }
    },
    {
      "cell_type": "code",
      "source": [
        "arr = np.arange(11)\n",
        "arr"
      ],
      "metadata": {
        "colab": {
          "base_uri": "https://localhost:8080/"
        },
        "id": "DZag4FCWq6s1",
        "outputId": "a44b9257-0d27-4ed2-d17d-01dd97a74820"
      },
      "execution_count": null,
      "outputs": [
        {
          "output_type": "execute_result",
          "data": {
            "text/plain": [
              "array([ 0,  1,  2,  3,  4,  5,  6,  7,  8,  9, 10])"
            ]
          },
          "metadata": {},
          "execution_count": 85
        }
      ]
    },
    {
      "cell_type": "code",
      "source": [
        "np.where(arr > 5, 1, 0)\n"
      ],
      "metadata": {
        "colab": {
          "base_uri": "https://localhost:8080/"
        },
        "id": "9rbfZHzerH8b",
        "outputId": "cb996a35-2c79-4fd0-a1d6-81ed0d3bf15d"
      },
      "execution_count": null,
      "outputs": [
        {
          "output_type": "execute_result",
          "data": {
            "text/plain": [
              "array([0, 0, 0, 0, 0, 0, 1, 1, 1, 1, 1])"
            ]
          },
          "metadata": {},
          "execution_count": 86
        }
      ]
    },
    {
      "cell_type": "markdown",
      "source": [
        " 3. 2D arrayda np.argwhere yordamida 0 bo‘lmagan elementlarning koordinatalarini oling."
      ],
      "metadata": {
        "id": "5Ky5dL3MrQzi"
      }
    },
    {
      "cell_type": "code",
      "source": [
        "arr = np.array([[1, 2, 0], [4, 0, 6]])\n",
        "np.argwhere(arr)"
      ],
      "metadata": {
        "colab": {
          "base_uri": "https://localhost:8080/"
        },
        "id": "T_WzFBoFrORi",
        "outputId": "2124bc66-e98b-4a98-8f0b-178efb45a904"
      },
      "execution_count": null,
      "outputs": [
        {
          "output_type": "execute_result",
          "data": {
            "text/plain": [
              "array([[0, 0],\n",
              "       [0, 1],\n",
              "       [1, 0],\n",
              "       [1, 2]])"
            ]
          },
          "metadata": {},
          "execution_count": 88
        }
      ]
    },
    {
      "cell_type": "markdown",
      "source": [
        " 4. np.nonzero orqali x = [0, 1, 0, 2] dagi nol bo‘lmagan indekslarni toping.\n"
      ],
      "metadata": {
        "id": "bo6rOSQRrybh"
      }
    },
    {
      "cell_type": "code",
      "source": [
        "arr = np.array([0, 1, 0, 2])\n",
        "arr"
      ],
      "metadata": {
        "colab": {
          "base_uri": "https://localhost:8080/"
        },
        "id": "V-4z83GWrm21",
        "outputId": "e3d2e790-43e6-4bfd-e6f4-fc920658fad6"
      },
      "execution_count": null,
      "outputs": [
        {
          "output_type": "execute_result",
          "data": {
            "text/plain": [
              "array([0, 1, 0, 2])"
            ]
          },
          "metadata": {},
          "execution_count": 90
        }
      ]
    },
    {
      "cell_type": "code",
      "source": [
        "np.nonzero(arr)"
      ],
      "metadata": {
        "colab": {
          "base_uri": "https://localhost:8080/"
        },
        "id": "I-qiV2QYr4qE",
        "outputId": "f61fbd95-b42d-4117-f53f-419dea212e55"
      },
      "execution_count": null,
      "outputs": [
        {
          "output_type": "execute_result",
          "data": {
            "text/plain": [
              "(array([1, 3]),)"
            ]
          },
          "metadata": {},
          "execution_count": 91
        }
      ]
    },
    {
      "cell_type": "code",
      "source": [
        "arr[np.nonzero(arr)]"
      ],
      "metadata": {
        "colab": {
          "base_uri": "https://localhost:8080/"
        },
        "id": "AwWNHBCur97B",
        "outputId": "e62a4618-6839-4bcc-c094-15af92ca9a3e"
      },
      "execution_count": null,
      "outputs": [
        {
          "output_type": "execute_result",
          "data": {
            "text/plain": [
              "array([1, 2])"
            ]
          },
          "metadata": {},
          "execution_count": 92
        }
      ]
    },
    {
      "cell_type": "markdown",
      "source": [
        " 5. np.where bilan 2 ta arrayni shartga qarab birlashtiring (np.where(condition, x, y))."
      ],
      "metadata": {
        "id": "vO_bg3CusFD3"
      }
    },
    {
      "cell_type": "code",
      "source": [
        "arr = np.array([1, 2, 3])\n",
        "arr1 = np.array([4, 5, 6])\n",
        "res = np.concatenate((np.where(arr % 2 == 1, arr, 0), np.where(arr1 % 2 == 0, arr1, 0)))\n",
        "res"
      ],
      "metadata": {
        "colab": {
          "base_uri": "https://localhost:8080/"
        },
        "id": "d_mRINHXsCQz",
        "outputId": "776edd5e-fa3b-4479-a94c-2ff7ed3e0091"
      },
      "execution_count": null,
      "outputs": [
        {
          "output_type": "execute_result",
          "data": {
            "text/plain": [
              "array([1, 0, 3, 4, 0, 6])"
            ]
          },
          "metadata": {},
          "execution_count": 99
        }
      ]
    },
    {
      "cell_type": "code",
      "source": [
        "res[np.nonzero(res)]"
      ],
      "metadata": {
        "colab": {
          "base_uri": "https://localhost:8080/"
        },
        "id": "PwEIYlGusf6X",
        "outputId": "642cb932-d3dd-47eb-aff3-4ca193108f97"
      },
      "execution_count": null,
      "outputs": [
        {
          "output_type": "execute_result",
          "data": {
            "text/plain": [
              "array([1, 3, 4, 6])"
            ]
          },
          "metadata": {},
          "execution_count": 103
        }
      ]
    },
    {
      "cell_type": "markdown",
      "source": [
        " 6. np.argwhere dan foydalanib: manfiy sonlar joylashgan indekslarni ajrating.\n"
      ],
      "metadata": {
        "id": "xYleWHICtkaB"
      }
    },
    {
      "cell_type": "code",
      "source": [
        "arr = np.random.randn(3, 3)\n",
        "arr"
      ],
      "metadata": {
        "colab": {
          "base_uri": "https://localhost:8080/"
        },
        "id": "h3JKUlMttWId",
        "outputId": "db0366e6-6a36-43d5-8809-310534549d84"
      },
      "execution_count": null,
      "outputs": [
        {
          "output_type": "execute_result",
          "data": {
            "text/plain": [
              "array([[-0.55655733,  0.40972276,  1.80195207],\n",
              "       [ 0.81532127, -0.37804398, -0.02593401],\n",
              "       [ 0.23347293, -0.4894717 , -0.67493373]])"
            ]
          },
          "metadata": {},
          "execution_count": 109
        }
      ]
    },
    {
      "cell_type": "code",
      "source": [
        "np.argwhere(arr)"
      ],
      "metadata": {
        "colab": {
          "base_uri": "https://localhost:8080/"
        },
        "id": "0vWIiR4itvS1",
        "outputId": "8dcbfee0-58be-4837-fe39-a0f0d5690fcd"
      },
      "execution_count": null,
      "outputs": [
        {
          "output_type": "execute_result",
          "data": {
            "text/plain": [
              "array([[0, 0],\n",
              "       [0, 1],\n",
              "       [0, 2],\n",
              "       [1, 0],\n",
              "       [1, 1],\n",
              "       [1, 2],\n",
              "       [2, 0],\n",
              "       [2, 1],\n",
              "       [2, 2]])"
            ]
          },
          "metadata": {},
          "execution_count": 110
        }
      ]
    },
    {
      "cell_type": "markdown",
      "source": [
        "\n",
        "\n",
        "---\n",
        "\n",
        "\n",
        "\n",
        "---\n",
        "\n"
      ],
      "metadata": {
        "id": "Rf0oYloPNiYX"
      }
    },
    {
      "cell_type": "markdown",
      "source": [
        "### `5. np.any, np.all`"
      ],
      "metadata": {
        "id": "75umaxjcNkjc"
      }
    },
    {
      "cell_type": "markdown",
      "source": [
        "\n",
        " 1. [True, False, True] da any va all natijasini hisoblang."
      ],
      "metadata": {
        "id": "tY5-iM86NpuE"
      }
    },
    {
      "cell_type": "code",
      "source": [
        "np.all(arr[True, True, True, False])"
      ],
      "metadata": {
        "colab": {
          "base_uri": "https://localhost:8080/"
        },
        "id": "sS6ytxumlnJx",
        "outputId": "5bfbb835-aceb-4b01-8518-bc03be160ed8"
      },
      "execution_count": null,
      "outputs": [
        {
          "output_type": "execute_result",
          "data": {
            "text/plain": [
              "np.True_"
            ]
          },
          "metadata": {},
          "execution_count": 3
        }
      ]
    },
    {
      "cell_type": "markdown",
      "source": [
        " 3. Har bir ustunda faqat musbat sonlar bor-yo‘qligini tekshiring.\n"
      ],
      "metadata": {
        "id": "0komdfF7l9oZ"
      }
    },
    {
      "cell_type": "code",
      "source": [
        "arr = np.array([[1, -2, 3], [4, 5, 6]])\n",
        "np.all(arr > 0, axis = 1)"
      ],
      "metadata": {
        "colab": {
          "base_uri": "https://localhost:8080/"
        },
        "id": "s6NqGepfnw4z",
        "outputId": "9804f5d8-e2e7-4e43-9194-90161aa10b6f"
      },
      "execution_count": null,
      "outputs": [
        {
          "output_type": "execute_result",
          "data": {
            "text/plain": [
              "array([False,  True])"
            ]
          },
          "metadata": {},
          "execution_count": 8
        }
      ]
    },
    {
      "cell_type": "markdown",
      "source": [
        " 4. Boolean arrayda all yordamida barcha shartlar bajarilganini aniqlang.\n"
      ],
      "metadata": {
        "id": "3cHJRSzkoT3E"
      }
    },
    {
      "cell_type": "code",
      "source": [
        "arr = np.array([[1, -2, 3], [-4, 5, 6]])\n",
        "np.all(arr > 0)"
      ],
      "metadata": {
        "colab": {
          "base_uri": "https://localhost:8080/"
        },
        "id": "-SVIKTvpnxtc",
        "outputId": "c933c015-cf93-431a-d8fe-a1ebfacf7e61"
      },
      "execution_count": null,
      "outputs": [
        {
          "output_type": "execute_result",
          "data": {
            "text/plain": [
              "np.False_"
            ]
          },
          "metadata": {},
          "execution_count": 10
        }
      ]
    },
    {
      "cell_type": "markdown",
      "source": [
        " 5. x > 5 bo‘lgan sonlar mavjudligini any yordamida tekshiring.\n"
      ],
      "metadata": {
        "id": "eJmZXBxVoej4"
      }
    },
    {
      "cell_type": "code",
      "source": [
        "arr = np.random.randint(10, size = [10])\n",
        "arr"
      ],
      "metadata": {
        "colab": {
          "base_uri": "https://localhost:8080/"
        },
        "id": "mx83qAPTocTe",
        "outputId": "44c8e51e-2623-4a9f-a03b-00a35309191c"
      },
      "execution_count": null,
      "outputs": [
        {
          "output_type": "execute_result",
          "data": {
            "text/plain": [
              "array([7, 4, 5, 1, 0, 1, 8, 6, 1, 2])"
            ]
          },
          "metadata": {},
          "execution_count": 11
        }
      ]
    },
    {
      "cell_type": "code",
      "source": [
        "np.any(arr > 5)"
      ],
      "metadata": {
        "colab": {
          "base_uri": "https://localhost:8080/"
        },
        "id": "TA2Qn8Xxo5vf",
        "outputId": "2a598822-bbbe-41cc-852c-a83d85425d97"
      },
      "execution_count": null,
      "outputs": [
        {
          "output_type": "execute_result",
          "data": {
            "text/plain": [
              "np.True_"
            ]
          },
          "metadata": {},
          "execution_count": 12
        }
      ]
    },
    {
      "cell_type": "markdown",
      "source": [
        "\n",
        "\n",
        "---\n",
        "\n",
        "\n",
        "\n",
        "---\n",
        "\n"
      ],
      "metadata": {
        "id": "T6OWW-MTpEyE"
      }
    },
    {
      "cell_type": "markdown",
      "source": [
        "\n",
        "`6. shape, size, ndim, dtype`"
      ],
      "metadata": {
        "id": "WLSgLGkApFTZ"
      }
    },
    {
      "cell_type": "markdown",
      "source": [
        " 1. 3x4 array yaratib, uning .shape, .size, .ndim, .dtype ni chop eting.\n"
      ],
      "metadata": {
        "id": "MBvc4mkSpKQJ"
      }
    },
    {
      "cell_type": "code",
      "source": [
        "arr = np.arange(12).reshape(3, 4)\n",
        "arr"
      ],
      "metadata": {
        "colab": {
          "base_uri": "https://localhost:8080/"
        },
        "id": "grY1GUNYo9RN",
        "outputId": "f738bdf6-8d6f-4664-8118-fd01d7987242"
      },
      "execution_count": null,
      "outputs": [
        {
          "output_type": "execute_result",
          "data": {
            "text/plain": [
              "array([[ 0,  1,  2,  3],\n",
              "       [ 4,  5,  6,  7],\n",
              "       [ 8,  9, 10, 11]])"
            ]
          },
          "metadata": {},
          "execution_count": 13
        }
      ]
    },
    {
      "cell_type": "code",
      "source": [
        "arr.shape"
      ],
      "metadata": {
        "colab": {
          "base_uri": "https://localhost:8080/"
        },
        "id": "Ev5GGYV9pSPP",
        "outputId": "e5ba3dcf-bafc-4437-a55c-f4e9abf0dccd"
      },
      "execution_count": null,
      "outputs": [
        {
          "output_type": "execute_result",
          "data": {
            "text/plain": [
              "(3, 4)"
            ]
          },
          "metadata": {},
          "execution_count": 14
        }
      ]
    },
    {
      "cell_type": "code",
      "source": [
        "arr.size"
      ],
      "metadata": {
        "colab": {
          "base_uri": "https://localhost:8080/"
        },
        "id": "tbh8w1irpUdi",
        "outputId": "197b1c0d-08c4-4463-844a-f8ddb162c51b"
      },
      "execution_count": null,
      "outputs": [
        {
          "output_type": "execute_result",
          "data": {
            "text/plain": [
              "12"
            ]
          },
          "metadata": {},
          "execution_count": 15
        }
      ]
    },
    {
      "cell_type": "code",
      "source": [
        "arr.ndim"
      ],
      "metadata": {
        "colab": {
          "base_uri": "https://localhost:8080/"
        },
        "id": "kZ78UykKpVnl",
        "outputId": "6f58e369-33e3-4e63-ccdf-8e1a502d836b"
      },
      "execution_count": null,
      "outputs": [
        {
          "output_type": "execute_result",
          "data": {
            "text/plain": [
              "2"
            ]
          },
          "metadata": {},
          "execution_count": 16
        }
      ]
    },
    {
      "cell_type": "code",
      "source": [
        "arr.dtype"
      ],
      "metadata": {
        "colab": {
          "base_uri": "https://localhost:8080/"
        },
        "id": "hU2WVTDMpXMw",
        "outputId": "1839410d-74f3-4b78-bc89-e6d9e1d170b5"
      },
      "execution_count": null,
      "outputs": [
        {
          "output_type": "execute_result",
          "data": {
            "text/plain": [
              "dtype('int64')"
            ]
          },
          "metadata": {},
          "execution_count": 17
        }
      ]
    },
    {
      "cell_type": "markdown",
      "source": [
        " 2. 1D va 2D arraylar uchun o‘lchamlarni taqqoslang.\n"
      ],
      "metadata": {
        "id": "PYrRg0yUpesF"
      }
    },
    {
      "cell_type": "code",
      "source": [
        "arr = np.array([1, 2, 3])\n",
        "arr1 = np.array([[1,2, 3], [4, 5, 6]])\n",
        "print(arr.ndim)\n",
        "print(arr1.ndim)"
      ],
      "metadata": {
        "colab": {
          "base_uri": "https://localhost:8080/"
        },
        "id": "T4J13gYPpclj",
        "outputId": "6efdfa11-e2de-4a21-c344-76930abc0a2e"
      },
      "execution_count": null,
      "outputs": [
        {
          "output_type": "stream",
          "name": "stdout",
          "text": [
            "1\n",
            "2\n"
          ]
        }
      ]
    },
    {
      "cell_type": "markdown",
      "source": [
        " 3. .reshape() yordamida 1D arrayni 2x3 shaklga o‘tkazing.\n"
      ],
      "metadata": {
        "id": "MmUXc04Bp0vj"
      }
    },
    {
      "cell_type": "code",
      "source": [
        "arr = np.array([1, 2, 3, 4, 5, 6]).reshape(2, 3)\n",
        "arr"
      ],
      "metadata": {
        "colab": {
          "base_uri": "https://localhost:8080/"
        },
        "id": "X_gjzDQ4pymv",
        "outputId": "b5fc5bee-d0f7-4485-9dbd-cfd2ba44b062"
      },
      "execution_count": null,
      "outputs": [
        {
          "output_type": "execute_result",
          "data": {
            "text/plain": [
              "array([[1, 2, 3],\n",
              "       [4, 5, 6]])"
            ]
          },
          "metadata": {},
          "execution_count": 19
        }
      ]
    },
    {
      "cell_type": "markdown",
      "source": [
        " 4. .dtype o‘zgarishini kuzating (int -> float).\n"
      ],
      "metadata": {
        "id": "8f68OwqltT8U"
      }
    },
    {
      "cell_type": "code",
      "source": [
        "arr.dtype"
      ],
      "metadata": {
        "colab": {
          "base_uri": "https://localhost:8080/"
        },
        "id": "JoGJc8LftQhX",
        "outputId": "06ab5e70-2104-4c14-c550-519bc41d6912"
      },
      "execution_count": null,
      "outputs": [
        {
          "output_type": "execute_result",
          "data": {
            "text/plain": [
              "dtype('int64')"
            ]
          },
          "metadata": {},
          "execution_count": 20
        }
      ]
    },
    {
      "cell_type": "code",
      "source": [
        "arr = arr.astype(np.float16)\n",
        "arr.dtype"
      ],
      "metadata": {
        "colab": {
          "base_uri": "https://localhost:8080/"
        },
        "id": "b2ZMvAUutaxR",
        "outputId": "2a92c9cc-78ef-4157-b9f4-8b834e87529b"
      },
      "execution_count": null,
      "outputs": [
        {
          "output_type": "execute_result",
          "data": {
            "text/plain": [
              "dtype('float16')"
            ]
          },
          "metadata": {},
          "execution_count": 23
        }
      ]
    },
    {
      "cell_type": "markdown",
      "source": [
        " 5. .astype() yordamida float arrayni int arrayga aylantiring.\n"
      ],
      "metadata": {
        "id": "IAnyCSE6xNVg"
      }
    },
    {
      "cell_type": "code",
      "source": [
        "arr = np.array([1.5, 2.4, 6.5])\n",
        "arr.astype(np.int8)"
      ],
      "metadata": {
        "colab": {
          "base_uri": "https://localhost:8080/"
        },
        "id": "aDkU6vfatfLg",
        "outputId": "f73a4e8b-465d-4638-ce13-2eef9be66a00"
      },
      "execution_count": null,
      "outputs": [
        {
          "output_type": "execute_result",
          "data": {
            "text/plain": [
              "array([1, 2, 6], dtype=int8)"
            ]
          },
          "metadata": {},
          "execution_count": 24
        }
      ]
    },
    {
      "cell_type": "markdown",
      "source": [
        " 6. np.random bilan yaratilgan 3D arrayni .shape orqali tahlil qiling.\n"
      ],
      "metadata": {
        "id": "u1T66M2dxf4n"
      }
    },
    {
      "cell_type": "code",
      "source": [
        "arr = np.random.randint(10, size = [2, 3, 4])\n",
        "arr"
      ],
      "metadata": {
        "colab": {
          "base_uri": "https://localhost:8080/"
        },
        "id": "BCk8ZxJLxcVx",
        "outputId": "b70dc695-6825-4f83-a39c-f91b442a2535"
      },
      "execution_count": null,
      "outputs": [
        {
          "output_type": "execute_result",
          "data": {
            "text/plain": [
              "array([[[3, 7, 2, 3],\n",
              "        [0, 1, 5, 2],\n",
              "        [3, 6, 5, 3]],\n",
              "\n",
              "       [[9, 0, 5, 3],\n",
              "        [7, 3, 8, 2],\n",
              "        [4, 7, 9, 2]]])"
            ]
          },
          "metadata": {},
          "execution_count": 25
        }
      ]
    },
    {
      "cell_type": "code",
      "source": [
        "arr.shape"
      ],
      "metadata": {
        "colab": {
          "base_uri": "https://localhost:8080/"
        },
        "id": "_q4XpTANyU0c",
        "outputId": "abeed0ba-7c7c-44f6-82ac-aba28e2e84e5"
      },
      "execution_count": null,
      "outputs": [
        {
          "output_type": "execute_result",
          "data": {
            "text/plain": [
              "(2, 3, 4)"
            ]
          },
          "metadata": {},
          "execution_count": 26
        }
      ]
    },
    {
      "cell_type": "markdown",
      "source": [
        "\n",
        "\n",
        "---\n",
        "\n",
        "\n",
        "\n",
        "---\n",
        "\n"
      ],
      "metadata": {
        "id": "DjFWx8hIyd-u"
      }
    },
    {
      "cell_type": "markdown",
      "source": [
        "`7. storega va .nbytes `"
      ],
      "metadata": {
        "id": "GXbVg_lsyelx"
      }
    },
    {
      "cell_type": "markdown",
      "source": [
        " 1. [1, 2, 3, 4] arrayning .nbytes qiymatini toping.\n"
      ],
      "metadata": {
        "id": "0iVgZbo2yl4p"
      }
    },
    {
      "cell_type": "code",
      "source": [
        "arr = np.array([1, 2, 3, 4])\n",
        "arr.nbytes"
      ],
      "metadata": {
        "colab": {
          "base_uri": "https://localhost:8080/"
        },
        "id": "XcnCq4GKyXom",
        "outputId": "817fc0b1-88a5-45e2-ab49-04d740d88a15"
      },
      "execution_count": null,
      "outputs": [
        {
          "output_type": "execute_result",
          "data": {
            "text/plain": [
              "32"
            ]
          },
          "metadata": {},
          "execution_count": 27
        }
      ]
    },
    {
      "cell_type": "markdown",
      "source": [
        " 2. 2D float array uchun har bir element va umumiy xotira hajmini hisoblang.\n"
      ],
      "metadata": {
        "id": "gbxLWAIVzAEW"
      }
    },
    {
      "cell_type": "markdown",
      "source": [
        "`nbytes` total memory `itemsize` byte per element"
      ],
      "metadata": {
        "id": "QtnQi2wizw2w"
      }
    },
    {
      "cell_type": "code",
      "source": [
        "arr = np.arange(6).reshape(2, 3)\n",
        "arr.itemsize"
      ],
      "metadata": {
        "colab": {
          "base_uri": "https://localhost:8080/"
        },
        "id": "afadClBuy-RB",
        "outputId": "7cf9a86f-f7f7-43b8-9948-74f047a55137"
      },
      "execution_count": null,
      "outputs": [
        {
          "output_type": "execute_result",
          "data": {
            "text/plain": [
              "8"
            ]
          },
          "metadata": {},
          "execution_count": 32
        }
      ]
    },
    {
      "cell_type": "code",
      "source": [
        "arr.nbytes"
      ],
      "metadata": {
        "colab": {
          "base_uri": "https://localhost:8080/"
        },
        "id": "RlJJVb9-z7ax",
        "outputId": "bfe67c77-c6d5-45cd-d51c-8f30998ab0dc"
      },
      "execution_count": null,
      "outputs": [
        {
          "output_type": "execute_result",
          "data": {
            "text/plain": [
              "48"
            ]
          },
          "metadata": {},
          "execution_count": 34
        }
      ]
    },
    {
      "cell_type": "markdown",
      "source": [
        " 3. .itemsize yordamida element xajmini bilib oling.\n"
      ],
      "metadata": {
        "id": "T6g9QvEW0DyW"
      }
    },
    {
      "cell_type": "code",
      "source": [
        "arr = np.arange(6).reshape(2, 3)\n",
        "arr.itemsize"
      ],
      "metadata": {
        "colab": {
          "base_uri": "https://localhost:8080/"
        },
        "id": "tOtgbGV10BaW",
        "outputId": "298f0caa-da76-491d-afe9-f495354f5c72"
      },
      "execution_count": null,
      "outputs": [
        {
          "output_type": "execute_result",
          "data": {
            "text/plain": [
              "8"
            ]
          },
          "metadata": {},
          "execution_count": 35
        }
      ]
    },
    {
      "cell_type": "markdown",
      "source": [
        " 4. Har xil .dtype bilan arraylar yaratib, xotira farqini ko‘ring.\n"
      ],
      "metadata": {
        "id": "Ctq_2tHI0NcY"
      }
    },
    {
      "cell_type": "code",
      "source": [
        "arr = np.random.rand(2, 3)\n",
        "arr.itemsize"
      ],
      "metadata": {
        "colab": {
          "base_uri": "https://localhost:8080/"
        },
        "id": "vK3s0-3F0K8o",
        "outputId": "e43894d8-982a-40c1-cadb-62ecb74b6b72"
      },
      "execution_count": null,
      "outputs": [
        {
          "output_type": "execute_result",
          "data": {
            "text/plain": [
              "8"
            ]
          },
          "metadata": {},
          "execution_count": 40
        }
      ]
    },
    {
      "cell_type": "code",
      "source": [
        "arr = np.array(['1', '2', '3'])\n",
        "arr.itemsize"
      ],
      "metadata": {
        "colab": {
          "base_uri": "https://localhost:8080/"
        },
        "id": "3LnmbtMS0UTZ",
        "outputId": "693bed36-189f-44b8-c5db-298b0ce65b8a"
      },
      "execution_count": null,
      "outputs": [
        {
          "output_type": "execute_result",
          "data": {
            "text/plain": [
              "4"
            ]
          },
          "metadata": {},
          "execution_count": 39
        }
      ]
    },
    {
      "cell_type": "code",
      "source": [
        "arr = np.random.randint(50, 100, size = [2, 3])\n",
        "arr.itemsize"
      ],
      "metadata": {
        "colab": {
          "base_uri": "https://localhost:8080/"
        },
        "id": "E40UWLqa1X1y",
        "outputId": "4e689010-e744-450a-cde5-4fc96b229c75"
      },
      "execution_count": null,
      "outputs": [
        {
          "output_type": "execute_result",
          "data": {
            "text/plain": [
              "8"
            ]
          },
          "metadata": {},
          "execution_count": 42
        }
      ]
    },
    {
      "cell_type": "markdown",
      "source": [
        "\n",
        "\n",
        "---\n",
        "\n",
        "\n",
        "\n",
        "---\n",
        "\n"
      ],
      "metadata": {
        "id": "KJVvqRkLIVt2"
      }
    },
    {
      "cell_type": "markdown",
      "source": [
        "`8. .transpose(), .T`"
      ],
      "metadata": {
        "id": "LSg5S3dlIX-D"
      }
    },
    {
      "cell_type": "markdown",
      "source": [
        " 1. 3x2 arrayni .T bilan transpozitsiya qiling."
      ],
      "metadata": {
        "id": "M88We88fIeVO"
      }
    },
    {
      "cell_type": "code",
      "source": [
        "import numpy as np\n",
        "arr = np.arange(6).reshape(3, 2)\n",
        "arr"
      ],
      "metadata": {
        "colab": {
          "base_uri": "https://localhost:8080/"
        },
        "id": "35rOdQsLIf_I",
        "outputId": "612e8b07-31a2-42de-e6dd-4b7ca498db99"
      },
      "execution_count": null,
      "outputs": [
        {
          "output_type": "execute_result",
          "data": {
            "text/plain": [
              "array([[0, 1],\n",
              "       [2, 3],\n",
              "       [4, 5]])"
            ]
          },
          "metadata": {},
          "execution_count": 2
        }
      ]
    },
    {
      "cell_type": "code",
      "source": [
        "arr.T"
      ],
      "metadata": {
        "colab": {
          "base_uri": "https://localhost:8080/"
        },
        "id": "HzoTIkNN1lGE",
        "outputId": "6c9a07c3-d9b5-4db9-bd43-6d5f13cc95cb"
      },
      "execution_count": null,
      "outputs": [
        {
          "output_type": "execute_result",
          "data": {
            "text/plain": [
              "array([[0, 2, 4],\n",
              "       [1, 3, 5]])"
            ]
          },
          "metadata": {},
          "execution_count": 3
        }
      ]
    },
    {
      "cell_type": "markdown",
      "source": [
        " 2. .reshape(2,3,4) qilib, keyin .transpose(1,0,2) qiling.\n"
      ],
      "metadata": {
        "id": "y4x_MOz2IuTN"
      }
    },
    {
      "cell_type": "code",
      "source": [
        "arr = np.random.rand(2, 3, 4)\n",
        "arr"
      ],
      "metadata": {
        "colab": {
          "base_uri": "https://localhost:8080/"
        },
        "id": "a4sr2q8rIshk",
        "outputId": "9088721e-af54-4658-9e4e-1889f7014d6c"
      },
      "execution_count": null,
      "outputs": [
        {
          "output_type": "execute_result",
          "data": {
            "text/plain": [
              "array([[[0.45959181, 0.27282362, 0.2919609 , 0.33195744],\n",
              "        [0.3035917 , 0.38878276, 0.05692572, 0.19887377],\n",
              "        [0.28535937, 0.42714711, 0.33899869, 0.69308585]],\n",
              "\n",
              "       [[0.3403526 , 0.19884874, 0.81391539, 0.64027794],\n",
              "        [0.35780533, 0.42310543, 0.27123829, 0.54488192],\n",
              "        [0.62562286, 0.68945862, 0.96143304, 0.52923564]]])"
            ]
          },
          "metadata": {},
          "execution_count": 6
        }
      ]
    },
    {
      "cell_type": "code",
      "source": [
        "arr.transpose(1, 0, 2)"
      ],
      "metadata": {
        "colab": {
          "base_uri": "https://localhost:8080/"
        },
        "id": "aRVm63RZI7di",
        "outputId": "d70ca12f-8737-42b2-bc1a-4f012d818492"
      },
      "execution_count": null,
      "outputs": [
        {
          "output_type": "execute_result",
          "data": {
            "text/plain": [
              "array([[[0.45959181, 0.27282362, 0.2919609 , 0.33195744],\n",
              "        [0.3403526 , 0.19884874, 0.81391539, 0.64027794]],\n",
              "\n",
              "       [[0.3035917 , 0.38878276, 0.05692572, 0.19887377],\n",
              "        [0.35780533, 0.42310543, 0.27123829, 0.54488192]],\n",
              "\n",
              "       [[0.28535937, 0.42714711, 0.33899869, 0.69308585],\n",
              "        [0.62562286, 0.68945862, 0.96143304, 0.52923564]]])"
            ]
          },
          "metadata": {},
          "execution_count": 7
        }
      ]
    },
    {
      "cell_type": "markdown",
      "source": [
        "\n",
        " 3. .T yordamida ustun va qatorlarni almashtiring.\n"
      ],
      "metadata": {
        "id": "_GNMZT5KJJqd"
      }
    },
    {
      "cell_type": "code",
      "source": [
        "arr = np.arange(6).reshape(3, 2)\n",
        "arr.T.shape # 3, 2"
      ],
      "metadata": {
        "colab": {
          "base_uri": "https://localhost:8080/"
        },
        "id": "F0Nvtb83JBQ8",
        "outputId": "ac142ff4-75f6-42bd-8455-6862d580d03a"
      },
      "execution_count": null,
      "outputs": [
        {
          "output_type": "execute_result",
          "data": {
            "text/plain": [
              "(2, 3)"
            ]
          },
          "metadata": {},
          "execution_count": 9
        }
      ]
    },
    {
      "cell_type": "markdown",
      "source": [
        " 4. 2D arrayni transpozitsiya qilib, matritsa ko‘rinishini tahlil qiling.\n"
      ],
      "metadata": {
        "id": "mXhbVjmKJV6K"
      }
    },
    {
      "cell_type": "code",
      "source": [
        "arr = np.arange(6).reshape(2, 3)\n",
        "arr"
      ],
      "metadata": {
        "colab": {
          "base_uri": "https://localhost:8080/"
        },
        "id": "aVPxqTacJQvv",
        "outputId": "cb8651a9-1f49-4004-be94-31cd28fb6bcf"
      },
      "execution_count": null,
      "outputs": [
        {
          "output_type": "execute_result",
          "data": {
            "text/plain": [
              "array([[0, 1, 2],\n",
              "       [3, 4, 5]])"
            ]
          },
          "metadata": {},
          "execution_count": 33
        }
      ]
    },
    {
      "cell_type": "code",
      "source": [
        "arr = arr.T"
      ],
      "metadata": {
        "id": "FJ2Dc2UVJdJf"
      },
      "execution_count": null,
      "outputs": []
    },
    {
      "cell_type": "markdown",
      "source": [
        " 5. Transpozitsiya qilingan array ustida hisoblash bajaring (dot, sum).\n"
      ],
      "metadata": {
        "id": "cyPemRhfJkUW"
      }
    },
    {
      "cell_type": "code",
      "source": [
        "arr.sum()"
      ],
      "metadata": {
        "colab": {
          "base_uri": "https://localhost:8080/"
        },
        "id": "X3r-CkouJlTn",
        "outputId": "bf4d412b-9017-4d6e-ae06-521288a2ca23"
      },
      "execution_count": null,
      "outputs": [
        {
          "output_type": "execute_result",
          "data": {
            "text/plain": [
              "np.int64(15)"
            ]
          },
          "metadata": {},
          "execution_count": 35
        }
      ]
    },
    {
      "cell_type": "code",
      "source": [
        "arr.dot(b = 4)"
      ],
      "metadata": {
        "colab": {
          "base_uri": "https://localhost:8080/"
        },
        "id": "vUD-rrQHJeVx",
        "outputId": "4dcd0cc6-7f51-4452-bdbf-4853809317c1"
      },
      "execution_count": null,
      "outputs": [
        {
          "output_type": "execute_result",
          "data": {
            "text/plain": [
              "array([[ 0, 12],\n",
              "       [ 4, 16],\n",
              "       [ 8, 20]])"
            ]
          },
          "metadata": {},
          "execution_count": 36
        }
      ]
    },
    {
      "cell_type": "markdown",
      "source": [
        "\n",
        "\n",
        "---\n",
        "\n",
        "\n",
        "\n",
        "---\n",
        "\n"
      ],
      "metadata": {
        "id": "DiEvMVxAKBXh"
      }
    },
    {
      "cell_type": "markdown",
      "source": [
        " 9. .flat, .tolist(), .real, .imag"
      ],
      "metadata": {
        "id": "cQ2vNXs6KDZg"
      }
    },
    {
      "cell_type": "markdown",
      "source": [
        " 1. .flat yordamida 2D array elementlariga bitta loopda kirib chiqing.\n"
      ],
      "metadata": {
        "id": "9HgahWm1KFA_"
      }
    },
    {
      "cell_type": "code",
      "source": [
        "new = []\n",
        "for i in arr.flat:\n",
        "  i += 4\n",
        "  new.append(i)"
      ],
      "metadata": {
        "id": "uW7qF3nfJ2k4"
      },
      "execution_count": null,
      "outputs": []
    },
    {
      "cell_type": "code",
      "source": [
        "arr = np.array(new)\n",
        "arr"
      ],
      "metadata": {
        "colab": {
          "base_uri": "https://localhost:8080/"
        },
        "id": "_LnWiwK-KMiv",
        "outputId": "72bfb52d-c316-43b1-d2a6-1b687c434af7"
      },
      "execution_count": null,
      "outputs": [
        {
          "output_type": "execute_result",
          "data": {
            "text/plain": [
              "array([4, 7, 5, 8, 6, 9])"
            ]
          },
          "metadata": {},
          "execution_count": 38
        }
      ]
    },
    {
      "cell_type": "markdown",
      "source": [
        " 2. .tolist() yordamida arrayni oddiy Python ro‘yxatiga aylantiring.\n"
      ],
      "metadata": {
        "id": "NtrX3MP_KcVw"
      }
    },
    {
      "cell_type": "code",
      "source": [
        "arr.tolist()"
      ],
      "metadata": {
        "colab": {
          "base_uri": "https://localhost:8080/"
        },
        "id": "k0sZZkjFKWDE",
        "outputId": "d4c3178e-61b0-46f2-e50f-ac8e3ccd0ee6"
      },
      "execution_count": null,
      "outputs": [
        {
          "output_type": "execute_result",
          "data": {
            "text/plain": [
              "[4, 7, 5, 8, 6, 9]"
            ]
          },
          "metadata": {},
          "execution_count": 41
        }
      ]
    },
    {
      "cell_type": "markdown",
      "source": [
        " 3. Kompleks sonli array yarating va uning .real qismini ajrating.\n"
      ],
      "metadata": {
        "id": "we-b3xVjK-9A"
      }
    },
    {
      "cell_type": "code",
      "source": [
        "arr = np.array([2 + 2j, 4 +8j])\n",
        "arr.imag"
      ],
      "metadata": {
        "colab": {
          "base_uri": "https://localhost:8080/"
        },
        "id": "2IN0mCZyKiLV",
        "outputId": "0cfe2d77-5720-423c-e575-cb98821cae7c"
      },
      "execution_count": null,
      "outputs": [
        {
          "output_type": "execute_result",
          "data": {
            "text/plain": [
              "array([2., 8.])"
            ]
          },
          "metadata": {},
          "execution_count": 42
        }
      ]
    },
    {
      "cell_type": "code",
      "source": [
        "arr.real"
      ],
      "metadata": {
        "colab": {
          "base_uri": "https://localhost:8080/"
        },
        "id": "ssj_yJTaLQPU",
        "outputId": "87b21ace-0f42-4c87-aafc-e36862c26bb4"
      },
      "execution_count": null,
      "outputs": [
        {
          "output_type": "execute_result",
          "data": {
            "text/plain": [
              "array([2., 4.])"
            ]
          },
          "metadata": {},
          "execution_count": 45
        }
      ]
    },
    {
      "cell_type": "markdown",
      "source": [
        " 4. Yuqoridagi arraydan .imag (tasavvuriy) qismini ajrating.\n"
      ],
      "metadata": {
        "id": "KwiC1FLvLnxN"
      }
    },
    {
      "cell_type": "code",
      "source": [
        "arr.imag"
      ],
      "metadata": {
        "colab": {
          "base_uri": "https://localhost:8080/"
        },
        "id": "1X8R8MNALXri",
        "outputId": "d537c761-a46d-4135-8623-76240571f984"
      },
      "execution_count": null,
      "outputs": [
        {
          "output_type": "execute_result",
          "data": {
            "text/plain": [
              "array([2., 8.])"
            ]
          },
          "metadata": {},
          "execution_count": 46
        }
      ]
    },
    {
      "cell_type": "markdown",
      "source": [
        " 5. .flat[index] = value bilan istalgan joydagi qiymatni o‘zgartiring.\n"
      ],
      "metadata": {
        "id": "gDN16tQxLsTh"
      }
    },
    {
      "cell_type": "code",
      "source": [
        "arr = np.array([1, 2, 3, 4])\n",
        "res = []\n",
        "for i in arr.flat:\n",
        "  if i % 2 == 0:\n",
        "    i = i + 2\n",
        "\n",
        "  res.append(i)\n",
        "arr = np.array(res)"
      ],
      "metadata": {
        "id": "L1GGdgCALquI"
      },
      "execution_count": null,
      "outputs": []
    },
    {
      "cell_type": "code",
      "source": [
        "arr"
      ],
      "metadata": {
        "colab": {
          "base_uri": "https://localhost:8080/"
        },
        "id": "CynJlfbYLxPR",
        "outputId": "deba725e-f8bf-435d-9b31-db58255d33a3"
      },
      "execution_count": null,
      "outputs": [
        {
          "output_type": "execute_result",
          "data": {
            "text/plain": [
              "array([1, 4, 3, 6])"
            ]
          },
          "metadata": {},
          "execution_count": 49
        }
      ]
    },
    {
      "cell_type": "markdown",
      "source": [
        " 6. .real + .imag orqali kompleks sonni tiklab ko‘ring.\n"
      ],
      "metadata": {
        "id": "5cb6fRfqMXLD"
      }
    },
    {
      "cell_type": "code",
      "source": [
        "arr = np.array([2 + 2j, 4 + 8j])\n",
        "im = arr.imag\n",
        "re = arr.real\n",
        "print(im)\n",
        "print(re)"
      ],
      "metadata": {
        "colab": {
          "base_uri": "https://localhost:8080/"
        },
        "id": "2nXBn8uaMX7N",
        "outputId": "ff9ef66f-3b00-408f-de34-e58b9b8e8952"
      },
      "execution_count": null,
      "outputs": [
        {
          "output_type": "stream",
          "name": "stdout",
          "text": [
            "[2. 8.]\n",
            "[2. 4.]\n"
          ]
        }
      ]
    },
    {
      "cell_type": "markdown",
      "source": [
        " 7. .flat yordamida butun arrayni listga aylantirmasdan o‘qing.\n"
      ],
      "metadata": {
        "id": "WrQH5m0mRRtS"
      }
    },
    {
      "cell_type": "code",
      "source": [
        "import numpy as np"
      ],
      "metadata": {
        "id": "ApFHHMKTRCWQ"
      },
      "execution_count": null,
      "outputs": []
    },
    {
      "cell_type": "code",
      "source": [
        "arr = np.array([1, 2, 3, 4, 5, 6])\n",
        "for i in arr.flat:\n",
        "  print(i)"
      ],
      "metadata": {
        "colab": {
          "base_uri": "https://localhost:8080/"
        },
        "id": "LzTfQtaYRYgZ",
        "outputId": "cc9409c9-1af2-406b-f6a8-e7512b7da435"
      },
      "execution_count": null,
      "outputs": [
        {
          "output_type": "stream",
          "name": "stdout",
          "text": [
            "1\n",
            "2\n",
            "3\n",
            "4\n",
            "5\n",
            "6\n"
          ]
        }
      ]
    },
    {
      "cell_type": "markdown",
      "source": [
        "\n",
        "\n",
        "---\n",
        "\n",
        "\n",
        "\n",
        "---\n",
        "\n"
      ],
      "metadata": {
        "id": "3-xlh5DQUSlj"
      }
    },
    {
      "cell_type": "markdown",
      "source": [
        " 10. Added"
      ],
      "metadata": {
        "id": "t9YffoAvUTT9"
      }
    },
    {
      "cell_type": "markdown",
      "source": [
        "\n",
        " 1. np.clip(x, min, max) yordamida qiymatlarni belgilangan oraliqqa tushiring.\n",
        " 2. np.unique() yordamida noyob qiymatlarni va ularning sonini hisoblang.\n",
        " 3. np.isfinite() yordamida np.nan, np.inf larni tekshiring.\n",
        " 4. np.cumsum() bilan yig‘indi ketma-ketligini yarating.\n",
        " 5. np.diff() bilan farqlarni toping.\n",
        " 6. np.sort() va np.argsort() bilan arrayni tartiblang va indekslarini biling."
      ],
      "metadata": {
        "id": "UE8-xKWbURRa"
      }
    },
    {
      "cell_type": "markdown",
      "source": [
        " 1. np.clip(x, min, max) yordamida qiymatlarni belgilangan oraliqqa tushiring.\n"
      ],
      "metadata": {
        "id": "ZjyNBqHfUWpa"
      }
    },
    {
      "cell_type": "code",
      "source": [
        "arr = np.clip(arr, 1, 10)\n",
        "arr"
      ],
      "metadata": {
        "colab": {
          "base_uri": "https://localhost:8080/"
        },
        "id": "NA1QWJ49RhJS",
        "outputId": "90951e5b-541b-4f41-8968-ebb20f1d267f"
      },
      "execution_count": null,
      "outputs": [
        {
          "output_type": "execute_result",
          "data": {
            "text/plain": [
              "array([1, 2, 3, 4, 5, 6])"
            ]
          },
          "metadata": {},
          "execution_count": 6
        }
      ]
    },
    {
      "cell_type": "code",
      "source": [
        "import numpy as np"
      ],
      "metadata": {
        "id": "PPlVLupAUe5-"
      },
      "execution_count": null,
      "outputs": []
    },
    {
      "cell_type": "markdown",
      "source": [
        " 2. np.unique() yordamida noyob qiymatlarni va ularning sonini hisoblang.\n"
      ],
      "metadata": {
        "id": "cfe_H-ueH86P"
      }
    },
    {
      "cell_type": "code",
      "source": [
        "arr = np.array([1, 2, 3, 4, 5, 3, 4])\n",
        "arr = np.unique(arr)\n",
        "arr"
      ],
      "metadata": {
        "colab": {
          "base_uri": "https://localhost:8080/"
        },
        "id": "EONZ6P7xH94B",
        "outputId": "aca52cae-0a28-4b46-e91e-04c18510f391"
      },
      "execution_count": null,
      "outputs": [
        {
          "output_type": "execute_result",
          "data": {
            "text/plain": [
              "array([1, 2, 3, 4, 5])"
            ]
          },
          "metadata": {},
          "execution_count": 3
        }
      ]
    },
    {
      "cell_type": "code",
      "source": [
        "a = np.array([1, 2, 2])\n",
        "np.unique(a)"
      ],
      "metadata": {
        "colab": {
          "base_uri": "https://localhost:8080/"
        },
        "id": "o213zr5UIFfo",
        "outputId": "802cd296-5221-4902-ae10-fc29676a121e"
      },
      "execution_count": null,
      "outputs": [
        {
          "output_type": "execute_result",
          "data": {
            "text/plain": [
              "array([1, 2])"
            ]
          },
          "metadata": {},
          "execution_count": 4
        }
      ]
    },
    {
      "cell_type": "markdown",
      "source": [
        " 3. np.isfinite() yordamida np.nan, np.inf larni tekshiring.\n"
      ],
      "metadata": {
        "id": "D7hC3YPqIP_1"
      }
    },
    {
      "cell_type": "code",
      "source": [
        "arr = np.array([1, 2, 3, np.nan, 4, np.nan])\n",
        "np.isfinite(arr)"
      ],
      "metadata": {
        "colab": {
          "base_uri": "https://localhost:8080/"
        },
        "id": "FP7UFuE2IOFq",
        "outputId": "f3023ff0-1672-44cf-ad85-bf5f6f51cee1"
      },
      "execution_count": null,
      "outputs": [
        {
          "output_type": "execute_result",
          "data": {
            "text/plain": [
              "array([ True,  True,  True, False,  True, False])"
            ]
          },
          "metadata": {},
          "execution_count": 5
        }
      ]
    },
    {
      "cell_type": "markdown",
      "source": [
        " 4. np.cumsum() bilan yig‘indi ketma-ketligini yarating.\n"
      ],
      "metadata": {
        "id": "_m-XK9iGIsh2"
      }
    },
    {
      "cell_type": "code",
      "source": [
        "arr = np.arange(12).reshape(3, 4)\n",
        "arr"
      ],
      "metadata": {
        "colab": {
          "base_uri": "https://localhost:8080/"
        },
        "id": "dEJz3NWuIgMI",
        "outputId": "b664f20f-16bd-4931-f141-6e65c19dfff8"
      },
      "execution_count": null,
      "outputs": [
        {
          "output_type": "execute_result",
          "data": {
            "text/plain": [
              "array([[ 0,  1,  2,  3],\n",
              "       [ 4,  5,  6,  7],\n",
              "       [ 8,  9, 10, 11]])"
            ]
          },
          "metadata": {},
          "execution_count": 11
        }
      ]
    },
    {
      "cell_type": "code",
      "source": [
        "np.cumsum(arr, axis = 1)"
      ],
      "metadata": {
        "colab": {
          "base_uri": "https://localhost:8080/"
        },
        "id": "zMxVEBYgIyIZ",
        "outputId": "dab743fc-d101-40a8-8388-faef8fadfecf"
      },
      "execution_count": null,
      "outputs": [
        {
          "output_type": "execute_result",
          "data": {
            "text/plain": [
              "array([[ 0,  1,  3,  6],\n",
              "       [ 4,  9, 15, 22],\n",
              "       [ 8, 17, 27, 38]])"
            ]
          },
          "metadata": {},
          "execution_count": 13
        }
      ]
    }
  ]
}