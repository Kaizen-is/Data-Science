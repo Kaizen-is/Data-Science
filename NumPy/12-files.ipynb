{
  "nbformat": 4,
  "nbformat_minor": 0,
  "metadata": {
    "colab": {
      "provenance": []
    },
    "kernelspec": {
      "name": "python3",
      "display_name": "Python 3"
    },
    "language_info": {
      "name": "python"
    }
  },
  "cells": [
    {
      "cell_type": "markdown",
      "source": [
        "### Data Sciecne"
      ],
      "metadata": {
        "id": "ufcz4rnRgkaP"
      }
    },
    {
      "cell_type": "markdown",
      "source": [
        "Working with files\n",
        "\n",
        "`save` `savetxt` `savez` `savez_compressed`"
      ],
      "metadata": {
        "id": "qnVpUZlTgoxT"
      }
    },
    {
      "cell_type": "markdown",
      "source": [
        "`save` saving in binary"
      ],
      "metadata": {
        "id": "TMIZaYs3g-gI"
      }
    },
    {
      "cell_type": "code",
      "source": [
        "import numpy as np\n",
        "arr = np.arange(11)\n",
        "np.save(\"data\", arr)"
      ],
      "metadata": {
        "colab": {
          "base_uri": "https://localhost:8080/"
        },
        "id": "Xw3VOXCzhLdo",
        "outputId": "bd1700e2-141c-4174-ad28-90e830244fe6"
      },
      "execution_count": 5,
      "outputs": [
        {
          "output_type": "stream",
          "name": "stdout",
          "text": [
            "None\n"
          ]
        }
      ]
    },
    {
      "cell_type": "code",
      "source": [
        "arr1 = np.load(\"data.npy\")\n",
        "print(arr1)"
      ],
      "metadata": {
        "colab": {
          "base_uri": "https://localhost:8080/"
        },
        "id": "I8pIhsIvhUF_",
        "outputId": "5c0a8b88-3d1f-40ae-d97f-e034fb8a0f20"
      },
      "execution_count": 7,
      "outputs": [
        {
          "output_type": "stream",
          "name": "stdout",
          "text": [
            "[ 0  1  2  3  4  5  6  7  8  9 10]\n"
          ]
        }
      ]
    },
    {
      "cell_type": "markdown",
      "source": [
        "`savetxt` saving as a text"
      ],
      "metadata": {
        "id": "Ih850VC0i0au"
      }
    },
    {
      "cell_type": "code",
      "source": [
        "arr2 = np.arange(21)\n",
        "np.savetxt(\"datatxt\", arr2)\n",
        "ar = np.loadtxt(\"datatxt\")\n",
        "print(ar)"
      ],
      "metadata": {
        "colab": {
          "base_uri": "https://localhost:8080/"
        },
        "id": "Jshrq-OIh21L",
        "outputId": "a398a0c0-e6a6-4e1f-f7ef-bcff8320d8df"
      },
      "execution_count": 11,
      "outputs": [
        {
          "output_type": "stream",
          "name": "stdout",
          "text": [
            "[ 0.  1.  2.  3.  4.  5.  6.  7.  8.  9. 10. 11. 12. 13. 14. 15. 16. 17.\n",
            " 18. 19. 20.]\n"
          ]
        }
      ]
    },
    {
      "cell_type": "markdown",
      "source": [
        "`savez` saving two arrays in one"
      ],
      "metadata": {
        "id": "qLtyW-s3jDA8"
      }
    },
    {
      "cell_type": "code",
      "source": [
        "np.savez(\"arrays.npy\", a = arr, b = arr2)\n",
        "arrays = np.load(\"arrays.npz\")\n",
        "print(arrays[\"a\"])\n",
        "print(arrays[\"b\"])"
      ],
      "metadata": {
        "colab": {
          "base_uri": "https://localhost:8080/"
        },
        "id": "a8Z3w1M0iO9P",
        "outputId": "04173cc2-5172-4c2e-d185-6bfd2b74b42d"
      },
      "execution_count": 14,
      "outputs": [
        {
          "output_type": "stream",
          "name": "stdout",
          "text": [
            "[ 0  1  2  3  4  5  6  7  8  9 10]\n",
            "[ 0  1  2  3  4  5  6  7  8  9 10 11 12 13 14 15 16 17 18 19 20]\n"
          ]
        }
      ]
    },
    {
      "cell_type": "markdown",
      "source": [
        "`savez_compressed` saving compressed version"
      ],
      "metadata": {
        "id": "IMvmz1Dvj4UF"
      }
    },
    {
      "cell_type": "code",
      "source": [
        "np.savez_compressed(\"array\", d = arr, c = arr2)\n",
        "array = np.load(\"array.npz\")\n",
        "print(array[\"c\"])\n",
        "print(array[\"d\"])"
      ],
      "metadata": {
        "colab": {
          "base_uri": "https://localhost:8080/"
        },
        "id": "lD3_fyhujb8_",
        "outputId": "6479a9aa-7a06-42b0-a6e3-6b1942228e38"
      },
      "execution_count": 22,
      "outputs": [
        {
          "output_type": "stream",
          "name": "stdout",
          "text": [
            "[ 0  1  2  3  4  5  6  7  8  9 10 11 12 13 14 15 16 17 18 19 20]\n",
            "[ 0  1  2  3  4  5  6  7  8  9 10]\n"
          ]
        }
      ]
    }
  ]
}