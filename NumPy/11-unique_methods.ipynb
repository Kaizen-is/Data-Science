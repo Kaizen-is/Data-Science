{
  "nbformat": 4,
  "nbformat_minor": 0,
  "metadata": {
    "colab": {
      "provenance": []
    },
    "kernelspec": {
      "name": "python3",
      "display_name": "Python 3"
    },
    "language_info": {
      "name": "python"
    }
  },
  "cells": [
    {
      "cell_type": "markdown",
      "source": [
        "### Data Science and AI Practicum"
      ],
      "metadata": {
        "id": "zRk1tQhafgH1"
      }
    },
    {
      "cell_type": "markdown",
      "source": [
        "Methods: `unique` `in1d` `setdiff1d`"
      ],
      "metadata": {
        "id": "a5dLcoZ9fgSt"
      }
    },
    {
      "cell_type": "markdown",
      "source": [
        "*Method `unique`*"
      ],
      "metadata": {
        "id": "xX-qQ2ZqgsBN"
      }
    },
    {
      "cell_type": "code",
      "execution_count": 1,
      "metadata": {
        "colab": {
          "base_uri": "https://localhost:8080/"
        },
        "id": "-d6jLle1fSgE",
        "outputId": "0ff9b36d-4c8c-45ce-f5c4-ee23ed434e42"
      },
      "outputs": [
        {
          "output_type": "stream",
          "name": "stdout",
          "text": [
            "['Jinwoo' 'Kaizen' 'Kaizetse' 'Miko' 'Yamado']\n"
          ]
        }
      ],
      "source": [
        "import numpy as np\n",
        "\n",
        "names = np.array([\"Jinwoo\", \"Kaizen\", \"Kaizetse\", \"Yamado\", \"Miko\", \"Jinwoo\", \"Kaizen\"])\n",
        "\n",
        "print(np.unique(names)) # leaves only the ones that do not repeat"
      ]
    },
    {
      "cell_type": "code",
      "source": [
        "ints = np.random.randint(10, size = (1, 11))\n",
        "print(f\"{ints}\\n----------------------\")\n",
        "print(np.unique(ints)) # leaves only the ones that do not repeat"
      ],
      "metadata": {
        "colab": {
          "base_uri": "https://localhost:8080/"
        },
        "id": "YjrPDaTxgFVQ",
        "outputId": "839c4a16-cb6f-4aa5-f6cf-3b772735585e"
      },
      "execution_count": 4,
      "outputs": [
        {
          "output_type": "stream",
          "name": "stdout",
          "text": [
            "[[6 6 8 3 3 1 0 7 0 3 3]]\n",
            "----------------------\n",
            "[0 1 3 6 7 8]\n"
          ]
        }
      ]
    },
    {
      "cell_type": "markdown",
      "source": [
        "*Method `in1d`*"
      ],
      "metadata": {
        "id": "zZU9Xk75gr_T"
      }
    },
    {
      "cell_type": "code",
      "source": [
        "ar =  np.random.randint(11, size = (1, 11))\n",
        "arr = np.random.randint(11, size = (1, 4))\n",
        "print(f\"{ar}\\n{arr}\\n-----------------------\")\n",
        "print(np.in1d(ar, arr)) # compares two arrays and returns True if there are the same values in BOTH arrays"
      ],
      "metadata": {
        "colab": {
          "base_uri": "https://localhost:8080/"
        },
        "id": "A12TO0CUgcpx",
        "outputId": "dc4c29b9-878c-4e05-ff8f-61b1ccf5dce0"
      },
      "execution_count": 11,
      "outputs": [
        {
          "output_type": "stream",
          "name": "stdout",
          "text": [
            "[[ 7  5  4  5  2 10  5  7  8  0  5]]\n",
            "[[5 3 9 3]]\n",
            "-----------------------\n",
            "[False  True False  True False False  True False False False  True]\n"
          ]
        }
      ]
    },
    {
      "cell_type": "code",
      "source": [
        "name1 = np.array([\"Jinwoo\", \"Kaizen\", \"Kaizetse\", \"Yamado\", \"Miko\", \"Jinwoo\", \"Kaizen\"])\n",
        "name2 = np.array([\"Kaizen\", \"Yamado\"])\n",
        "\n",
        "print(np.in1d(name1, name2))"
      ],
      "metadata": {
        "colab": {
          "base_uri": "https://localhost:8080/"
        },
        "id": "5e07WcWwhZVA",
        "outputId": "83d998dd-57f7-4657-8b41-b4a112e9cff3"
      },
      "execution_count": 12,
      "outputs": [
        {
          "output_type": "stream",
          "name": "stdout",
          "text": [
            "[False  True False  True False False  True]\n"
          ]
        }
      ]
    },
    {
      "cell_type": "markdown",
      "source": [
        "*Method `setdiff1d`*"
      ],
      "metadata": {
        "id": "YwOH91IziSbW"
      }
    },
    {
      "cell_type": "code",
      "source": [
        "name1 = np.array([\"Jinwoo\", \"Kaizen\", \"Kaizetse\", \"Yamado\", \"Miko\", \"Jinwoo\", \"Kaizen\"])\n",
        "name2 = np.array([\"Kaizen\", \"Yamado\"])\n",
        "\n",
        "print(np.setdiff1d(name1, name2)) # compares two arrays and returns the ones that is not in BOTH arrays"
      ],
      "metadata": {
        "colab": {
          "base_uri": "https://localhost:8080/"
        },
        "id": "ihEalxCfiKK5",
        "outputId": "eb1ad39f-95d8-4e34-aacb-32663b8f50fb"
      },
      "execution_count": 14,
      "outputs": [
        {
          "output_type": "stream",
          "name": "stdout",
          "text": [
            "['Jinwoo' 'Kaizetse' 'Miko']\n"
          ]
        }
      ]
    },
    {
      "cell_type": "code",
      "source": [
        "name1 = np.array([\"Jinwoo\", \"Kaizen\", \"Kaizetse\", \"Yamado\", \"Miko\", \"Jinwoo\", \"Kaizen\"])\n",
        "name2 = np.array([\"Kaizen\", \"Yamado\", \"Kaizetse\"])\n",
        "print(np.setdiff1d(name1, name2))"
      ],
      "metadata": {
        "colab": {
          "base_uri": "https://localhost:8080/"
        },
        "id": "X6vQ9KCxi1nU",
        "outputId": "4ee5900d-823c-48d9-b676-0907d0bcbfca"
      },
      "execution_count": 15,
      "outputs": [
        {
          "output_type": "stream",
          "name": "stdout",
          "text": [
            "['Jinwoo' 'Miko']\n"
          ]
        }
      ]
    },
    {
      "cell_type": "code",
      "source": [],
      "metadata": {
        "id": "6srLHvFcjOZy"
      },
      "execution_count": null,
      "outputs": []
    }
  ]
}