{
  "nbformat": 4,
  "nbformat_minor": 0,
  "metadata": {
    "colab": {
      "provenance": []
    },
    "kernelspec": {
      "name": "python3",
      "display_name": "Python 3"
    },
    "language_info": {
      "name": "python"
    }
  },
  "cells": [
    {
      "cell_type": "markdown",
      "source": [
        "### Data Science ans AI Practicum"
      ],
      "metadata": {
        "id": "paWREPDaWqoD"
      }
    },
    {
      "cell_type": "markdown",
      "source": [
        "Logical Condition Operators"
      ],
      "metadata": {
        "id": "CRicjZn2Wzt3"
      }
    },
    {
      "cell_type": "markdown",
      "source": [
        "`where` - condition operator"
      ],
      "metadata": {
        "id": "v5VPOgjBXEkz"
      }
    },
    {
      "cell_type": "markdown",
      "source": [
        "If `where` returns exact condition, 1 element from `xarray` will be taken but when False, 1 element from `yarray` will be taken"
      ],
      "metadata": {
        "id": "h1yFYUAsXNrJ"
      }
    },
    {
      "cell_type": "code",
      "source": [
        "import numpy as np\n",
        "xarray = np.array([1.1, 1.2, 1.3, 1.4])\n",
        "yarray = np.array([2.1, 2.2, 2.3, 2.4])\n",
        "condition = np.array([True, False, True, False])\n",
        "result = np.where(condition, xarray, yarray) # if True, 1 element will be taken from xarray, if not yarray\n",
        "print(result)"
      ],
      "metadata": {
        "colab": {
          "base_uri": "https://localhost:8080/"
        },
        "id": "Rj5haqKkXdLU",
        "outputId": "58fb2584-c86a-4ccf-f290-88f154f3bb29"
      },
      "execution_count": 1,
      "outputs": [
        {
          "output_type": "stream",
          "name": "stdout",
          "text": [
            "[1.1 2.2 1.3 2.4]\n"
          ]
        }
      ]
    },
    {
      "cell_type": "code",
      "source": [
        "import numpy as np\n",
        "array = np.random.randn(4, 4) # 4 to 4 aproximate array\n",
        "print(f\"{array}]\\n---------------\")\n",
        "results = np.where(array<0, -2, 2) # given a condition, if element is negativ, will be replaced with -2, if not 2\n",
        "print(results)"
      ],
      "metadata": {
        "colab": {
          "base_uri": "https://localhost:8080/"
        },
        "id": "d9r2eVfcYJbC",
        "outputId": "a3ebd20c-1d00-475f-aabc-900fa420bbcf"
      },
      "execution_count": 2,
      "outputs": [
        {
          "output_type": "stream",
          "name": "stdout",
          "text": [
            "[[-0.52835446 -0.42452377 -0.68269255 -0.76086146]\n",
            " [ 0.86752034  0.54588468  0.43842146  1.28820209]\n",
            " [-0.75141846 -0.36237198 -0.27132108  0.28806791]\n",
            " [ 0.86559012 -0.51609847 -1.60361589  0.08462927]]]\n",
            "---------------\n",
            "[[-2 -2 -2 -2]\n",
            " [ 2  2  2  2]\n",
            " [-2 -2 -2  2]\n",
            " [ 2 -2 -2  2]]\n"
          ]
        }
      ]
    },
    {
      "cell_type": "markdown",
      "source": [
        "### Practice"
      ],
      "metadata": {
        "id": "5Q0lzZPrbElw"
      }
    },
    {
      "cell_type": "markdown",
      "source": [
        "- Task 1\n",
        "\n",
        "You are given a 2D NumPy array that contains both positive and negative numbers. Your task is to use np.where() to replace all negative numbers with their absolute values, while keeping positive numbers unchanged."
      ],
      "metadata": {
        "id": "Q2qRs0vrbJ9_"
      }
    },
    {
      "cell_type": "code",
      "source": [
        "import numpy as np\n",
        "ar = np.random.randn(9).reshape(3, 3)\n",
        "print(f\"{ar}\\n------------\")\n",
        "result = np.where(ar < 0, -ar, ar) # if an element is negative, will be changed to its absolute number, if not stays the same\n",
        "print(result)"
      ],
      "metadata": {
        "colab": {
          "base_uri": "https://localhost:8080/"
        },
        "id": "dZdffZiGYkWr",
        "outputId": "1b87a46f-c454-42c4-f1e7-ebe95cb12dbc"
      },
      "execution_count": 8,
      "outputs": [
        {
          "output_type": "stream",
          "name": "stdout",
          "text": [
            "[[ 0.02980529  0.8254751  -0.53983198]\n",
            " [ 0.47274465  0.40661361  0.17646231]\n",
            " [-1.12530925  0.11225724 -0.00236007]]\n",
            "------------\n",
            "[[0.02980529 0.8254751  0.53983198]\n",
            " [0.47274465 0.40661361 0.17646231]\n",
            " [1.12530925 0.11225724 0.00236007]]\n"
          ]
        }
      ]
    },
    {
      "cell_type": "markdown",
      "source": [
        "- Task 2\n",
        "\n",
        "Given a 1D NumPy array, categorize each element based on its value:\n",
        "\n",
        "If the number is greater than 50, replace it with \"High\"\n",
        "If the number is between 20 and 50, replace it with \"Medium\"\n",
        "If the number is less than 20, replace it with \"Low\""
      ],
      "metadata": {
        "id": "4of5kWBicyf3"
      }
    },
    {
      "cell_type": "code",
      "source": [
        "import numpy as np\n",
        "\n",
        "arr = np.random.randint(101, size = (1, 11))\n",
        "print(f\"{arr}\\n---------------\")\n",
        "\n",
        "\n",
        "results = np.where(arr <= 29, \"Low\",\n",
        "                   np.where(arr <= 69, \"Medium\", \"High\")) # if < 29, changing to Low, if < 69, Medium, if neither(>70) High\n",
        "print(results)"
      ],
      "metadata": {
        "colab": {
          "base_uri": "https://localhost:8080/"
        },
        "id": "r4gpGPTvboyV",
        "outputId": "03713698-5817-42fe-c31c-2518585c05dc"
      },
      "execution_count": 14,
      "outputs": [
        {
          "output_type": "stream",
          "name": "stdout",
          "text": [
            "[[ 3 65 82  5 42  1 50 59 85 62 17]]\n",
            "---------------\n",
            "[['Low' 'Medium' 'High' 'Low' 'Medium' 'Low' 'Medium' 'Medium' 'High'\n",
            "  'Medium' 'Low']]\n"
          ]
        }
      ]
    }
  ]
}