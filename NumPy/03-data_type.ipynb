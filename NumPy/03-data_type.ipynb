{
  "nbformat": 4,
  "nbformat_minor": 0,
  "metadata": {
    "colab": {
      "provenance": [],
      "collapsed_sections": [
        "9CSSkj4UonII",
        "sYi7M13OzpNW",
        "zS9J9BVN-BbL",
        "qx7qHfXm_1hA",
        "OdqkAVUdKvL2"
      ]
    },
    "kernelspec": {
      "name": "python3",
      "display_name": "Python 3"
    },
    "language_info": {
      "name": "python"
    }
  },
  "cells": [
    {
      "cell_type": "markdown",
      "source": [
        "### Data Science and AI practicum\n",
        "**Data Analytics**\n"
      ],
      "metadata": {
        "id": "9CSSkj4UonII"
      }
    },
    {
      "cell_type": "code",
      "execution_count": null,
      "metadata": {
        "id": "ZPryRHgmoX8e"
      },
      "outputs": [],
      "source": [
        "import numpy as np"
      ]
    },
    {
      "cell_type": "markdown",
      "source": [
        "- **Data Types**\n",
        "\n",
        "**int8:** 8-bit signed integer (-128 to 127).\n",
        "\n",
        "**int16:** 16-bit signed integer (-32,768 to 32,767).\n",
        "\n",
        "**int32:** 32-bit signed integer (-2,147,483,648 to 2,147,483,647).\n",
        "\n",
        "**int64:** 64-bit signed integer (-9,223,372,036,854,775,808 to 9,223,372,036,854,775,807).\n",
        "\n",
        "**uint8:** 8-bit unsigned integer (0 to 255).\n",
        "\n",
        "**uint16:** 16-bit unsigned integer (0 to 65,535).\n",
        "\n",
        "**uint32:** 32-bit unsigned integer (0 to 4,294,967,295).\n",
        "\n",
        "**uint64:** 64-bit unsigned integer (0 to 18,446,744,073,709,551,615).\n",
        "\n",
        "**float16:** 16-bit floating point.\n",
        "\n",
        "**float32:** 32-bit floating point.\n",
        "\n",
        "**float64:** 64-bit floating point (double precision).\n",
        "\n",
        "**complex64:** Complex number with 32-bit real and imaginary parts.\n",
        "\n",
        "**complex128:** Complex number with 64-bit real and imaginary parts.\n",
        "\n",
        "**bool:** Boolean type (True or False).\n",
        "\n",
        "**str:** String (sequence of characters)."
      ],
      "metadata": {
        "id": "9VxZqdvupdZo"
      }
    },
    {
      "cell_type": "markdown",
      "source": [
        "`dtype` data type of an array. `astype` is used to convers NumPy array into exact data type"
      ],
      "metadata": {
        "id": "aqyRNw9sqaBf"
      }
    },
    {
      "cell_type": "code",
      "source": [
        "import numpy as np\n",
        "arr1 = np.array([1, 2, 3]) # simple array\n",
        "arr1.dtype"
      ],
      "metadata": {
        "colab": {
          "base_uri": "https://localhost:8080/"
        },
        "id": "SuOqSG0_qWOk",
        "outputId": "2e3d8b4c-7bc6-434b-8a56-eef23afb0396"
      },
      "execution_count": null,
      "outputs": [
        {
          "output_type": "execute_result",
          "data": {
            "text/plain": [
              "dtype('int64')"
            ]
          },
          "metadata": {},
          "execution_count": 2
        }
      ]
    },
    {
      "cell_type": "code",
      "source": [
        "arr1 = np.array(arr1, dtype = np.float64)\n",
        "print(arr1)\n",
        "arr1.dtype"
      ],
      "metadata": {
        "colab": {
          "base_uri": "https://localhost:8080/"
        },
        "id": "wIgaztjPq0it",
        "outputId": "f6a3a3b0-f7ea-473d-988d-9b3fe81d2013"
      },
      "execution_count": null,
      "outputs": [
        {
          "output_type": "stream",
          "name": "stdout",
          "text": [
            "[1. 2. 3.]\n"
          ]
        },
        {
          "output_type": "execute_result",
          "data": {
            "text/plain": [
              "dtype('float64')"
            ]
          },
          "metadata": {},
          "execution_count": 4
        }
      ]
    },
    {
      "cell_type": "code",
      "source": [
        "float_arr1 = arr1.astype(np.float32)\n",
        "float_arr1.dtype"
      ],
      "metadata": {
        "colab": {
          "base_uri": "https://localhost:8080/"
        },
        "id": "qfmacgTXrOzf",
        "outputId": "43e00963-c44e-4bef-8117-9fab60bb4be1"
      },
      "execution_count": null,
      "outputs": [
        {
          "output_type": "execute_result",
          "data": {
            "text/plain": [
              "dtype('float32')"
            ]
          },
          "metadata": {},
          "execution_count": 5
        }
      ]
    },
    {
      "cell_type": "code",
      "source": [
        "array = np.array([1.3, 5.3,  1.8, 10.3])\n",
        "print(array)\n",
        "array.dtype"
      ],
      "metadata": {
        "colab": {
          "base_uri": "https://localhost:8080/"
        },
        "id": "FkgjcHw_sU3W",
        "outputId": "f99599e9-fd5f-49c7-c54d-00a4a65f6caa"
      },
      "execution_count": null,
      "outputs": [
        {
          "output_type": "stream",
          "name": "stdout",
          "text": [
            "[ 1.3  5.3  1.8 10.3]\n"
          ]
        },
        {
          "output_type": "execute_result",
          "data": {
            "text/plain": [
              "dtype('float64')"
            ]
          },
          "metadata": {},
          "execution_count": 8
        }
      ]
    },
    {
      "cell_type": "code",
      "source": [
        "int_array = array.astype(np.int64)\n",
        "int_array"
      ],
      "metadata": {
        "colab": {
          "base_uri": "https://localhost:8080/"
        },
        "id": "8UsSLjAcsrqD",
        "outputId": "1eabfa21-7ea4-42a3-d504-07ee3b173737"
      },
      "execution_count": null,
      "outputs": [
        {
          "output_type": "execute_result",
          "data": {
            "text/plain": [
              "array([ 1,  5,  1, 10])"
            ]
          },
          "metadata": {},
          "execution_count": 13
        }
      ]
    },
    {
      "cell_type": "code",
      "source": [
        "int_array.dtype"
      ],
      "metadata": {
        "colab": {
          "base_uri": "https://localhost:8080/"
        },
        "id": "jypaX2dRs5vz",
        "outputId": "0e0926d9-8f4c-4213-81aa-a77e331ba53b"
      },
      "execution_count": null,
      "outputs": [
        {
          "output_type": "execute_result",
          "data": {
            "text/plain": [
              "dtype('int64')"
            ]
          },
          "metadata": {},
          "execution_count": 12
        }
      ]
    },
    {
      "cell_type": "markdown",
      "source": [
        "### Practice\n"
      ],
      "metadata": {
        "id": "WW_xLVQttjuO"
      }
    },
    {
      "cell_type": "markdown",
      "source": [
        "### Task 1: Shape and Size\n",
        "\n"
      ],
      "metadata": {
        "id": "sYi7M13OzpNW"
      }
    },
    {
      "cell_type": "markdown",
      "source": [
        "You have a NumPy array with unknown dimensions. Write a function that takes any NumPy array and returns its shape and size."
      ],
      "metadata": {
        "id": "RGAkDRrKQ5WS"
      }
    },
    {
      "cell_type": "code",
      "source": [
        "import numpy as np\n",
        "array = np.random.randint(0, 100, size=21)\n",
        "print(array.size)\n",
        "print(array.shape)\n"
      ],
      "metadata": {
        "colab": {
          "base_uri": "https://localhost:8080/"
        },
        "id": "aDAPlHXHzjz5",
        "outputId": "77ede66f-5954-40bb-a87e-7b3a137801c0"
      },
      "execution_count": null,
      "outputs": [
        {
          "output_type": "stream",
          "name": "stdout",
          "text": [
            "21\n",
            "(21,)\n"
          ]
        }
      ]
    },
    {
      "cell_type": "markdown",
      "source": [
        "### Task 2: Zeros and Ones\n"
      ],
      "metadata": {
        "id": "zS9J9BVN-BbL"
      }
    },
    {
      "cell_type": "markdown",
      "source": [
        "Create a function that generates a square matrix (size n x n) filled with ones on the border and zeros inside."
      ],
      "metadata": {
        "id": "QFsZboFbRBxA"
      }
    },
    {
      "cell_type": "code",
      "source": [
        "import numpy as np\n",
        "def matrix1(n):\n",
        "  mat1 = np.zeros((n, n))\n",
        "  return mat1\n",
        "matrix1(4)\n",
        "print(matrix1(4))\n",
        "\n",
        "#---------------------------\n",
        "# getting dimensions from a user\n",
        "\n",
        "def matrix2(n):\n",
        "  mat2 = np.ones(shape=(n, n))\n",
        "  return mat2\n",
        "n = int(input(\"Enter a dimension of the matrix\\n>>>\"))\n",
        "matrix2(n)"
      ],
      "metadata": {
        "colab": {
          "base_uri": "https://localhost:8080/"
        },
        "id": "obmFLS4p0Lum",
        "outputId": "edfa0096-3e1e-45b4-da10-792c034e3cae"
      },
      "execution_count": null,
      "outputs": [
        {
          "name": "stdout",
          "output_type": "stream",
          "text": [
            "[[0. 0. 0. 0.]\n",
            " [0. 0. 0. 0.]\n",
            " [0. 0. 0. 0.]\n",
            " [0. 0. 0. 0.]]\n",
            "Enter a dimension of the matrix\n",
            ">>>2\n"
          ]
        },
        {
          "output_type": "execute_result",
          "data": {
            "text/plain": [
              "array([[1., 1.],\n",
              "       [1., 1.]])"
            ]
          },
          "metadata": {},
          "execution_count": 30
        }
      ]
    },
    {
      "cell_type": "markdown",
      "source": [
        "### Task 3: Arange\n",
        "\n"
      ],
      "metadata": {
        "id": "qx7qHfXm_1hA"
      }
    },
    {
      "cell_type": "markdown",
      "source": [
        "Write a function that creates an array of even numbers between 10 and 100 with a step of 5."
      ],
      "metadata": {
        "id": "JBbnLlYyRJCb"
      }
    },
    {
      "cell_type": "markdown",
      "source": [
        "First code is writen as its working with python list.(normal operation)\n",
        "\n",
        "Second code is writen using numpy operation: do not require loops.(vectorized operation)"
      ],
      "metadata": {
        "id": "CLXo6m5cIhSQ"
      }
    },
    {
      "cell_type": "code",
      "source": [
        "# first version\n",
        "import numpy as np\n",
        "def even(s, e, p):\n",
        "  even_arr = []\n",
        "  arr = np.arange(s, e, p)\n",
        "  i = 0\n",
        "  while i < len(arr):\n",
        "    if arr[i] % 2 == 0:\n",
        "      even_arr.append(arr[i])\n",
        "      array = np.array(even_arr)\n",
        "    i+=1\n",
        "  return array\n",
        "print(even(10, 101, 5))"
      ],
      "metadata": {
        "colab": {
          "base_uri": "https://localhost:8080/"
        },
        "id": "CpdSt77b-m0F",
        "outputId": "99730985-1073-4523-c6e1-d4f95b92ab48"
      },
      "execution_count": null,
      "outputs": [
        {
          "output_type": "stream",
          "name": "stdout",
          "text": [
            "[ 10  20  30  40  50  60  70  80  90 100]\n"
          ]
        }
      ]
    },
    {
      "cell_type": "code",
      "source": [
        "# second version\n",
        "import numpy as np\n",
        "def even(s, e, p):\n",
        "  arr = np.arange(s, e, p)\n",
        "  even_array = arr[arr % 2 == 0]\n",
        "  return even_array\n",
        "print(even(10, 101, 5))\n"
      ],
      "metadata": {
        "colab": {
          "base_uri": "https://localhost:8080/"
        },
        "id": "83Z_qNHIDt7P",
        "outputId": "c32c5a03-2413-4e84-b7e9-e6f31148c4e6"
      },
      "execution_count": null,
      "outputs": [
        {
          "output_type": "stream",
          "name": "stdout",
          "text": [
            "[ 10  20  30  40  50  60  70  80  90 100]\n"
          ]
        }
      ]
    },
    {
      "cell_type": "markdown",
      "source": [
        "### Task 4: Astype and Dtype\n"
      ],
      "metadata": {
        "id": "OdqkAVUdKvL2"
      }
    },
    {
      "cell_type": "markdown",
      "source": [
        "\n",
        "Given a NumPy array of integers, write a function that converts it to a float type and verifies the type change."
      ],
      "metadata": {
        "id": "TdOKlIy3RPz_"
      }
    },
    {
      "cell_type": "code",
      "source": [
        "import numpy as np\n",
        "int_ar = np.array([1, 2, 3, 4, 5, 6, 6])\n",
        "print(int_ar.dtype)\n",
        "\n",
        "fl_ar = int_ar.astype(float)\n",
        "print(fl_ar.dtype)"
      ],
      "metadata": {
        "colab": {
          "base_uri": "https://localhost:8080/"
        },
        "id": "8IlF751PH6Ev",
        "outputId": "e697c622-862b-4d08-bb5f-58e37f2ea358"
      },
      "execution_count": null,
      "outputs": [
        {
          "output_type": "stream",
          "name": "stdout",
          "text": [
            "int64\n",
            "float64\n"
          ]
        }
      ]
    },
    {
      "cell_type": "code",
      "source": [
        "import numpy as np\n",
        "def data_change(arr):\n",
        "  float_array = arr.astype(float)\n",
        "  verified = float_array.dtype == np.float64\n",
        "  return f\"{float_array}\\nArrays type is: {float_array.dtype}\\n{verified}\"\n",
        "\n",
        "arr = np.array([1, 2, 3, 4, 5, 6, 6])\n",
        "print(data_change(arr))"
      ],
      "metadata": {
        "colab": {
          "base_uri": "https://localhost:8080/"
        },
        "id": "W9asZx_cOCPq",
        "outputId": "85d51e9b-3b1a-4238-ed40-0f9da2947b85"
      },
      "execution_count": null,
      "outputs": [
        {
          "output_type": "stream",
          "name": "stdout",
          "text": [
            "[1. 2. 3. 4. 5. 6. 6.]\n",
            "Arrays type is: float64\n",
            "True\n"
          ]
        }
      ]
    }
  ]
}