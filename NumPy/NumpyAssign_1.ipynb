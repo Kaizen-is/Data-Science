{
  "nbformat": 4,
  "nbformat_minor": 0,
  "metadata": {
    "colab": {
      "provenance": []
    },
    "kernelspec": {
      "name": "python3",
      "display_name": "Python 3"
    },
    "language_info": {
      "name": "python"
    }
  },
  "cells": [
    {
      "cell_type": "markdown",
      "source": [
        "# **Data Science and AI Practicum**\n",
        "\n",
        "## Data analysis. Numpy library.\n",
        "\n",
        "# **1-PRACTICAL TASK**\n",
        "\n",
        "## Creating N-dimensional arrays"
      ],
      "metadata": {
        "id": "7GdSfnw5Wr8W"
      }
    },
    {
      "cell_type": "code",
      "execution_count": null,
      "metadata": {
        "id": "yFwcefXYWqgP"
      },
      "outputs": [],
      "source": [
        "import numpy as np"
      ]
    },
    {
      "cell_type": "markdown",
      "source": [
        "### Task(1): Creating 1-dimensional arrays\n",
        "\n",
        "**Condition of matter:** Continue with the function that creates a 1-dimensional array with an arbitrary *n* elements (*n* > 0, integer).\n",
        "**Support :** Use the functions `array` or `random`.\n"
      ],
      "metadata": {
        "id": "RZGz3Nb1ZYfN"
      }
    },
    {
      "cell_type": "code",
      "source": [
        "import numpy as np\n",
        "def one_dim(n):\n",
        "  if n < 0:\n",
        "    print(\"No negativ\")\n",
        "    return None\n",
        "\n",
        "  array = np.random.randint(0, 100, size= n)\n",
        "  return array\n",
        "print(one_dim(16))"
      ],
      "metadata": {
        "id": "0IUnLI8_Yhlw",
        "outputId": "8ab53997-170b-4f2f-ee95-68347fbe8a5b",
        "colab": {
          "base_uri": "https://localhost:8080/"
        }
      },
      "execution_count": 25,
      "outputs": [
        {
          "output_type": "stream",
          "name": "stdout",
          "text": [
            "[70 26 99  9 59 89 96 55 69 21 34 67  6 87 72 32]\n"
          ]
        }
      ]
    },
    {
      "cell_type": "markdown",
      "source": [
        "### To test the function you wrote above, navigate to the following cell."
      ],
      "metadata": {
        "id": "I9M8WvVgbmdj"
      }
    },
    {
      "cell_type": "code",
      "source": [
        "#@title Checking (no errors should occur as a result)\n",
        "\"\"\"Check that function returns the correct output for several inputs\"\"\"\n",
        "for i in range(1, 10):\n",
        "  assert len(one_dim(i)) == i, f\"no errors should occur as a result\"\n",
        "  arr = one_dim(i) # massiv\n",
        "  assert arr.ndim == 1, f\"1-o'lchamli massiv aniqlanmadi\"# len of the array\n",
        "  assert type(arr) == np.ndarray, f\"array not defined\" #numpy array"
      ],
      "metadata": {
        "cellView": "form",
        "id": "5-G7c8j-cIpp"
      },
      "execution_count": 24,
      "outputs": []
    },
    {
      "cell_type": "markdown",
      "source": [
        "_____"
      ],
      "metadata": {
        "id": "NxKR_fW0gkkt"
      }
    },
    {
      "cell_type": "markdown",
      "source": [
        "### Task(2) Creating 2-dimensional arrays\n",
        "\n",
        "**Task :** Shape `shape(r, c)` Continue the function that creates a 2-dimensional array.\n",
        "\n",
        "**Support :** You can use any of the array creation functions in the numpy library.\n"
      ],
      "metadata": {
        "id": "qlgbXHwCggjr"
      }
    },
    {
      "cell_type": "code",
      "source": [
        "import numpy as np\n",
        "def two_dim(r, c):\n",
        "  arr1 = np.ones(shape=(r, c))\n",
        "  return arr1\n",
        "\n",
        "print(two_dim(2, 3))"
      ],
      "metadata": {
        "id": "Cj6xVSfjdmvj",
        "outputId": "58cef43c-42b9-4a89-898c-25aeab7b1344",
        "colab": {
          "base_uri": "https://localhost:8080/"
        }
      },
      "execution_count": 17,
      "outputs": [
        {
          "output_type": "stream",
          "name": "stdout",
          "text": [
            "[[1. 1. 1.]\n",
            " [1. 1. 1.]]\n"
          ]
        }
      ]
    },
    {
      "cell_type": "markdown",
      "source": [
        "### To test the function you wrote above, navigate to the following cell."
      ],
      "metadata": {
        "id": "x47iG7oZh9WL"
      }
    },
    {
      "cell_type": "code",
      "source": [
        "#@title Checking (no errors should occur as a result)\n",
        "\"\"\"Check that function returns the correct output for several inputs\"\"\"\n",
        "arr = two_dim(3, 2) # array\n",
        "assert arr.shape == (3, 2), f\"no errors should occur as a result\" # shape\n",
        "assert arr.ndim == 2, f\"2-dimensional array not defined\" # len of the array\n",
        "assert type(arr) == np.ndarray, f\"array not defined\"# #numpy array"
      ],
      "metadata": {
        "cellView": "form",
        "id": "kGYbFv7cggMs"
      },
      "execution_count": 22,
      "outputs": []
    }
  ]
}