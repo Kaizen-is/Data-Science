{
  "nbformat": 4,
  "nbformat_minor": 0,
  "metadata": {
    "colab": {
      "provenance": []
    },
    "kernelspec": {
      "name": "python3",
      "display_name": "Python 3"
    },
    "language_info": {
      "name": "python"
    }
  },
  "cells": [
    {
      "cell_type": "markdown",
      "source": [
        "### Data Science and AI Practicum"
      ],
      "metadata": {
        "id": "z2DlyYq-bw7I"
      }
    },
    {
      "cell_type": "markdown",
      "source": [
        "Data Analytics"
      ],
      "metadata": {
        "id": "4sJXUx8Xb4Dh"
      }
    },
    {
      "cell_type": "markdown",
      "source": [
        "- Changing position of the arrar `Transpose` and changing positions of the vectors `Swapping axes`"
      ],
      "metadata": {
        "id": "EetX4O-Tb8_a"
      }
    },
    {
      "cell_type": "code",
      "source": [
        "import numpy as np\n",
        "A = np.arange(6).reshape(3, 2)\n",
        "print(A)"
      ],
      "metadata": {
        "colab": {
          "base_uri": "https://localhost:8080/"
        },
        "id": "JOVALFx0cokz",
        "outputId": "d77fa047-36dc-423e-9786-bf0b3e8c64eb"
      },
      "execution_count": null,
      "outputs": [
        {
          "output_type": "stream",
          "name": "stdout",
          "text": [
            "[[0 1]\n",
            " [2 3]\n",
            " [4 5]]\n"
          ]
        }
      ]
    },
    {
      "cell_type": "markdown",
      "source": [
        "`Transpose`"
      ],
      "metadata": {
        "id": "gsZ3eyYTc5Pq"
      }
    },
    {
      "cell_type": "code",
      "source": [
        "print(A.T)"
      ],
      "metadata": {
        "colab": {
          "base_uri": "https://localhost:8080/"
        },
        "id": "EQ4MH6gDcuRt",
        "outputId": "b20cf42a-541e-423c-f458-e0670427219d"
      },
      "execution_count": null,
      "outputs": [
        {
          "output_type": "stream",
          "name": "stdout",
          "text": [
            "[[0 2 4]\n",
            " [1 3 5]]\n"
          ]
        }
      ]
    },
    {
      "cell_type": "code",
      "source": [
        "A"
      ],
      "metadata": {
        "colab": {
          "base_uri": "https://localhost:8080/"
        },
        "id": "AyAjBqH9c88F",
        "outputId": "418bb88c-f8bd-471b-feb7-4bd366f5a036"
      },
      "execution_count": null,
      "outputs": [
        {
          "output_type": "execute_result",
          "data": {
            "text/plain": [
              "array([[0, 1],\n",
              "       [2, 3],\n",
              "       [4, 5]])"
            ]
          },
          "metadata": {},
          "execution_count": 4
        }
      ]
    },
    {
      "cell_type": "markdown",
      "source": [
        "`Swapping axes`"
      ],
      "metadata": {
        "id": "R4gUjL-IdSTb"
      }
    },
    {
      "cell_type": "markdown",
      "source": [
        "swapaxes(axis1, axis2) swaps the specified axes of an array.\n",
        "\n",
        "1D array → (n,) → only one axis (axis 0)\n",
        "\n",
        "2D array → (rows, columns) → axis 0 = rows, axis 1 = columns\n",
        "\n",
        "3D array → (depth, rows, columns) → axis 0 = depth, axis 1 = rows, axis 2 = columns"
      ],
      "metadata": {
        "id": "EebCmGWD0JIS"
      }
    },
    {
      "cell_type": "code",
      "source": [
        "print(A.swapaxes(1, 0))"
      ],
      "metadata": {
        "colab": {
          "base_uri": "https://localhost:8080/"
        },
        "id": "baX2x4q4dAll",
        "outputId": "a85d6961-d38d-4270-9e0b-c949b040f4a1"
      },
      "execution_count": null,
      "outputs": [
        {
          "output_type": "stream",
          "name": "stdout",
          "text": [
            "[[0 2 4]\n",
            " [1 3 5]]\n"
          ]
        }
      ]
    },
    {
      "cell_type": "markdown",
      "source": [
        "`.dot()`: numpy function"
      ],
      "metadata": {
        "id": "I8hl3n7GdSWc"
      }
    },
    {
      "cell_type": "code",
      "source": [
        "np.dot(A, A.T) # multiplying 2 types of array"
      ],
      "metadata": {
        "colab": {
          "base_uri": "https://localhost:8080/"
        },
        "id": "7ovnAHS4dHSK",
        "outputId": "407c2570-c429-4f40-9620-d2d84d7efab3"
      },
      "execution_count": null,
      "outputs": [
        {
          "output_type": "execute_result",
          "data": {
            "text/plain": [
              "array([[ 1,  3,  5],\n",
              "       [ 3, 13, 23],\n",
              "       [ 5, 23, 41]])"
            ]
          },
          "metadata": {},
          "execution_count": 10
        }
      ]
    },
    {
      "cell_type": "markdown",
      "source": [
        "### Practice"
      ],
      "metadata": {
        "id": "llCvqLxkwis8"
      }
    },
    {
      "cell_type": "markdown",
      "source": [
        "- Task 1\n",
        "\n",
        "Create a 1D NumPy array of 10 elements and rearrange it in reverse order without using slicing ([::-1])."
      ],
      "metadata": {
        "id": "KWvY84XRwq3e"
      }
    },
    {
      "cell_type": "code",
      "source": [
        "import numpy as np\n",
        "arr = np.arange(11)\n",
        "print(arr)\n",
        "print(arr[:: -1])"
      ],
      "metadata": {
        "colab": {
          "base_uri": "https://localhost:8080/"
        },
        "id": "sJcK1suNdibk",
        "outputId": "b18de77e-abfa-4324-d09f-536a2e938612"
      },
      "execution_count": null,
      "outputs": [
        {
          "output_type": "stream",
          "name": "stdout",
          "text": [
            "[ 0  1  2  3  4  5  6  7  8  9 10]\n",
            "[10  9  8  7  6  5  4  3  2  1  0]\n"
          ]
        }
      ]
    },
    {
      "cell_type": "markdown",
      "source": [
        "- Task 2\n",
        "\n",
        "Given a 3×4 matrix, write a function to transpose it so that it becomes 4×3."
      ],
      "metadata": {
        "id": "RPYufDzgxald"
      }
    },
    {
      "cell_type": "code",
      "source": [
        "import numpy as np\n",
        "arr = np.arange(12).reshape(3, 4)\n",
        "print(f\"{arr}\\n-----------------\")\n",
        "print(arr.T)"
      ],
      "metadata": {
        "colab": {
          "base_uri": "https://localhost:8080/"
        },
        "id": "aKYGazekxBpo",
        "outputId": "faa347ea-1b0c-4c3f-b200-d0e56c30b142"
      },
      "execution_count": null,
      "outputs": [
        {
          "output_type": "stream",
          "name": "stdout",
          "text": [
            "[[ 0  1  2  3]\n",
            " [ 4  5  6  7]\n",
            " [ 8  9 10 11]]\n",
            "-----------------\n",
            "[[ 0  4  8]\n",
            " [ 1  5  9]\n",
            " [ 2  6 10]\n",
            " [ 3  7 11]]\n"
          ]
        }
      ]
    },
    {
      "cell_type": "markdown",
      "source": [
        "- Task 3\n",
        "\n",
        "Given a 3D array of shape (2, 3, 4), swap the first and last axes so that the shape becomes (4, 3, 2)."
      ],
      "metadata": {
        "id": "Fx_NUOdEyPof"
      }
    },
    {
      "cell_type": "code",
      "source": [
        "import numpy as np\n",
        "arr = np.arange(24).reshape(2, 3, 4)\n",
        "print(f\"{arr}\\n{arr.shape}\\n-----------------\")\n",
        "print(arr.swapaxes(0, 2))\n",
        "print(arr.swapaxes(0, 2).shape)\n",
        "\n"
      ],
      "metadata": {
        "colab": {
          "base_uri": "https://localhost:8080/"
        },
        "id": "N6zwecEExsst",
        "outputId": "55ca983d-d71c-4d6e-f545-d64ceb5276d3"
      },
      "execution_count": null,
      "outputs": [
        {
          "output_type": "stream",
          "name": "stdout",
          "text": [
            "[[[ 0  1  2  3]\n",
            "  [ 4  5  6  7]\n",
            "  [ 8  9 10 11]]\n",
            "\n",
            " [[12 13 14 15]\n",
            "  [16 17 18 19]\n",
            "  [20 21 22 23]]]\n",
            "(2, 3, 4)\n",
            "-----------------\n",
            "[[[ 0 12]\n",
            "  [ 4 16]\n",
            "  [ 8 20]]\n",
            "\n",
            " [[ 1 13]\n",
            "  [ 5 17]\n",
            "  [ 9 21]]\n",
            "\n",
            " [[ 2 14]\n",
            "  [ 6 18]\n",
            "  [10 22]]\n",
            "\n",
            " [[ 3 15]\n",
            "  [ 7 19]\n",
            "  [11 23]]]\n",
            "(4, 3, 2)\n"
          ]
        }
      ]
    },
    {
      "cell_type": "markdown",
      "source": [
        "- Task 4\n",
        "\n",
        "Given two matrices: np.dot()"
      ],
      "metadata": {
        "id": "k2yAH3gz1DzF"
      }
    },
    {
      "cell_type": "code",
      "source": [
        "import numpy as np\n",
        "A = np.arange(9).reshape(3, 3)\n",
        "print(A)\n",
        "print(\"--------------\")\n",
        "B = np.random.randint(0, 20, size =(3, 3))\n",
        "print(B)\n",
        "print(f\"--------------\\nSum:\\n{np.dot(A, B)}\")"
      ],
      "metadata": {
        "colab": {
          "base_uri": "https://localhost:8080/"
        },
        "id": "73PMkSrVzE6E",
        "outputId": "783b446c-be5e-45da-e806-b786eadb1dcf"
      },
      "execution_count": null,
      "outputs": [
        {
          "output_type": "stream",
          "name": "stdout",
          "text": [
            "[[0 1 2]\n",
            " [3 4 5]\n",
            " [6 7 8]]\n",
            "--------------\n",
            "[[13  3 12]\n",
            " [14 19  3]\n",
            " [12  5  6]]\n",
            "--------------\n",
            "Sum:\n",
            "[[ 38  29  15]\n",
            " [155 110  78]\n",
            " [272 191 141]]\n"
          ]
        }
      ]
    }
  ]
}