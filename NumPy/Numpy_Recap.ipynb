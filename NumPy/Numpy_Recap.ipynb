{
  "nbformat": 4,
  "nbformat_minor": 0,
  "metadata": {
    "colab": {
      "provenance": []
    },
    "kernelspec": {
      "name": "python3",
      "display_name": "Python 3"
    },
    "language_info": {
      "name": "python"
    }
  },
  "cells": [
    {
      "cell_type": "markdown",
      "source": [
        "### Numpy Recap"
      ],
      "metadata": {
        "id": "_jViDBM_ZgrV"
      }
    },
    {
      "cell_type": "code",
      "execution_count": null,
      "metadata": {
        "id": "wCsOHaNfX8A_"
      },
      "outputs": [],
      "source": [
        "import numpy as np"
      ]
    },
    {
      "cell_type": "code",
      "source": [
        "array1 = np.array([1, 2, 3, 4, 5, 6])\n",
        "array1"
      ],
      "metadata": {
        "colab": {
          "base_uri": "https://localhost:8080/"
        },
        "id": "xAyCU4Z4aLsD",
        "outputId": "e445fde1-9578-4ac1-8282-8f53f9aa6da3"
      },
      "execution_count": null,
      "outputs": [
        {
          "output_type": "execute_result",
          "data": {
            "text/plain": [
              "array([1, 2, 3, 4, 5, 6])"
            ]
          },
          "metadata": {},
          "execution_count": 3
        }
      ]
    },
    {
      "cell_type": "code",
      "source": [
        "names = np.array(['Makima', 'Bea', 'Alex', 'Zenizu'])\n",
        "names"
      ],
      "metadata": {
        "colab": {
          "base_uri": "https://localhost:8080/"
        },
        "id": "DHKA1tYgaQ8F",
        "outputId": "002b9fa9-bb1d-468a-ff87-b56b29d2704e"
      },
      "execution_count": null,
      "outputs": [
        {
          "output_type": "execute_result",
          "data": {
            "text/plain": [
              "array(['Makima', 'Bea', 'Alex', 'Zenizu'], dtype='<U6')"
            ]
          },
          "metadata": {},
          "execution_count": 4
        }
      ]
    },
    {
      "cell_type": "code",
      "source": [
        "print(names)"
      ],
      "metadata": {
        "colab": {
          "base_uri": "https://localhost:8080/"
        },
        "id": "s51owSOna3RL",
        "outputId": "e01f49f6-76be-4b50-bc76-094fc9a60580"
      },
      "execution_count": null,
      "outputs": [
        {
          "output_type": "stream",
          "name": "stdout",
          "text": [
            "['Makima' 'Bea' 'Alex' 'Zenizu']\n"
          ]
        }
      ]
    },
    {
      "cell_type": "code",
      "source": [
        "type(names)"
      ],
      "metadata": {
        "colab": {
          "base_uri": "https://localhost:8080/"
        },
        "id": "Vh0GQUKca5W9",
        "outputId": "159c15c5-f63e-4d6a-c9e5-c80a96a0a695"
      },
      "execution_count": null,
      "outputs": [
        {
          "output_type": "execute_result",
          "data": {
            "text/plain": [
              "numpy.ndarray"
            ]
          },
          "metadata": {},
          "execution_count": 6
        }
      ]
    },
    {
      "cell_type": "markdown",
      "source": [
        "### Len of an Array"
      ],
      "metadata": {
        "id": "F6yE-QlGbBv3"
      }
    },
    {
      "cell_type": "markdown",
      "source": [
        "`.ndim`"
      ],
      "metadata": {
        "id": "SaEcknUlbGfv"
      }
    },
    {
      "cell_type": "code",
      "source": [
        "names.ndim"
      ],
      "metadata": {
        "colab": {
          "base_uri": "https://localhost:8080/"
        },
        "id": "NO9hLIDla9GY",
        "outputId": "991548cb-a2ca-41d2-f297-5aaa0d70285a"
      },
      "execution_count": null,
      "outputs": [
        {
          "output_type": "execute_result",
          "data": {
            "text/plain": [
              "1"
            ]
          },
          "metadata": {},
          "execution_count": 8
        }
      ]
    },
    {
      "cell_type": "markdown",
      "source": [
        "### 0D array"
      ],
      "metadata": {
        "id": "7316ChIhbR4V"
      }
    },
    {
      "cell_type": "code",
      "source": [
        "ar0 = np.array(24)\n",
        "print(ar0)\n",
        "print(ar0.ndim)"
      ],
      "metadata": {
        "colab": {
          "base_uri": "https://localhost:8080/"
        },
        "id": "rBrilgFHbMAt",
        "outputId": "bf83ff39-e9d4-486f-8d42-fbfbe7ce11b2"
      },
      "execution_count": null,
      "outputs": [
        {
          "output_type": "stream",
          "name": "stdout",
          "text": [
            "24\n",
            "0\n"
          ]
        }
      ]
    },
    {
      "cell_type": "markdown",
      "source": [
        "### 1D array"
      ],
      "metadata": {
        "id": "IDg_cLodbqy0"
      }
    },
    {
      "cell_type": "code",
      "source": [
        "ar1 = np.array([1, 2, 3, 4, 5])\n",
        "print(ar1)\n",
        "print(ar1.ndim)"
      ],
      "metadata": {
        "colab": {
          "base_uri": "https://localhost:8080/"
        },
        "id": "gU9ueQHObkkU",
        "outputId": "97044ab0-92af-444c-9229-21a87fe2b5cd"
      },
      "execution_count": null,
      "outputs": [
        {
          "output_type": "stream",
          "name": "stdout",
          "text": [
            "[1 2 3 4 5]\n",
            "1\n"
          ]
        }
      ]
    },
    {
      "cell_type": "markdown",
      "source": [
        "### 2D array"
      ],
      "metadata": {
        "id": "vQJGYlBXb8Iw"
      }
    },
    {
      "cell_type": "code",
      "source": [
        "ar2 = np.array([[1, 2, 3, 4, 5], [6, 7, 8, 9, 10]])\n",
        "print(ar2)\n",
        "print(ar2.ndim)"
      ],
      "metadata": {
        "colab": {
          "base_uri": "https://localhost:8080/"
        },
        "id": "mYhXmRyDb0no",
        "outputId": "ccc4b2e9-a143-40c8-f9e6-ce666ce08d04"
      },
      "execution_count": null,
      "outputs": [
        {
          "output_type": "stream",
          "name": "stdout",
          "text": [
            "[[ 1  2  3  4  5]\n",
            " [ 6  7  8  9 10]]\n",
            "2\n"
          ]
        }
      ]
    },
    {
      "cell_type": "markdown",
      "source": [
        "### 3D array"
      ],
      "metadata": {
        "id": "R5h73kNIcLwA"
      }
    },
    {
      "cell_type": "code",
      "source": [
        "ar3 = np.array([[[1, 2, 3, 4, 5], [6, 7, 8, 9, 10]],[[11, 12, 13, 14, 15], [16, 17, 18, 19, 20]]])\n",
        "print(ar3)\n",
        "print(ar3.ndim)"
      ],
      "metadata": {
        "colab": {
          "base_uri": "https://localhost:8080/"
        },
        "id": "M7njCaK8cKsQ",
        "outputId": "18b142d8-b064-4305-f6d0-296707436739"
      },
      "execution_count": null,
      "outputs": [
        {
          "output_type": "stream",
          "name": "stdout",
          "text": [
            "[[[ 1  2  3  4  5]\n",
            "  [ 6  7  8  9 10]]\n",
            "\n",
            " [[11 12 13 14 15]\n",
            "  [16 17 18 19 20]]]\n",
            "3\n"
          ]
        }
      ]
    },
    {
      "cell_type": "markdown",
      "source": [
        "### `zeros` `ones` `shape` `size` `arange`"
      ],
      "metadata": {
        "id": "ENXzKUh-csEc"
      }
    },
    {
      "cell_type": "code",
      "source": [
        "shap = np.zeros(shape = (3, 3))\n",
        "shap"
      ],
      "metadata": {
        "colab": {
          "base_uri": "https://localhost:8080/"
        },
        "id": "83InyngmcjdA",
        "outputId": "40072df7-55c1-4cd2-9e46-77ae4de2adb1"
      },
      "execution_count": null,
      "outputs": [
        {
          "output_type": "execute_result",
          "data": {
            "text/plain": [
              "array([[0., 0., 0.],\n",
              "       [0., 0., 0.],\n",
              "       [0., 0., 0.]])"
            ]
          },
          "metadata": {},
          "execution_count": 18
        }
      ]
    },
    {
      "cell_type": "code",
      "source": [
        "shap1 = np.ones(shape = (3, 4))\n",
        "shap1"
      ],
      "metadata": {
        "colab": {
          "base_uri": "https://localhost:8080/"
        },
        "id": "Y_zqgsoAdNMH",
        "outputId": "0da8bbbb-40b6-4815-9062-08a7e9acdadc"
      },
      "execution_count": null,
      "outputs": [
        {
          "output_type": "execute_result",
          "data": {
            "text/plain": [
              "array([[1., 1., 1., 1.],\n",
              "       [1., 1., 1., 1.],\n",
              "       [1., 1., 1., 1.]])"
            ]
          },
          "metadata": {},
          "execution_count": 20
        }
      ]
    },
    {
      "cell_type": "code",
      "source": [
        "print(shap.shape)"
      ],
      "metadata": {
        "colab": {
          "base_uri": "https://localhost:8080/"
        },
        "id": "zmV79v0rddiy",
        "outputId": "29efa53e-5aa9-4ee6-d4b4-b8062c7e5281"
      },
      "execution_count": null,
      "outputs": [
        {
          "output_type": "stream",
          "name": "stdout",
          "text": [
            "(3, 3)\n"
          ]
        }
      ]
    },
    {
      "cell_type": "code",
      "source": [
        "print(shap1.size)"
      ],
      "metadata": {
        "colab": {
          "base_uri": "https://localhost:8080/"
        },
        "id": "Gdt3txFLdn_K",
        "outputId": "fbfe2fae-8539-4fd4-d19b-6d0e55d98535"
      },
      "execution_count": null,
      "outputs": [
        {
          "output_type": "stream",
          "name": "stdout",
          "text": [
            "12\n"
          ]
        }
      ]
    },
    {
      "cell_type": "code",
      "source": [
        "arange = np.arange(21)\n",
        "print(arange)"
      ],
      "metadata": {
        "colab": {
          "base_uri": "https://localhost:8080/"
        },
        "id": "Xv2PiIJLdqM-",
        "outputId": "087ac4fa-3635-48cb-8915-f9c5a0013e0a"
      },
      "execution_count": null,
      "outputs": [
        {
          "output_type": "stream",
          "name": "stdout",
          "text": [
            "[ 0  1  2  3  4  5  6  7  8  9 10 11 12 13 14 15 16 17 18 19 20]\n"
          ]
        }
      ]
    },
    {
      "cell_type": "code",
      "source": [
        "arange1 = np.arange(0, 100, 5)\n",
        "arange1"
      ],
      "metadata": {
        "colab": {
          "base_uri": "https://localhost:8080/"
        },
        "id": "rcl6MiVgd3xm",
        "outputId": "4cd678b4-7737-4a3b-c81b-45c13cfa082d"
      },
      "execution_count": null,
      "outputs": [
        {
          "output_type": "execute_result",
          "data": {
            "text/plain": [
              "array([ 0,  5, 10, 15, 20, 25, 30, 35, 40, 45, 50, 55, 60, 65, 70, 75, 80,\n",
              "       85, 90, 95])"
            ]
          },
          "metadata": {},
          "execution_count": 25
        }
      ]
    },
    {
      "cell_type": "markdown",
      "source": [
        "`Reshape` 'Full'"
      ],
      "metadata": {
        "id": "HDEDNNWueDYw"
      }
    },
    {
      "cell_type": "code",
      "source": [
        "resh = np.arange(12).reshape(3, 4)\n",
        "resh"
      ],
      "metadata": {
        "colab": {
          "base_uri": "https://localhost:8080/"
        },
        "id": "8O0WPZwGeAdS",
        "outputId": "4b41bbc0-06be-423a-eace-e05cb705f5b9"
      },
      "execution_count": null,
      "outputs": [
        {
          "output_type": "execute_result",
          "data": {
            "text/plain": [
              "array([[ 0,  1,  2,  3],\n",
              "       [ 4,  5,  6,  7],\n",
              "       [ 8,  9, 10, 11]])"
            ]
          },
          "metadata": {},
          "execution_count": 26
        }
      ]
    },
    {
      "cell_type": "code",
      "source": [
        "resh2 = np.arange(0, 36, 2).reshape(3, 6)\n",
        "resh2"
      ],
      "metadata": {
        "colab": {
          "base_uri": "https://localhost:8080/"
        },
        "id": "Q-yOCkvZeRnK",
        "outputId": "86206798-4b26-4c12-ac1d-cae1f6151250"
      },
      "execution_count": null,
      "outputs": [
        {
          "output_type": "execute_result",
          "data": {
            "text/plain": [
              "array([[ 0,  2,  4,  6,  8, 10],\n",
              "       [12, 14, 16, 18, 20, 22],\n",
              "       [24, 26, 28, 30, 32, 34]])"
            ]
          },
          "metadata": {},
          "execution_count": 27
        }
      ]
    },
    {
      "cell_type": "code",
      "source": [
        "np.full((3, 3), 5)"
      ],
      "metadata": {
        "colab": {
          "base_uri": "https://localhost:8080/"
        },
        "id": "NGMv5F18-J0F",
        "outputId": "6f9222b0-6b46-42f7-9c1f-0995ebc8e64f"
      },
      "execution_count": null,
      "outputs": [
        {
          "output_type": "execute_result",
          "data": {
            "text/plain": [
              "array([[5, 5, 5],\n",
              "       [5, 5, 5],\n",
              "       [5, 5, 5]])"
            ]
          },
          "metadata": {},
          "execution_count": 45
        }
      ]
    },
    {
      "cell_type": "code",
      "source": [
        "np.full((10), 'I love you')"
      ],
      "metadata": {
        "colab": {
          "base_uri": "https://localhost:8080/"
        },
        "id": "bfACntgC-S95",
        "outputId": "44eb435b-e4a8-40e2-a218-a90a6361af8f"
      },
      "execution_count": null,
      "outputs": [
        {
          "output_type": "execute_result",
          "data": {
            "text/plain": [
              "array(['I love you', 'I love you', 'I love you', 'I love you',\n",
              "       'I love you', 'I love you', 'I love you', 'I love you',\n",
              "       'I love you', 'I love you'], dtype='<U10')"
            ]
          },
          "metadata": {},
          "execution_count": 46
        }
      ]
    },
    {
      "cell_type": "markdown",
      "source": [
        "### Data Type"
      ],
      "metadata": {
        "id": "KJNxeUOve7F7"
      }
    },
    {
      "cell_type": "markdown",
      "source": [
        "\n",
        "int8: 8-bit signed integer (-128 to 127).\n",
        "\n",
        "int16: 16-bit signed integer (-32,768 to 32,767).\n",
        "\n",
        "int32: 32-bit signed integer (-2,147,483,648 to 2,147,483,647).\n",
        "\n",
        "int64: 64-bit signed integer (-9,223,372,036,854,775,808 to 9,223,372,036,854,775,807).\n",
        "\n",
        "uint8: 8-bit unsigned integer (0 to 255).\n",
        "\n",
        "uint16: 16-bit unsigned integer (0 to 65,535).\n",
        "\n",
        "uint32: 32-bit unsigned integer (0 to 4,294,967,295).\n",
        "\n",
        "uint64: 64-bit unsigned integer (0 to 18,446,744,073,709,551,615).\n",
        "\n",
        "float16: 16-bit floating point.\n",
        "\n",
        "float32: 32-bit floating point.\n",
        "\n",
        "float64: 64-bit floating point (double precision).\n",
        "\n",
        "complex64: Complex number with 32-bit real and imaginary parts.\n",
        "\n",
        "complex128: Complex number with 64-bit real and imaginary parts.\n",
        "\n",
        "bool: Boolean type (True or False).\n",
        "\n",
        "str: String (sequence of characters)."
      ],
      "metadata": {
        "id": "KxbfeBGXe_9B"
      }
    },
    {
      "cell_type": "markdown",
      "source": [
        "`dtype` checks the data type but `astype`  converts the data to an exact type"
      ],
      "metadata": {
        "id": "hO_BAEpagB3v"
      }
    },
    {
      "cell_type": "code",
      "source": [
        "ar = np.array([1, 2, 3, 4, 5], dtype = np.int8)\n",
        "print(ar)\n",
        "print(ar.dtype)"
      ],
      "metadata": {
        "colab": {
          "base_uri": "https://localhost:8080/"
        },
        "id": "aZYuAbK0eo75",
        "outputId": "c5e84e28-aa3e-4b3e-bbe3-54e68f4a04cf"
      },
      "execution_count": null,
      "outputs": [
        {
          "output_type": "stream",
          "name": "stdout",
          "text": [
            "[1 2 3 4 5]\n",
            "int8\n"
          ]
        }
      ]
    },
    {
      "cell_type": "code",
      "source": [
        "ar = ar.astype(np.int16)\n",
        "print(ar)\n",
        "print(ar.dtype)"
      ],
      "metadata": {
        "colab": {
          "base_uri": "https://localhost:8080/"
        },
        "id": "FWI9zBPMfgoZ",
        "outputId": "c8c1bf12-91e3-448a-d23f-adfaebd99597"
      },
      "execution_count": null,
      "outputs": [
        {
          "output_type": "stream",
          "name": "stdout",
          "text": [
            "[1 2 3 4 5]\n",
            "int16\n"
          ]
        }
      ]
    },
    {
      "cell_type": "code",
      "source": [
        "arrr = np.array([1, 1.0])\n",
        "print(arrr.dtype)"
      ],
      "metadata": {
        "colab": {
          "base_uri": "https://localhost:8080/"
        },
        "id": "pnPjiJisgAok",
        "outputId": "176d1da5-a387-4c0a-ab33-e1b6aeaddf98"
      },
      "execution_count": null,
      "outputs": [
        {
          "output_type": "stream",
          "name": "stdout",
          "text": [
            "float64\n"
          ]
        }
      ]
    },
    {
      "cell_type": "code",
      "source": [
        "arrr.astype(np.int8)"
      ],
      "metadata": {
        "colab": {
          "base_uri": "https://localhost:8080/"
        },
        "id": "Mi6xTzHKmkhO",
        "outputId": "bd457350-e931-41e3-ad1d-3c7656c3b9b3"
      },
      "execution_count": null,
      "outputs": [
        {
          "output_type": "execute_result",
          "data": {
            "text/plain": [
              "array([1, 1], dtype=int8)"
            ]
          },
          "metadata": {},
          "execution_count": 34
        }
      ]
    },
    {
      "cell_type": "markdown",
      "source": [
        "### Indexe / Slicing"
      ],
      "metadata": {
        "id": "17aTP6h5t2zt"
      }
    },
    {
      "cell_type": "code",
      "source": [
        "ind = np.arange(40).reshape(4, 10)\n",
        "ind"
      ],
      "metadata": {
        "colab": {
          "base_uri": "https://localhost:8080/"
        },
        "id": "4B1JS4zbt8J_",
        "outputId": "a5ef0deb-ce44-47f8-8670-7fa00af59a62"
      },
      "execution_count": null,
      "outputs": [
        {
          "output_type": "execute_result",
          "data": {
            "text/plain": [
              "array([[ 0,  1,  2,  3,  4,  5,  6,  7,  8,  9],\n",
              "       [10, 11, 12, 13, 14, 15, 16, 17, 18, 19],\n",
              "       [20, 21, 22, 23, 24, 25, 26, 27, 28, 29],\n",
              "       [30, 31, 32, 33, 34, 35, 36, 37, 38, 39]])"
            ]
          },
          "metadata": {},
          "execution_count": 41
        }
      ]
    },
    {
      "cell_type": "code",
      "source": [
        "sliced = ind[0][5:7]\n",
        "sliced"
      ],
      "metadata": {
        "colab": {
          "base_uri": "https://localhost:8080/"
        },
        "id": "56MkpkBvuhID",
        "outputId": "2e6f1dd2-ac22-45b3-a5c6-675d0fab111c"
      },
      "execution_count": null,
      "outputs": [
        {
          "output_type": "execute_result",
          "data": {
            "text/plain": [
              "array([5, 6])"
            ]
          },
          "metadata": {},
          "execution_count": 42
        }
      ]
    },
    {
      "cell_type": "code",
      "source": [
        "sliced = ind[3][-3:]\n",
        "sliced"
      ],
      "metadata": {
        "colab": {
          "base_uri": "https://localhost:8080/"
        },
        "id": "CQnPrjiYuzYq",
        "outputId": "8f3d62f3-da21-4a61-8382-1daac2cf0978"
      },
      "execution_count": null,
      "outputs": [
        {
          "output_type": "execute_result",
          "data": {
            "text/plain": [
              "array([37, 38, 39])"
            ]
          },
          "metadata": {},
          "execution_count": 43
        }
      ]
    },
    {
      "cell_type": "markdown",
      "source": [
        "`copy`"
      ],
      "metadata": {
        "id": "uuIMu1iF7NU6"
      }
    },
    {
      "cell_type": "code",
      "source": [
        "copy = ind[2][-5:-2].copy()\n",
        "copy"
      ],
      "metadata": {
        "colab": {
          "base_uri": "https://localhost:8080/"
        },
        "id": "mqOcGq2gvAhC",
        "outputId": "543f93fd-22e4-48a0-ac8d-729ab2d3a90d"
      },
      "execution_count": null,
      "outputs": [
        {
          "output_type": "execute_result",
          "data": {
            "text/plain": [
              "array([25, 26, 27])"
            ]
          },
          "metadata": {},
          "execution_count": 44
        }
      ]
    },
    {
      "cell_type": "markdown",
      "source": [
        "### Random in Numpy"
      ],
      "metadata": {
        "id": "AJq1k0jY9ysg"
      }
    },
    {
      "cell_type": "code",
      "source": [
        "rand = np.random.rand(12).reshape(3, 4)\n",
        "rand"
      ],
      "metadata": {
        "colab": {
          "base_uri": "https://localhost:8080/"
        },
        "id": "gAixDAFf7Y3P",
        "outputId": "9c50c97b-d5dd-43e3-817c-c9d77ea53eea"
      },
      "execution_count": null,
      "outputs": [
        {
          "output_type": "execute_result",
          "data": {
            "text/plain": [
              "array([[0.20529082, 0.16186748, 0.54921652, 0.98952617],\n",
              "       [0.85447171, 0.09421623, 0.45255292, 0.35878448],\n",
              "       [0.41613722, 0.6014133 , 0.72179447, 0.27754662]])"
            ]
          },
          "metadata": {},
          "execution_count": 100
        }
      ]
    },
    {
      "cell_type": "code",
      "source": [
        "randin = np.random.randint(0, 100, size = 12).reshape(4, 3)\n",
        "randin"
      ],
      "metadata": {
        "colab": {
          "base_uri": "https://localhost:8080/"
        },
        "id": "JVT4enCJBhdB",
        "outputId": "4cba4e5f-23c1-4e30-8c3e-09db4a05d506"
      },
      "execution_count": null,
      "outputs": [
        {
          "output_type": "execute_result",
          "data": {
            "text/plain": [
              "array([[62, 96, 84],\n",
              "       [12, 80, 50],\n",
              "       [55, 71, 35],\n",
              "       [44, 95, 62]])"
            ]
          },
          "metadata": {},
          "execution_count": 51
        }
      ]
    },
    {
      "cell_type": "code",
      "source": [
        "ran = np.random.randint(0, 100, size = 40).reshape(4, 10)\n",
        "new = np.array([])\n",
        "for num in ran:\n",
        "  for i in num:\n",
        "    if i % 2 == 0:\n",
        "      new = np.append(new, num)\n",
        "new"
      ],
      "metadata": {
        "colab": {
          "base_uri": "https://localhost:8080/"
        },
        "id": "kDtzG06NDSSn",
        "outputId": "a321625d-c143-4ead-bd0a-60067367cb97"
      },
      "execution_count": null,
      "outputs": [
        {
          "output_type": "execute_result",
          "data": {
            "text/plain": [
              "array([40., 66., 21., 62., 58., 43., 13., 22.,  6., 86., 40., 66., 21.,\n",
              "       62., 58., 43., 13., 22.,  6., 86., 40., 66., 21., 62., 58., 43.,\n",
              "       13., 22.,  6., 86., 40., 66., 21., 62., 58., 43., 13., 22.,  6.,\n",
              "       86., 40., 66., 21., 62., 58., 43., 13., 22.,  6., 86., 40., 66.,\n",
              "       21., 62., 58., 43., 13., 22.,  6., 86., 40., 66., 21., 62., 58.,\n",
              "       43., 13., 22.,  6., 86., 82.,  9., 39., 15., 23., 37., 11., 34.,\n",
              "       52.,  4., 82.,  9., 39., 15., 23., 37., 11., 34., 52.,  4., 82.,\n",
              "        9., 39., 15., 23., 37., 11., 34., 52.,  4., 82.,  9., 39., 15.,\n",
              "       23., 37., 11., 34., 52.,  4., 25., 18., 79., 99., 95., 90., 64.,\n",
              "       86., 58., 28., 25., 18., 79., 99., 95., 90., 64., 86., 58., 28.,\n",
              "       25., 18., 79., 99., 95., 90., 64., 86., 58., 28., 25., 18., 79.,\n",
              "       99., 95., 90., 64., 86., 58., 28., 25., 18., 79., 99., 95., 90.,\n",
              "       64., 86., 58., 28., 25., 18., 79., 99., 95., 90., 64., 86., 58.,\n",
              "       28., 51., 81.,  5., 29., 33., 48., 42., 25., 78., 88., 51., 81.,\n",
              "        5., 29., 33., 48., 42., 25., 78., 88., 51., 81.,  5., 29., 33.,\n",
              "       48., 42., 25., 78., 88., 51., 81.,  5., 29., 33., 48., 42., 25.,\n",
              "       78., 88.])"
            ]
          },
          "metadata": {},
          "execution_count": 60
        }
      ]
    },
    {
      "cell_type": "code",
      "source": [
        "ran[ran % 2 == 0]"
      ],
      "metadata": {
        "colab": {
          "base_uri": "https://localhost:8080/"
        },
        "id": "Xkr2SaZ0EUue",
        "outputId": "f636af44-1fc4-48a7-96d4-4c82868db7f7"
      },
      "execution_count": null,
      "outputs": [
        {
          "output_type": "execute_result",
          "data": {
            "text/plain": [
              "array([40, 66, 62, 58, 22,  6, 86, 82, 34, 52,  4, 18, 90, 64, 86, 58, 28,\n",
              "       48, 42, 78, 88])"
            ]
          },
          "metadata": {},
          "execution_count": 62
        }
      ]
    },
    {
      "cell_type": "code",
      "source": [
        "ran[ran % 2 == 1]"
      ],
      "metadata": {
        "colab": {
          "base_uri": "https://localhost:8080/"
        },
        "id": "Ep2rFHYSFwfl",
        "outputId": "ac31eb05-9d09-45da-be43-258fbc479d61"
      },
      "execution_count": null,
      "outputs": [
        {
          "output_type": "execute_result",
          "data": {
            "text/plain": [
              "array([21, 43, 13,  9, 39, 15, 23, 37, 11, 25, 79, 99, 95, 51, 81,  5, 29,\n",
              "       33, 25])"
            ]
          },
          "metadata": {},
          "execution_count": 63
        }
      ]
    },
    {
      "cell_type": "markdown",
      "source": [
        "### Sting + Float"
      ],
      "metadata": {
        "id": "ZSU5seXdGD76"
      }
    },
    {
      "cell_type": "code",
      "source": [
        "name = np.array([\"Jinwoo\", \"Levi\", \"Bibi\", \"Igris\", \"Kaizen\"])\n",
        "name"
      ],
      "metadata": {
        "colab": {
          "base_uri": "https://localhost:8080/"
        },
        "id": "0NPz5TuVF1lZ",
        "outputId": "60514780-f1a8-46da-9c94-52eda52988b0"
      },
      "execution_count": null,
      "outputs": [
        {
          "output_type": "execute_result",
          "data": {
            "text/plain": [
              "array(['Jinwoo', 'Levi', 'Bibi', 'Igris', 'Kaizen'], dtype='<U6')"
            ]
          },
          "metadata": {},
          "execution_count": 64
        }
      ]
    },
    {
      "cell_type": "code",
      "source": [
        "data = np.random.randint(0, 10, size = 20).reshape(5, 4)\n",
        "data"
      ],
      "metadata": {
        "colab": {
          "base_uri": "https://localhost:8080/"
        },
        "id": "_3k_FT2qGMdX",
        "outputId": "1df04504-0ead-49c6-fbc3-5e276059b0a9"
      },
      "execution_count": null,
      "outputs": [
        {
          "output_type": "execute_result",
          "data": {
            "text/plain": [
              "array([[6, 8, 8, 9],\n",
              "       [9, 0, 5, 5],\n",
              "       [2, 1, 2, 7],\n",
              "       [1, 4, 0, 2],\n",
              "       [2, 2, 7, 1]])"
            ]
          },
          "metadata": {},
          "execution_count": 70
        }
      ]
    },
    {
      "cell_type": "code",
      "source": [
        "print(name == 'Bibi')"
      ],
      "metadata": {
        "colab": {
          "base_uri": "https://localhost:8080/"
        },
        "id": "gCC9R5PMGPRo",
        "outputId": "d6b05900-860d-43aa-dc05-eb5ddd1d6cb1"
      },
      "execution_count": null,
      "outputs": [
        {
          "output_type": "stream",
          "name": "stdout",
          "text": [
            "[False False  True False False]\n"
          ]
        }
      ]
    },
    {
      "cell_type": "code",
      "source": [
        "print(data[name == 'Jinwoo'])"
      ],
      "metadata": {
        "colab": {
          "base_uri": "https://localhost:8080/"
        },
        "id": "Z6vaQCF_GdZ0",
        "outputId": "0fc0d8ee-5be1-4216-a7d3-d9a205987877"
      },
      "execution_count": null,
      "outputs": [
        {
          "output_type": "stream",
          "name": "stdout",
          "text": [
            "[[6 8 8 9]]\n"
          ]
        }
      ]
    },
    {
      "cell_type": "code",
      "source": [
        "print(data[name == 'Kaizen'])"
      ],
      "metadata": {
        "colab": {
          "base_uri": "https://localhost:8080/"
        },
        "id": "pGZ3NQamG3t8",
        "outputId": "71abda35-e2cc-4431-fa5c-d33ecd2f3263"
      },
      "execution_count": null,
      "outputs": [
        {
          "output_type": "stream",
          "name": "stdout",
          "text": [
            "[[2 2 7 1]]\n"
          ]
        }
      ]
    },
    {
      "cell_type": "markdown",
      "source": [
        "Slice"
      ],
      "metadata": {
        "id": "tJKxmDMEHEHT"
      }
    },
    {
      "cell_type": "code",
      "source": [
        "print(data[name == 'Levi', -2:])"
      ],
      "metadata": {
        "colab": {
          "base_uri": "https://localhost:8080/"
        },
        "id": "O_wjqF7BHE9V",
        "outputId": "7eb46184-084c-4b2e-ba5c-67474a036632"
      },
      "execution_count": null,
      "outputs": [
        {
          "output_type": "stream",
          "name": "stdout",
          "text": [
            "[[5 5]]\n"
          ]
        }
      ]
    },
    {
      "cell_type": "markdown",
      "source": [
        "### Practice"
      ],
      "metadata": {
        "id": "FEQHQlEcJFLH"
      }
    },
    {
      "cell_type": "markdown",
      "source": [
        "Task 1: Temperature Filtering\n",
        "Given: A NumPy array of daily temperatures.\n",
        "Do:\n",
        "\n",
        "- Filter values above 30°C.\n",
        "\n",
        "- Replace all negative values with 0.\n",
        "\n",
        "- Count days with temperature > 25°C.\n"
      ],
      "metadata": {
        "id": "fyfbSEfjJEq0"
      }
    },
    {
      "cell_type": "code",
      "source": [
        "temp = [23, 43, 12, 32, -1, 14, 54, -3, 34, -9, 21]\n",
        "tempo = np.array(temp)\n",
        "print(f'Temperature over the last 12 days \\n{tempo}')"
      ],
      "metadata": {
        "colab": {
          "base_uri": "https://localhost:8080/"
        },
        "id": "KmwdCIOtJ-4K",
        "outputId": "ee5f16a6-28be-46e5-e68d-10a35e78f27b"
      },
      "execution_count": null,
      "outputs": [
        {
          "output_type": "stream",
          "name": "stdout",
          "text": [
            "Temperature over the last 12 days \n",
            "[23 43 12 32 -1 14 54 -3 34 -9 21]\n"
          ]
        }
      ]
    },
    {
      "cell_type": "code",
      "source": [
        "highest = tempo > 30\n",
        "tem = tempo[highest]\n",
        "tem"
      ],
      "metadata": {
        "colab": {
          "base_uri": "https://localhost:8080/"
        },
        "id": "XOMYZQ_wKPrh",
        "outputId": "d2bd93ae-00fd-4a43-81c2-6597924afcd1"
      },
      "execution_count": null,
      "outputs": [
        {
          "output_type": "execute_result",
          "data": {
            "text/plain": [
              "array([43, 32, 54, 34])"
            ]
          },
          "metadata": {},
          "execution_count": 86
        }
      ]
    },
    {
      "cell_type": "code",
      "source": [
        "tempo[tempo < 0] = 0\n",
        "tempo"
      ],
      "metadata": {
        "colab": {
          "base_uri": "https://localhost:8080/"
        },
        "id": "u1DbQM2XKrMZ",
        "outputId": "5048ce63-a075-4f1f-c819-204b15b3f80d"
      },
      "execution_count": null,
      "outputs": [
        {
          "output_type": "execute_result",
          "data": {
            "text/plain": [
              "array([23, 43, 12, 32,  0, 14, 54,  0, 34,  0, 21])"
            ]
          },
          "metadata": {},
          "execution_count": 93
        }
      ]
    },
    {
      "cell_type": "code",
      "source": [
        "low = tempo[tempo > 25]\n",
        "print(f'Days count when temp > 25: {len(low)}')"
      ],
      "metadata": {
        "colab": {
          "base_uri": "https://localhost:8080/"
        },
        "id": "5bgzMNSgPpUV",
        "outputId": "dd800aeb-815b-4ad9-c364-37a310234d9f"
      },
      "execution_count": null,
      "outputs": [
        {
          "output_type": "stream",
          "name": "stdout",
          "text": [
            "Days count when temp > 25: 4\n"
          ]
        }
      ]
    },
    {
      "cell_type": "markdown",
      "source": [
        "✅ Task 2: Daily Sales Analysis Given: A NumPy array of sales amounts over 15 days.\n",
        "\n",
        "\n",
        "- Find how many days sales were above 1000.\n",
        "\n",
        "- Replace all sales below 100 with 0.\n",
        "\n",
        "- Count total revenue."
      ],
      "metadata": {
        "id": "J8Qir5HlQVzG"
      }
    },
    {
      "cell_type": "code",
      "source": [
        "days = [1200, 9000, 200, 30, 5000, 16000, 2000, 100, 400, 1000, 15, 19000, 10000, 40, 600]\n",
        "day = np.array(days)\n",
        "coun = day[day > 1000]\n",
        "day[day <= 100] = 0\n",
        "sums = day.sum()\n",
        "print(f'Amount of days with more than 1000 prof: {len(coun)}')\n",
        "print(f'Total Revenue: {sums}')"
      ],
      "metadata": {
        "colab": {
          "base_uri": "https://localhost:8080/"
        },
        "id": "tOv9WdnAQjBs",
        "outputId": "e967f75a-aa0a-4476-d9cd-369b0c27f726"
      },
      "execution_count": null,
      "outputs": [
        {
          "output_type": "stream",
          "name": "stdout",
          "text": [
            "Amount of days with more than 1000 prof: 7\n",
            "Total Revenue: 64400\n"
          ]
        }
      ]
    },
    {
      "cell_type": "markdown",
      "source": [
        "### Mathematics"
      ],
      "metadata": {
        "id": "kyrtAPWNOPeb"
      }
    },
    {
      "cell_type": "code",
      "source": [
        "sum = tempo.sum()\n",
        "sum"
      ],
      "metadata": {
        "colab": {
          "base_uri": "https://localhost:8080/"
        },
        "id": "KRbaWMalNkbi",
        "outputId": "49b82d35-13b8-4055-86b6-50661ae4fad5"
      },
      "execution_count": null,
      "outputs": [
        {
          "output_type": "execute_result",
          "data": {
            "text/plain": [
              "np.int64(233)"
            ]
          },
          "metadata": {},
          "execution_count": 102
        }
      ]
    },
    {
      "cell_type": "markdown",
      "source": [
        "### Boolean Operations"
      ],
      "metadata": {
        "id": "mvCK44hb-8nU"
      }
    },
    {
      "cell_type": "code",
      "source": [
        "import numpy as np"
      ],
      "metadata": {
        "id": "RjlTZGzmONj5"
      },
      "execution_count": null,
      "outputs": []
    },
    {
      "cell_type": "code",
      "source": [
        "arr = np.arange(5)\n",
        "arr[[True, True, False, True, False]]"
      ],
      "metadata": {
        "colab": {
          "base_uri": "https://localhost:8080/"
        },
        "id": "3OuiogPv_GPZ",
        "outputId": "845599d1-34ea-4bc0-a6e2-b70aa8a910fd"
      },
      "execution_count": null,
      "outputs": [
        {
          "output_type": "execute_result",
          "data": {
            "text/plain": [
              "array([0, 1, 3])"
            ]
          },
          "metadata": {},
          "execution_count": 3
        }
      ]
    },
    {
      "cell_type": "code",
      "source": [
        "arr[arr >= 3]"
      ],
      "metadata": {
        "colab": {
          "base_uri": "https://localhost:8080/"
        },
        "id": "olIePRY7_StF",
        "outputId": "295eb082-6cb5-41a2-a003-cfc1243a0247"
      },
      "execution_count": null,
      "outputs": [
        {
          "output_type": "execute_result",
          "data": {
            "text/plain": [
              "array([3, 4])"
            ]
          },
          "metadata": {},
          "execution_count": 4
        }
      ]
    },
    {
      "cell_type": "markdown",
      "source": [
        "Returns bolean, `True` if the cond is True `False` if con is False"
      ],
      "metadata": {
        "id": "V7QcDPF-_ft2"
      }
    },
    {
      "cell_type": "code",
      "source": [
        "arr <= 3"
      ],
      "metadata": {
        "colab": {
          "base_uri": "https://localhost:8080/"
        },
        "id": "qKuBH99c_YPH",
        "outputId": "d36d1453-b153-43c8-9fc0-ff16d8201698"
      },
      "execution_count": null,
      "outputs": [
        {
          "output_type": "execute_result",
          "data": {
            "text/plain": [
              "array([ True,  True,  True,  True, False])"
            ]
          },
          "metadata": {},
          "execution_count": 5
        }
      ]
    },
    {
      "cell_type": "code",
      "source": [
        "arr[arr > arr.mean()]"
      ],
      "metadata": {
        "colab": {
          "base_uri": "https://localhost:8080/"
        },
        "id": "3RiqGsjz_dlL",
        "outputId": "d05063ff-f84a-442c-b726-772d895ace67"
      },
      "execution_count": null,
      "outputs": [
        {
          "output_type": "execute_result",
          "data": {
            "text/plain": [
              "array([3, 4])"
            ]
          },
          "metadata": {},
          "execution_count": 6
        }
      ]
    },
    {
      "cell_type": "code",
      "source": [
        "arr[(arr == 0) | (arr == 4)]"
      ],
      "metadata": {
        "colab": {
          "base_uri": "https://localhost:8080/"
        },
        "id": "9p3fOFVl_7n5",
        "outputId": "d46d7b9a-3925-4ac7-bf43-57dbb56a6dd8"
      },
      "execution_count": null,
      "outputs": [
        {
          "output_type": "execute_result",
          "data": {
            "text/plain": [
              "array([0, 4])"
            ]
          },
          "metadata": {},
          "execution_count": 9
        }
      ]
    },
    {
      "cell_type": "code",
      "source": [],
      "metadata": {
        "id": "uzqgu3FyAFMj"
      },
      "execution_count": null,
      "outputs": []
    }
  ]
}