{
  "nbformat": 4,
  "nbformat_minor": 0,
  "metadata": {
    "colab": {
      "provenance": []
    },
    "kernelspec": {
      "name": "python3",
      "display_name": "Python 3"
    },
    "language_info": {
      "name": "python"
    }
  },
  "cells": [
    {
      "cell_type": "markdown",
      "source": [
        "### Data Science and AI Practicum"
      ],
      "metadata": {
        "id": "3nmEHgrUQJ0W"
      }
    },
    {
      "cell_type": "markdown",
      "source": [
        "### 3 - Modul: Data Processing"
      ],
      "metadata": {
        "id": "Q4jzALjzQzRg"
      }
    },
    {
      "cell_type": "markdown",
      "source": [
        "- Working with Files"
      ],
      "metadata": {
        "id": "_4qQ-CeSQ7nM"
      }
    },
    {
      "cell_type": "code",
      "execution_count": null,
      "metadata": {
        "id": "VSvZXQbDQI8p"
      },
      "outputs": [],
      "source": [
        "import pandas as pd\n",
        "import numpy as np"
      ]
    },
    {
      "cell_type": "markdown",
      "source": [
        "`Basic File Functions`\n",
        "\n",
        "`.read_csv()` - used to read csv files(comma seperated files)\n",
        "\n",
        "`.read_table()` - used to read simple txt file but in a view of table with spaces\n",
        "\n",
        "`.read_excel()` - used to read excel files, xls, xlsx\n",
        "\n",
        "`.read_clipboard()` - used to read tables in a ram\\rom\n",
        "\n",
        "`.read_hdf()` - HDF5 files\n",
        "\n",
        "`.read_html()` - HTML (web), all the tables in website\n",
        "  \n",
        "`.read_json()` - used to read files on json format\n",
        "\n",
        "`.read_pickle()` - used to read files in a pickle format\n",
        "\n",
        "`.read_sql()` - used to read sql queries"
      ],
      "metadata": {
        "id": "dPvooo28RbnK"
      }
    },
    {
      "cell_type": "markdown",
      "source": [
        "------------------------------------------------------------------------------"
      ],
      "metadata": {
        "id": "0NbdZlXITjm6"
      }
    },
    {
      "cell_type": "markdown",
      "source": [
        "`read_csv()`\n",
        "\n",
        "CSV file (comma-seperated values)"
      ],
      "metadata": {
        "id": "MrJ_iELAUQb5"
      }
    },
    {
      "cell_type": "code",
      "source": [
        "pd.read_csv('file_csv')"
      ],
      "metadata": {
        "id": "izPk-sEIUbFV"
      },
      "execution_count": null,
      "outputs": []
    },
    {
      "cell_type": "markdown",
      "source": [
        "`read_table()`\n",
        "\n",
        "Text file (default tab or space_seperated)"
      ],
      "metadata": {
        "id": "0Jw3hmJfUiZK"
      }
    },
    {
      "cell_type": "code",
      "source": [
        "pd.read_table('file.txt', sep = '/t')"
      ],
      "metadata": {
        "id": "sGBfHmymUizX"
      },
      "execution_count": null,
      "outputs": []
    },
    {
      "cell_type": "markdown",
      "source": [
        "`read_excel()`\n",
        "\n",
        "Excel files (.xls, .xlsx)"
      ],
      "metadata": {
        "id": "GqDb-TA5U4-9"
      }
    },
    {
      "cell_type": "code",
      "source": [
        "pd.read_excel('file.xlsx')"
      ],
      "metadata": {
        "id": "OZUk1M1nVARg"
      },
      "execution_count": null,
      "outputs": []
    },
    {
      "cell_type": "markdown",
      "source": [
        "`read_clipboard()`\n",
        "\n",
        "Read copied table (Ctrl + C)"
      ],
      "metadata": {
        "id": "fpuGn5rBVHIx"
      }
    },
    {
      "cell_type": "code",
      "source": [
        "pd.read_clipboard()"
      ],
      "metadata": {
        "id": "DprlUH1QVHbK"
      },
      "execution_count": null,
      "outputs": []
    },
    {
      "cell_type": "markdown",
      "source": [
        "`read_hdf()`\n",
        "\n",
        "HDF5 binary format"
      ],
      "metadata": {
        "id": "578jHV8lVft5"
      }
    },
    {
      "cell_type": "code",
      "source": [
        "pd.read('file.h5')"
      ],
      "metadata": {
        "id": "I6I8PTEjVfe5"
      },
      "execution_count": null,
      "outputs": []
    },
    {
      "cell_type": "markdown",
      "source": [
        "`read_html()`\n",
        "\n",
        "Reads table from a webpage"
      ],
      "metadata": {
        "id": "g2CAWhWkVyIy"
      }
    },
    {
      "cell_type": "code",
      "source": [
        "pd.read_html('https://example.com')"
      ],
      "metadata": {
        "id": "2ePqQM2CVyWF"
      },
      "execution_count": null,
      "outputs": []
    },
    {
      "cell_type": "markdown",
      "source": [
        "`read_json()`\n",
        "\n",
        "Read JSON format"
      ],
      "metadata": {
        "id": "uJmNMrK5WbAA"
      }
    },
    {
      "cell_type": "code",
      "source": [
        "pd.read_json('file.json')"
      ],
      "metadata": {
        "id": "6y-TuSlbWNJl"
      },
      "execution_count": null,
      "outputs": []
    },
    {
      "cell_type": "markdown",
      "source": [
        "`read_pickle()`\n",
        "\n",
        "Reads Pickle-serialized objects"
      ],
      "metadata": {
        "id": "M6pz3c2RWo9S"
      }
    },
    {
      "cell_type": "code",
      "source": [
        "pd.read_pickle('file.pkl')"
      ],
      "metadata": {
        "id": "Z73Lhs8hWouA"
      },
      "execution_count": null,
      "outputs": []
    },
    {
      "cell_type": "markdown",
      "source": [
        "`read_sql()`\n",
        "\n",
        "sql query or table"
      ],
      "metadata": {
        "id": "4nKSyNcTXCTp"
      }
    },
    {
      "cell_type": "code",
      "source": [
        "pd.read_sql('SELECT * FROM table', connection)"
      ],
      "metadata": {
        "id": "nob0q0CuXDPp"
      },
      "execution_count": null,
      "outputs": []
    },
    {
      "cell_type": "markdown",
      "source": [
        "------------------------------------------------------------------------------"
      ],
      "metadata": {
        "id": "oKVKgdZlZN8p"
      }
    },
    {
      "cell_type": "markdown",
      "source": [
        "- Cloning a CSV file from github (we got one)"
      ],
      "metadata": {
        "id": "aSXLmpM8ZhI7"
      }
    },
    {
      "cell_type": "code",
      "source": [
        "!wget https://raw.githubusercontent.com/anvarnarz/praktikum_datasets/refs/heads/main/toy_dataset_modified.csv"
      ],
      "metadata": {
        "colab": {
          "base_uri": "https://localhost:8080/"
        },
        "id": "n9XR4FvbYaW4",
        "outputId": "b21794f9-5290-4382-e5b9-aec83441f384"
      },
      "execution_count": null,
      "outputs": [
        {
          "output_type": "stream",
          "name": "stdout",
          "text": [
            "--2025-04-21 12:46:39--  https://raw.githubusercontent.com/anvarnarz/praktikum_datasets/refs/heads/main/toy_dataset_modified.csv\n",
            "Resolving raw.githubusercontent.com (raw.githubusercontent.com)... 185.199.108.133, 185.199.109.133, 185.199.110.133, ...\n",
            "Connecting to raw.githubusercontent.com (raw.githubusercontent.com)|185.199.108.133|:443... connected.\n",
            "HTTP request sent, awaiting response... 200 OK\n",
            "Length: 49677 (49K) [text/plain]\n",
            "Saving to: ‘toy_dataset_modified.csv’\n",
            "\n",
            "toy_dataset_modifie 100%[===================>]  48.51K  --.-KB/s    in 0.02s   \n",
            "\n",
            "2025-04-21 12:46:39 (2.76 MB/s) - ‘toy_dataset_modified.csv’ saved [49677/49677]\n",
            "\n"
          ]
        }
      ]
    },
    {
      "cell_type": "code",
      "source": [
        "pd.read_csv('toy_dataset_modified.csv')"
      ],
      "metadata": {
        "id": "dahOWKNiYuXg",
        "colab": {
          "base_uri": "https://localhost:8080/",
          "height": 423
        },
        "outputId": "4d5e1707-6aa7-4294-e14a-2f3eca98decb"
      },
      "execution_count": null,
      "outputs": [
        {
          "output_type": "execute_result",
          "data": {
            "text/plain": [
              "               City  Gender   Age    Income Illness\n",
              "0     New York City    Male  49.0  112226.0      No\n",
              "1     New York City    Male  42.0  110534.0      No\n",
              "2     New York City  Female  61.0  100665.0      No\n",
              "3     New York City  Female  58.0   98147.0     Yes\n",
              "4     New York City  Female  43.0   93100.0      No\n",
              "...             ...     ...   ...       ...     ...\n",
              "1495  New York City    Male  33.0  123132.0      No\n",
              "1496  New York City  Female  48.0   96889.0      No\n",
              "1497  New York City    Male  27.0   93822.0      No\n",
              "1498  New York City  Female  36.0  116129.0      No\n",
              "1499  New York City    Male  51.0  108426.0      No\n",
              "\n",
              "[1500 rows x 5 columns]"
            ],
            "text/html": [
              "\n",
              "  <div id=\"df-3a6eefbd-96de-4917-b222-d4f6bb1487bf\" class=\"colab-df-container\">\n",
              "    <div>\n",
              "<style scoped>\n",
              "    .dataframe tbody tr th:only-of-type {\n",
              "        vertical-align: middle;\n",
              "    }\n",
              "\n",
              "    .dataframe tbody tr th {\n",
              "        vertical-align: top;\n",
              "    }\n",
              "\n",
              "    .dataframe thead th {\n",
              "        text-align: right;\n",
              "    }\n",
              "</style>\n",
              "<table border=\"1\" class=\"dataframe\">\n",
              "  <thead>\n",
              "    <tr style=\"text-align: right;\">\n",
              "      <th></th>\n",
              "      <th>City</th>\n",
              "      <th>Gender</th>\n",
              "      <th>Age</th>\n",
              "      <th>Income</th>\n",
              "      <th>Illness</th>\n",
              "    </tr>\n",
              "  </thead>\n",
              "  <tbody>\n",
              "    <tr>\n",
              "      <th>0</th>\n",
              "      <td>New York City</td>\n",
              "      <td>Male</td>\n",
              "      <td>49.0</td>\n",
              "      <td>112226.0</td>\n",
              "      <td>No</td>\n",
              "    </tr>\n",
              "    <tr>\n",
              "      <th>1</th>\n",
              "      <td>New York City</td>\n",
              "      <td>Male</td>\n",
              "      <td>42.0</td>\n",
              "      <td>110534.0</td>\n",
              "      <td>No</td>\n",
              "    </tr>\n",
              "    <tr>\n",
              "      <th>2</th>\n",
              "      <td>New York City</td>\n",
              "      <td>Female</td>\n",
              "      <td>61.0</td>\n",
              "      <td>100665.0</td>\n",
              "      <td>No</td>\n",
              "    </tr>\n",
              "    <tr>\n",
              "      <th>3</th>\n",
              "      <td>New York City</td>\n",
              "      <td>Female</td>\n",
              "      <td>58.0</td>\n",
              "      <td>98147.0</td>\n",
              "      <td>Yes</td>\n",
              "    </tr>\n",
              "    <tr>\n",
              "      <th>4</th>\n",
              "      <td>New York City</td>\n",
              "      <td>Female</td>\n",
              "      <td>43.0</td>\n",
              "      <td>93100.0</td>\n",
              "      <td>No</td>\n",
              "    </tr>\n",
              "    <tr>\n",
              "      <th>...</th>\n",
              "      <td>...</td>\n",
              "      <td>...</td>\n",
              "      <td>...</td>\n",
              "      <td>...</td>\n",
              "      <td>...</td>\n",
              "    </tr>\n",
              "    <tr>\n",
              "      <th>1495</th>\n",
              "      <td>New York City</td>\n",
              "      <td>Male</td>\n",
              "      <td>33.0</td>\n",
              "      <td>123132.0</td>\n",
              "      <td>No</td>\n",
              "    </tr>\n",
              "    <tr>\n",
              "      <th>1496</th>\n",
              "      <td>New York City</td>\n",
              "      <td>Female</td>\n",
              "      <td>48.0</td>\n",
              "      <td>96889.0</td>\n",
              "      <td>No</td>\n",
              "    </tr>\n",
              "    <tr>\n",
              "      <th>1497</th>\n",
              "      <td>New York City</td>\n",
              "      <td>Male</td>\n",
              "      <td>27.0</td>\n",
              "      <td>93822.0</td>\n",
              "      <td>No</td>\n",
              "    </tr>\n",
              "    <tr>\n",
              "      <th>1498</th>\n",
              "      <td>New York City</td>\n",
              "      <td>Female</td>\n",
              "      <td>36.0</td>\n",
              "      <td>116129.0</td>\n",
              "      <td>No</td>\n",
              "    </tr>\n",
              "    <tr>\n",
              "      <th>1499</th>\n",
              "      <td>New York City</td>\n",
              "      <td>Male</td>\n",
              "      <td>51.0</td>\n",
              "      <td>108426.0</td>\n",
              "      <td>No</td>\n",
              "    </tr>\n",
              "  </tbody>\n",
              "</table>\n",
              "<p>1500 rows × 5 columns</p>\n",
              "</div>\n",
              "    <div class=\"colab-df-buttons\">\n",
              "\n",
              "  <div class=\"colab-df-container\">\n",
              "    <button class=\"colab-df-convert\" onclick=\"convertToInteractive('df-3a6eefbd-96de-4917-b222-d4f6bb1487bf')\"\n",
              "            title=\"Convert this dataframe to an interactive table.\"\n",
              "            style=\"display:none;\">\n",
              "\n",
              "  <svg xmlns=\"http://www.w3.org/2000/svg\" height=\"24px\" viewBox=\"0 -960 960 960\">\n",
              "    <path d=\"M120-120v-720h720v720H120Zm60-500h600v-160H180v160Zm220 220h160v-160H400v160Zm0 220h160v-160H400v160ZM180-400h160v-160H180v160Zm440 0h160v-160H620v160ZM180-180h160v-160H180v160Zm440 0h160v-160H620v160Z\"/>\n",
              "  </svg>\n",
              "    </button>\n",
              "\n",
              "  <style>\n",
              "    .colab-df-container {\n",
              "      display:flex;\n",
              "      gap: 12px;\n",
              "    }\n",
              "\n",
              "    .colab-df-convert {\n",
              "      background-color: #E8F0FE;\n",
              "      border: none;\n",
              "      border-radius: 50%;\n",
              "      cursor: pointer;\n",
              "      display: none;\n",
              "      fill: #1967D2;\n",
              "      height: 32px;\n",
              "      padding: 0 0 0 0;\n",
              "      width: 32px;\n",
              "    }\n",
              "\n",
              "    .colab-df-convert:hover {\n",
              "      background-color: #E2EBFA;\n",
              "      box-shadow: 0px 1px 2px rgba(60, 64, 67, 0.3), 0px 1px 3px 1px rgba(60, 64, 67, 0.15);\n",
              "      fill: #174EA6;\n",
              "    }\n",
              "\n",
              "    .colab-df-buttons div {\n",
              "      margin-bottom: 4px;\n",
              "    }\n",
              "\n",
              "    [theme=dark] .colab-df-convert {\n",
              "      background-color: #3B4455;\n",
              "      fill: #D2E3FC;\n",
              "    }\n",
              "\n",
              "    [theme=dark] .colab-df-convert:hover {\n",
              "      background-color: #434B5C;\n",
              "      box-shadow: 0px 1px 3px 1px rgba(0, 0, 0, 0.15);\n",
              "      filter: drop-shadow(0px 1px 2px rgba(0, 0, 0, 0.3));\n",
              "      fill: #FFFFFF;\n",
              "    }\n",
              "  </style>\n",
              "\n",
              "    <script>\n",
              "      const buttonEl =\n",
              "        document.querySelector('#df-3a6eefbd-96de-4917-b222-d4f6bb1487bf button.colab-df-convert');\n",
              "      buttonEl.style.display =\n",
              "        google.colab.kernel.accessAllowed ? 'block' : 'none';\n",
              "\n",
              "      async function convertToInteractive(key) {\n",
              "        const element = document.querySelector('#df-3a6eefbd-96de-4917-b222-d4f6bb1487bf');\n",
              "        const dataTable =\n",
              "          await google.colab.kernel.invokeFunction('convertToInteractive',\n",
              "                                                    [key], {});\n",
              "        if (!dataTable) return;\n",
              "\n",
              "        const docLinkHtml = 'Like what you see? Visit the ' +\n",
              "          '<a target=\"_blank\" href=https://colab.research.google.com/notebooks/data_table.ipynb>data table notebook</a>'\n",
              "          + ' to learn more about interactive tables.';\n",
              "        element.innerHTML = '';\n",
              "        dataTable['output_type'] = 'display_data';\n",
              "        await google.colab.output.renderOutput(dataTable, element);\n",
              "        const docLink = document.createElement('div');\n",
              "        docLink.innerHTML = docLinkHtml;\n",
              "        element.appendChild(docLink);\n",
              "      }\n",
              "    </script>\n",
              "  </div>\n",
              "\n",
              "\n",
              "<div id=\"df-4380a5a6-8cd5-4612-aba3-7ab4cea6263d\">\n",
              "  <button class=\"colab-df-quickchart\" onclick=\"quickchart('df-4380a5a6-8cd5-4612-aba3-7ab4cea6263d')\"\n",
              "            title=\"Suggest charts\"\n",
              "            style=\"display:none;\">\n",
              "\n",
              "<svg xmlns=\"http://www.w3.org/2000/svg\" height=\"24px\"viewBox=\"0 0 24 24\"\n",
              "     width=\"24px\">\n",
              "    <g>\n",
              "        <path d=\"M19 3H5c-1.1 0-2 .9-2 2v14c0 1.1.9 2 2 2h14c1.1 0 2-.9 2-2V5c0-1.1-.9-2-2-2zM9 17H7v-7h2v7zm4 0h-2V7h2v10zm4 0h-2v-4h2v4z\"/>\n",
              "    </g>\n",
              "</svg>\n",
              "  </button>\n",
              "\n",
              "<style>\n",
              "  .colab-df-quickchart {\n",
              "      --bg-color: #E8F0FE;\n",
              "      --fill-color: #1967D2;\n",
              "      --hover-bg-color: #E2EBFA;\n",
              "      --hover-fill-color: #174EA6;\n",
              "      --disabled-fill-color: #AAA;\n",
              "      --disabled-bg-color: #DDD;\n",
              "  }\n",
              "\n",
              "  [theme=dark] .colab-df-quickchart {\n",
              "      --bg-color: #3B4455;\n",
              "      --fill-color: #D2E3FC;\n",
              "      --hover-bg-color: #434B5C;\n",
              "      --hover-fill-color: #FFFFFF;\n",
              "      --disabled-bg-color: #3B4455;\n",
              "      --disabled-fill-color: #666;\n",
              "  }\n",
              "\n",
              "  .colab-df-quickchart {\n",
              "    background-color: var(--bg-color);\n",
              "    border: none;\n",
              "    border-radius: 50%;\n",
              "    cursor: pointer;\n",
              "    display: none;\n",
              "    fill: var(--fill-color);\n",
              "    height: 32px;\n",
              "    padding: 0;\n",
              "    width: 32px;\n",
              "  }\n",
              "\n",
              "  .colab-df-quickchart:hover {\n",
              "    background-color: var(--hover-bg-color);\n",
              "    box-shadow: 0 1px 2px rgba(60, 64, 67, 0.3), 0 1px 3px 1px rgba(60, 64, 67, 0.15);\n",
              "    fill: var(--button-hover-fill-color);\n",
              "  }\n",
              "\n",
              "  .colab-df-quickchart-complete:disabled,\n",
              "  .colab-df-quickchart-complete:disabled:hover {\n",
              "    background-color: var(--disabled-bg-color);\n",
              "    fill: var(--disabled-fill-color);\n",
              "    box-shadow: none;\n",
              "  }\n",
              "\n",
              "  .colab-df-spinner {\n",
              "    border: 2px solid var(--fill-color);\n",
              "    border-color: transparent;\n",
              "    border-bottom-color: var(--fill-color);\n",
              "    animation:\n",
              "      spin 1s steps(1) infinite;\n",
              "  }\n",
              "\n",
              "  @keyframes spin {\n",
              "    0% {\n",
              "      border-color: transparent;\n",
              "      border-bottom-color: var(--fill-color);\n",
              "      border-left-color: var(--fill-color);\n",
              "    }\n",
              "    20% {\n",
              "      border-color: transparent;\n",
              "      border-left-color: var(--fill-color);\n",
              "      border-top-color: var(--fill-color);\n",
              "    }\n",
              "    30% {\n",
              "      border-color: transparent;\n",
              "      border-left-color: var(--fill-color);\n",
              "      border-top-color: var(--fill-color);\n",
              "      border-right-color: var(--fill-color);\n",
              "    }\n",
              "    40% {\n",
              "      border-color: transparent;\n",
              "      border-right-color: var(--fill-color);\n",
              "      border-top-color: var(--fill-color);\n",
              "    }\n",
              "    60% {\n",
              "      border-color: transparent;\n",
              "      border-right-color: var(--fill-color);\n",
              "    }\n",
              "    80% {\n",
              "      border-color: transparent;\n",
              "      border-right-color: var(--fill-color);\n",
              "      border-bottom-color: var(--fill-color);\n",
              "    }\n",
              "    90% {\n",
              "      border-color: transparent;\n",
              "      border-bottom-color: var(--fill-color);\n",
              "    }\n",
              "  }\n",
              "</style>\n",
              "\n",
              "  <script>\n",
              "    async function quickchart(key) {\n",
              "      const quickchartButtonEl =\n",
              "        document.querySelector('#' + key + ' button');\n",
              "      quickchartButtonEl.disabled = true;  // To prevent multiple clicks.\n",
              "      quickchartButtonEl.classList.add('colab-df-spinner');\n",
              "      try {\n",
              "        const charts = await google.colab.kernel.invokeFunction(\n",
              "            'suggestCharts', [key], {});\n",
              "      } catch (error) {\n",
              "        console.error('Error during call to suggestCharts:', error);\n",
              "      }\n",
              "      quickchartButtonEl.classList.remove('colab-df-spinner');\n",
              "      quickchartButtonEl.classList.add('colab-df-quickchart-complete');\n",
              "    }\n",
              "    (() => {\n",
              "      let quickchartButtonEl =\n",
              "        document.querySelector('#df-4380a5a6-8cd5-4612-aba3-7ab4cea6263d button');\n",
              "      quickchartButtonEl.style.display =\n",
              "        google.colab.kernel.accessAllowed ? 'block' : 'none';\n",
              "    })();\n",
              "  </script>\n",
              "</div>\n",
              "\n",
              "    </div>\n",
              "  </div>\n"
            ],
            "application/vnd.google.colaboratory.intrinsic+json": {
              "type": "dataframe",
              "summary": "{\n  \"name\": \"pd\",\n  \"rows\": 1500,\n  \"fields\": [\n    {\n      \"column\": \"City\",\n      \"properties\": {\n        \"dtype\": \"category\",\n        \"num_unique_values\": 1,\n        \"samples\": [\n          \"New York City\"\n        ],\n        \"semantic_type\": \"\",\n        \"description\": \"\"\n      }\n    },\n    {\n      \"column\": \"Gender\",\n      \"properties\": {\n        \"dtype\": \"category\",\n        \"num_unique_values\": 2,\n        \"samples\": [\n          \"Female\"\n        ],\n        \"semantic_type\": \"\",\n        \"description\": \"\"\n      }\n    },\n    {\n      \"column\": \"Age\",\n      \"properties\": {\n        \"dtype\": \"number\",\n        \"std\": 11.62617477817681,\n        \"min\": 25.0,\n        \"max\": 65.0,\n        \"num_unique_values\": 41,\n        \"samples\": [\n          56.0\n        ],\n        \"semantic_type\": \"\",\n        \"description\": \"\"\n      }\n    },\n    {\n      \"column\": \"Income\",\n      \"properties\": {\n        \"dtype\": \"number\",\n        \"std\": 11512.188761213518,\n        \"min\": 56475.0,\n        \"max\": 133872.0,\n        \"num_unique_values\": 1435,\n        \"samples\": [\n          98353.0\n        ],\n        \"semantic_type\": \"\",\n        \"description\": \"\"\n      }\n    },\n    {\n      \"column\": \"Illness\",\n      \"properties\": {\n        \"dtype\": \"category\",\n        \"num_unique_values\": 2,\n        \"samples\": [\n          \"Yes\"\n        ],\n        \"semantic_type\": \"\",\n        \"description\": \"\"\n      }\n    }\n  ]\n}"
            }
          },
          "metadata": {},
          "execution_count": 5
        }
      ]
    },
    {
      "cell_type": "markdown",
      "source": [
        "------------------------------------------------------------------------------"
      ],
      "metadata": {
        "id": "5_fAyxHWZQOY"
      }
    },
    {
      "cell_type": "markdown",
      "source": [
        "- Cloning all files from a repository (not one)"
      ],
      "metadata": {
        "id": "i56IJQFHZx9z"
      }
    },
    {
      "cell_type": "code",
      "source": [
        "!git clone https://github.com/anvarnarz/praktikum_datasets/tree/main"
      ],
      "metadata": {
        "colab": {
          "base_uri": "https://localhost:8080/"
        },
        "id": "bZsTAKSCZHee",
        "outputId": "3baedaac-264e-4b8b-b619-22663910abd8"
      },
      "execution_count": null,
      "outputs": [
        {
          "output_type": "stream",
          "name": "stdout",
          "text": [
            "Cloning into 'main'...\n",
            "fatal: repository 'https://github.com/anvarnarz/praktikum_datasets/tree/main/' not found\n"
          ]
        }
      ]
    }
  ]
}