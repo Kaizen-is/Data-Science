{
  "nbformat": 4,
  "nbformat_minor": 0,
  "metadata": {
    "colab": {
      "provenance": []
    },
    "kernelspec": {
      "name": "python3",
      "display_name": "Python 3"
    },
    "language_info": {
      "name": "python"
    }
  },
  "cells": [
    {
      "cell_type": "markdown",
      "source": [
        "### Data Science and AI Practicum"
      ],
      "metadata": {
        "id": "BeH__N2nLMIh"
      }
    },
    {
      "cell_type": "markdown",
      "source": [
        "### Working with SQLite"
      ],
      "metadata": {
        "id": "Pz-DJWDALbP-"
      }
    },
    {
      "cell_type": "code",
      "execution_count": 2,
      "metadata": {
        "id": "9EqTrhptLKgv"
      },
      "outputs": [],
      "source": [
        "import pandas as pd\n",
        "import sqlite3 as sql\n",
        "from pprint import pprint as print"
      ]
    },
    {
      "cell_type": "code",
      "source": [
        "!unzip sample_db.zip"
      ],
      "metadata": {
        "colab": {
          "base_uri": "https://localhost:8080/"
        },
        "id": "TGgtDKdsLrCR",
        "outputId": "be8ed3b5-6533-454c-bce7-c56e1bb15b1b"
      },
      "execution_count": 3,
      "outputs": [
        {
          "output_type": "stream",
          "name": "stdout",
          "text": [
            "Archive:  sample_db.zip\n",
            " extracting: sample.db               \n"
          ]
        }
      ]
    },
    {
      "cell_type": "code",
      "source": [
        "examdb = sql.connect(\"sample.db\")\n",
        "cursor = examdb.cursor()"
      ],
      "metadata": {
        "id": "N4BCE4VrLzUY"
      },
      "execution_count": 4,
      "outputs": []
    },
    {
      "cell_type": "code",
      "source": [
        "cursor.execute(\"select name from sqlite_master where type = 'table';\")\n",
        "cursor.fetchall()"
      ],
      "metadata": {
        "colab": {
          "base_uri": "https://localhost:8080/"
        },
        "id": "zla87YmiMMz3",
        "outputId": "938361dd-26d4-4405-817d-e52c9098b92a"
      },
      "execution_count": 5,
      "outputs": [
        {
          "output_type": "execute_result",
          "data": {
            "text/plain": [
              "[('users',), ('orders',)]"
            ]
          },
          "metadata": {},
          "execution_count": 5
        }
      ]
    },
    {
      "cell_type": "code",
      "source": [
        "cursor.execute(\"select count(*) from users\")\n",
        "cursor.fetchone()"
      ],
      "metadata": {
        "colab": {
          "base_uri": "https://localhost:8080/"
        },
        "id": "fKhOjF6DMap1",
        "outputId": "ae961737-392a-499b-e408-e0a7e306ba38"
      },
      "execution_count": 7,
      "outputs": [
        {
          "output_type": "execute_result",
          "data": {
            "text/plain": [
              "(50,)"
            ]
          },
          "metadata": {},
          "execution_count": 7
        }
      ]
    },
    {
      "cell_type": "markdown",
      "source": [
        "--------------------------------------------------------------------------------\n"
      ],
      "metadata": {
        "id": "5fcoZvohNphH"
      }
    },
    {
      "cell_type": "markdown",
      "source": [
        "### Fetch one"
      ],
      "metadata": {
        "id": "OgNLXezsNsWa"
      }
    },
    {
      "cell_type": "markdown",
      "source": [
        "cursor.fetchone()"
      ],
      "metadata": {
        "id": "srhLSvIFNzB0"
      }
    },
    {
      "cell_type": "code",
      "source": [
        "cursor.execute(\"select * from users\")\n",
        "cursor.fetchone()"
      ],
      "metadata": {
        "colab": {
          "base_uri": "https://localhost:8080/"
        },
        "id": "cwMnNSPJM8fP",
        "outputId": "34382426-59db-434f-ab3c-6e31db2412d8"
      },
      "execution_count": 9,
      "outputs": [
        {
          "output_type": "execute_result",
          "data": {
            "text/plain": [
              "(1, 'User1', 20)"
            ]
          },
          "metadata": {},
          "execution_count": 9
        }
      ]
    },
    {
      "cell_type": "markdown",
      "source": [
        "--------------------------------------------------------------------------------"
      ],
      "metadata": {
        "id": "LksHFLNMN74L"
      }
    },
    {
      "cell_type": "markdown",
      "source": [
        "### Fetch all"
      ],
      "metadata": {
        "id": "OqRVe6AsN8tq"
      }
    },
    {
      "cell_type": "markdown",
      "source": [
        "cursor.fetchall()"
      ],
      "metadata": {
        "id": "4aiP5Cf6OAs6"
      }
    },
    {
      "cell_type": "code",
      "source": [
        "cursor.execute(\"select * from users\")\n",
        "cursor.fetchall()"
      ],
      "metadata": {
        "colab": {
          "base_uri": "https://localhost:8080/"
        },
        "id": "DDE_chJoNE6h",
        "outputId": "41ac3f1f-6eb2-493c-a0bd-59d2c4e09467"
      },
      "execution_count": 10,
      "outputs": [
        {
          "output_type": "execute_result",
          "data": {
            "text/plain": [
              "[(1, 'User1', 20),\n",
              " (2, 'User2', 21),\n",
              " (3, 'User3', 22),\n",
              " (4, 'User4', 23),\n",
              " (5, 'User5', 24),\n",
              " (6, 'User6', 25),\n",
              " (7, 'User7', 26),\n",
              " (8, 'User8', 27),\n",
              " (9, 'User9', 28),\n",
              " (10, 'User10', 29),\n",
              " (11, 'User11', 20),\n",
              " (12, 'User12', 21),\n",
              " (13, 'User13', 22),\n",
              " (14, 'User14', 23),\n",
              " (15, 'User15', 24),\n",
              " (16, 'User16', 25),\n",
              " (17, 'User17', 26),\n",
              " (18, 'User18', 27),\n",
              " (19, 'User19', 28),\n",
              " (20, 'User20', 29),\n",
              " (21, 'User21', 20),\n",
              " (22, 'User22', 21),\n",
              " (23, 'User23', 22),\n",
              " (24, 'User24', 23),\n",
              " (25, 'User25', 24),\n",
              " (26, 'User26', 25),\n",
              " (27, 'User27', 26),\n",
              " (28, 'User28', 27),\n",
              " (29, 'User29', 28),\n",
              " (30, 'User30', 29),\n",
              " (31, 'User31', 20),\n",
              " (32, 'User32', 21),\n",
              " (33, 'User33', 22),\n",
              " (34, 'User34', 23),\n",
              " (35, 'User35', 24),\n",
              " (36, 'User36', 25),\n",
              " (37, 'User37', 26),\n",
              " (38, 'User38', 27),\n",
              " (39, 'User39', 28),\n",
              " (40, 'User40', 29),\n",
              " (41, 'User41', 20),\n",
              " (42, 'User42', 21),\n",
              " (43, 'User43', 22),\n",
              " (44, 'User44', 23),\n",
              " (45, 'User45', 24),\n",
              " (46, 'User46', 25),\n",
              " (47, 'User47', 26),\n",
              " (48, 'User48', 27),\n",
              " (49, 'User49', 28),\n",
              " (50, 'User50', 29)]"
            ]
          },
          "metadata": {},
          "execution_count": 10
        }
      ]
    },
    {
      "cell_type": "markdown",
      "source": [
        "--------------------------------------------------------------------------------"
      ],
      "metadata": {
        "id": "0-AU8LIWQsjT"
      }
    },
    {
      "cell_type": "markdown",
      "source": [
        "### Fetch any"
      ],
      "metadata": {
        "id": "DCh4J9fOQuiS"
      }
    },
    {
      "cell_type": "markdown",
      "source": [
        "cursor.fetchany(n)"
      ],
      "metadata": {
        "id": "0HPDiZqzQvAu"
      }
    },
    {
      "cell_type": "code",
      "source": [
        "cursor.execute(\"select * from users where age % 2 = 0\")\n",
        "cursor.fetchmany(10)"
      ],
      "metadata": {
        "colab": {
          "base_uri": "https://localhost:8080/"
        },
        "id": "X8upcELgOK62",
        "outputId": "d613ac04-4730-4c36-a109-abdaf4cb2d4e"
      },
      "execution_count": 12,
      "outputs": [
        {
          "output_type": "execute_result",
          "data": {
            "text/plain": [
              "[(1, 'User1', 20),\n",
              " (3, 'User3', 22),\n",
              " (5, 'User5', 24),\n",
              " (7, 'User7', 26),\n",
              " (9, 'User9', 28),\n",
              " (11, 'User11', 20),\n",
              " (13, 'User13', 22),\n",
              " (15, 'User15', 24),\n",
              " (17, 'User17', 26),\n",
              " (19, 'User19', 28)]"
            ]
          },
          "metadata": {},
          "execution_count": 12
        }
      ]
    },
    {
      "cell_type": "markdown",
      "source": [
        "--------------------------------------------------------------------------------"
      ],
      "metadata": {
        "id": "ewZGBAdjRlX0"
      }
    },
    {
      "cell_type": "code",
      "source": [
        "cursor.execute(\"select * from users\")\n",
        "column_names = [description[0] for description in cursor.description]\n",
        "column_names"
      ],
      "metadata": {
        "colab": {
          "base_uri": "https://localhost:8080/"
        },
        "id": "DEG5fM_NRSov",
        "outputId": "333f882c-b285-47fb-a5cb-a80d7fcdfb76"
      },
      "execution_count": 13,
      "outputs": [
        {
          "output_type": "execute_result",
          "data": {
            "text/plain": [
              "['id', 'name', 'age']"
            ]
          },
          "metadata": {},
          "execution_count": 13
        }
      ]
    }
  ]
}