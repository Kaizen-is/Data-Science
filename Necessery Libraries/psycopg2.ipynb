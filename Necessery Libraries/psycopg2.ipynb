{
  "nbformat": 4,
  "nbformat_minor": 0,
  "metadata": {
    "colab": {
      "provenance": []
    },
    "kernelspec": {
      "name": "python3",
      "display_name": "Python 3"
    },
    "language_info": {
      "name": "python"
    }
  },
  "cells": [
    {
      "cell_type": "markdown",
      "source": [
        "### psycopg2\n",
        "\n",
        "- psycopg2 is the most common PostgreSQL adapter for Python\n",
        "- it allow Python code to connect to a PostgreSQL database, run queries(sql), fetch results and manage transactions.\n",
        "- It allows Python DB-API 2.0 standard, so it looks similar to other Python DB libraries\n"
      ],
      "metadata": {
        "id": "bzd9T-viETyd"
      }
    },
    {
      "cell_type": "markdown",
      "source": [
        "### Installation"
      ],
      "metadata": {
        "id": "OOEhomsuFXKu"
      }
    },
    {
      "cell_type": "markdown",
      "source": [
        "    pip install psycopg2-binary"
      ],
      "metadata": {
        "id": "jcMpK5BWETkW"
      }
    },
    {
      "cell_type": "markdown",
      "source": [
        "- psycopg2: requires complication (heavier)\n",
        "- psycopg2-binary: easier, precompiled (use in developement, not production for heavy loads)"
      ],
      "metadata": {
        "id": "9WE5dGUHE_fy"
      }
    },
    {
      "cell_type": "markdown",
      "source": [
        "### Basic Workflow"
      ],
      "metadata": {
        "id": "2xJRsuAQFblv"
      }
    },
    {
      "cell_type": "markdown",
      "source": [
        "The typical steps when using psycopg2:\n",
        "\n",
        "1. Connect to the database\n",
        "2. Create a cursor\n",
        "3. Execute SQL queries\n",
        "4. Fetch results if needed\n",
        "5. Commit changes (for insert/update/delete)\n",
        "6. Close cursor and connection"
      ],
      "metadata": {
        "id": "DLd0thC1FeMQ"
      }
    },
    {
      "cell_type": "markdown",
      "source": [
        "### Connect to PostgreSQL"
      ],
      "metadata": {
        "id": "Hr2oATXgF9sD"
      }
    },
    {
      "cell_type": "markdown",
      "source": [
        "    import psycopg2\n",
        "\n",
        "    connector = psycopg2.connect(\n",
        "          db_name = \"mydb\",\n",
        "          user = \"myuser\",\n",
        "          password = \"mypassword\",\n",
        "          host = \"localhost\",\n",
        "          port = \"5432\",\n",
        "      )"
      ],
      "metadata": {
        "id": "s5GTqqsSGAf0"
      }
    },
    {
      "cell_type": "markdown",
      "source": [
        "- `dbname`: Database name\n",
        "- `user`: Database username\n",
        "- `password`: Password\n",
        "- `host`: Hostname (default: localhost)\n",
        "- `port`: Port (default: 5432)"
      ],
      "metadata": {
        "id": "15H_SLR8Gj8Q"
      }
    },
    {
      "cell_type": "markdown",
      "source": [
        "### Using a Cursor\n",
        "\n",
        "\n",
        "    cursor = connector.cursor()\n",
        "\n",
        "- cursor is how you run SQL commands"
      ],
      "metadata": {
        "id": "fDDMz8B2G8Fe"
      }
    },
    {
      "cell_type": "markdown",
      "source": [
        "### Running Queries\n",
        "\n",
        "    cursor.execute(\"CREATE TABLE IF NOT EXISTS user(ID SERIAL PRIMARY KEY, name, TEXT)\")\n",
        "    cur.execute(\"INSERT INTO users (name) VALUES(%s)\", (\"Jinwoo\",))\n",
        "\n",
        "- Use %s placeholders (not f-strings): prevents SQL injection.\n",
        "- Values are passed as a tuple.\n"
      ],
      "metadata": {
        "id": "Ia9klTKmHOsP"
      }
    },
    {
      "cell_type": "markdown",
      "source": [
        "### Fetching Data\n",
        "\n",
        "\n",
        "    cursor.execute(\"select * from users\")\n",
        "    rows = cursor.fetchall() # getts all the rows\n",
        "    one_row = cursor.fetchone() # getts some of the rows\n",
        "    some_rows = cursor.fetchmany(5) # getts 5 rows"
      ],
      "metadata": {
        "id": "CpmyKk2FInXB"
      }
    },
    {
      "cell_type": "markdown",
      "source": [
        "### Transactions\n",
        "\n",
        "- psycopg2 strarts a transaction automatically.\n",
        "- You must commit if you change data:\n",
        "\n",
        "    connector.commit()"
      ],
      "metadata": {
        "id": "hpEHeXqsJJdn"
      }
    },
    {
      "cell_type": "markdown",
      "source": [
        "    connector.commit()\n",
        "\n",
        "    connector.rollback() # rOLLBACK IF something fails"
      ],
      "metadata": {
        "id": "hkp_hjuKJj-K"
      }
    },
    {
      "cell_type": "markdown",
      "source": [
        "### Closing\n",
        "\n",
        "    cursor.close()\n",
        "    connector.close()"
      ],
      "metadata": {
        "id": "zxRFeliCJ1CA"
      }
    },
    {
      "cell_type": "markdown",
      "source": [
        "### Context Managers Recomended"
      ],
      "metadata": {
        "id": "RO3OXaRkKBtX"
      }
    },
    {
      "cell_type": "markdown",
      "source": [
        "    with psycopg2.connect(...) as conn:\n",
        "      with conn.cursor() as cur:\n",
        "        cur.execute(\"select * from users\")\n",
        "        print(cur.fetchall())"
      ],
      "metadata": {
        "id": "EVhRDzX_KGCx"
      }
    },
    {
      "cell_type": "markdown",
      "source": [
        "- Auto-closes: connection/cursor\n",
        "- Auto-commits or rolls back on exit"
      ],
      "metadata": {
        "id": "F7lCaWsjKhJQ"
      }
    },
    {
      "cell_type": "markdown",
      "source": [
        "### Useful Features\n",
        "\n",
        "1. Execute Many Inserts\n"
      ],
      "metadata": {
        "id": "wCCQKdNwKy1e"
      }
    },
    {
      "cell_type": "markdown",
      "source": [
        "    cursor.executemany(\"Insert INTO users (name) VALUES (%s)\", [(\"A\",), (\"B\",), (\"C\",)])"
      ],
      "metadata": {
        "id": "yEfA-81hLWJt"
      }
    },
    {
      "cell_type": "markdown",
      "source": [
        "2. Copy (Fast Bulk Insert/Export)"
      ],
      "metadata": {
        "id": "_JsGdDvNLccD"
      }
    },
    {
      "cell_type": "markdown",
      "source": [
        "    with open(\"data.csv\", \"r\") as f:\n",
        "      cur.copy_from(f, \"users\", sep=\",\")"
      ],
      "metadata": {
        "id": "KdDJNSoyLjeq"
      }
    },
    {
      "cell_type": "markdown",
      "source": [
        "3. Connection Pooling (with psycopg2.pool) → useful in web apps.\n",
        "\n",
        "4. Adaptation: psycopg2 automatically converts Python types ↔ PostgreSQL types (e.g., datetime, Decimal)."
      ],
      "metadata": {
        "id": "-1kb4kNyLuP5"
      }
    },
    {
      "cell_type": "markdown",
      "source": [
        "### Common Errors\n",
        "\n",
        "- `psycopg2.OperationalError`: Wrong credentials, DB not running.\n",
        "\n",
        "- `ProgrammingError: relation does not exist`: Table not created yet.\n",
        "\n",
        "- `psycopg2.InterfaceError: cursor already closed`: You forgot to manage cursor properly.\n",
        "\n",
        "- Always use try/except or context managers."
      ],
      "metadata": {
        "id": "FwW7UZr2Lz4I"
      }
    }
  ]
}