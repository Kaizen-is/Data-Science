{
  "nbformat": 4,
  "nbformat_minor": 0,
  "metadata": {
    "colab": {
      "provenance": []
    },
    "kernelspec": {
      "name": "python3",
      "display_name": "Python 3"
    },
    "language_info": {
      "name": "python"
    }
  },
  "cells": [
    {
      "cell_type": "markdown",
      "source": [
        "### Data Sciecne"
      ],
      "metadata": {
        "id": "Iy88ufU_sN8-"
      }
    },
    {
      "cell_type": "markdown",
      "source": [
        "- Pandas Indexing"
      ],
      "metadata": {
        "id": "wU3EDhissNtc"
      }
    },
    {
      "cell_type": "code",
      "source": [
        "import pandas as pd\n",
        "from pandas import Series\n",
        "\n",
        "anime_dic = {'Solo Leveling':8.9, 'Attack on Titan':9.0, 'Magic and Musculs':7.8, 'Hellish Paradise':7.9, 'Sacamoto Days':8.8}\n",
        "\n",
        "rating = Series(anime_dic)\n",
        "print(f\"Rating of the animes of all time:\\n \\n{rating}\")"
      ],
      "metadata": {
        "colab": {
          "base_uri": "https://localhost:8080/"
        },
        "id": "nlPZzt7HtblF",
        "outputId": "eba29afb-01dc-4e59-d348-c7d6e46fc0a4"
      },
      "execution_count": 7,
      "outputs": [
        {
          "output_type": "stream",
          "name": "stdout",
          "text": [
            "Rating of the animes of all time:\n",
            " \n",
            "Solo Leveling        8.9\n",
            "Attack on Titan      9.0\n",
            "Magic and Musculs    7.8\n",
            "Hellish paradise     7.9\n",
            "Sacamoto days        8.8\n",
            "dtype: float64\n"
          ]
        }
      ]
    },
    {
      "cell_type": "code",
      "source": [
        "import pandas as pd\n",
        "from pandas import Series\n",
        "\n",
        "rating = Series({'Solo Leveling':8.9, 'Attack on Titan':9.0, 'Magic and Musculs':7.8, 'Hellish Paradise':7.9, 'Sacamoto Days':8.8})\n",
        "print(f\"Rating of the animes of all time:\\n \\n{rating}\")"
      ],
      "metadata": {
        "colab": {
          "base_uri": "https://localhost:8080/"
        },
        "id": "0opQeyEzts_j",
        "outputId": "32dec5a7-e9df-4b17-d9d6-497319595d15"
      },
      "execution_count": 9,
      "outputs": [
        {
          "output_type": "stream",
          "name": "stdout",
          "text": [
            "Rating of the animes of all time:\n",
            " \n",
            "Solo Leveling        8.9\n",
            "Attack on Titan      9.0\n",
            "Magic and Musculs    7.8\n",
            "Hellish paradise     7.9\n",
            "Sacamoto days        8.8\n",
            "dtype: float64\n"
          ]
        }
      ]
    },
    {
      "cell_type": "code",
      "source": [
        "import pandas as pd\n",
        "import numpy as np\n",
        "from pandas import Series\n",
        "\n",
        "anime_dic = {'Solo Leveling':8.9, 'Attack on Titan':9.0, 'Magic and Musculs':7.8, 'Hellish Paradise':7.9, 'Sacamoto Days':8.8}\n",
        "\n",
        "top = ['Attack on Titan', 'Solo Leveling', 'Sacamoto Days', 'Hellish Paradise', 'Magic and Musculs', 'Demon Slay']\n",
        "\n",
        "rating = Series(anime_dic, index = top)\n",
        "print(f\"Rating of the animes of all time:\\n \\n{rating}\")"
      ],
      "metadata": {
        "colab": {
          "base_uri": "https://localhost:8080/"
        },
        "id": "IMESe7SfulxX",
        "outputId": "976b5b80-b1ce-439b-ff7f-d715a518063e"
      },
      "execution_count": 13,
      "outputs": [
        {
          "output_type": "stream",
          "name": "stdout",
          "text": [
            "Rating of the animes of all time:\n",
            " \n",
            "Attack on Titan      9.0\n",
            "Solo Leveling        8.9\n",
            "Sacamoto Days        8.8\n",
            "Hellish Paradise     7.9\n",
            "Magic and Musculs    7.8\n",
            "Demon Slay           NaN\n",
            "dtype: float64\n"
          ]
        }
      ]
    },
    {
      "cell_type": "code",
      "source": [
        "print('Solo Leveling' in rating)"
      ],
      "metadata": {
        "colab": {
          "base_uri": "https://localhost:8080/"
        },
        "id": "ywdTlDs3vnOs",
        "outputId": "80deed80-e040-40a5-939a-cf1842c54bc2"
      },
      "execution_count": 14,
      "outputs": [
        {
          "output_type": "stream",
          "name": "stdout",
          "text": [
            "True\n"
          ]
        }
      ]
    },
    {
      "cell_type": "code",
      "source": [
        "import numpy as np\n",
        "top_anime = rating[rating.values > 8]\n",
        "lo_anime = rating[rating.values < 8]\n",
        "print(f\"{top_anime}\\n-------------\\n{lo_anime}\")"
      ],
      "metadata": {
        "colab": {
          "base_uri": "https://localhost:8080/"
        },
        "id": "RUALXyshwMAT",
        "outputId": "6316913a-1741-4199-de15-e35839571439"
      },
      "execution_count": 24,
      "outputs": [
        {
          "output_type": "stream",
          "name": "stdout",
          "text": [
            "Attack on Titan    9.0\n",
            "Solo Leveling      8.9\n",
            "Sacamoto Days      8.8\n",
            "dtype: float64\n",
            "-------------\n",
            "Hellish Paradise     7.9\n",
            "Magic and Musculs    7.8\n",
            "dtype: float64\n"
          ]
        }
      ]
    },
    {
      "cell_type": "code",
      "source": [
        "top_anime"
      ],
      "metadata": {
        "colab": {
          "base_uri": "https://localhost:8080/",
          "height": 178
        },
        "id": "7pqoll0iyDFR",
        "outputId": "9226cb9e-8170-489f-db71-a9216bea6e4b"
      },
      "execution_count": 27,
      "outputs": [
        {
          "output_type": "execute_result",
          "data": {
            "text/plain": [
              "Attack on Titan    9.0\n",
              "Solo Leveling      8.9\n",
              "Sacamoto Days      8.8\n",
              "dtype: float64"
            ],
            "text/html": [
              "<div>\n",
              "<style scoped>\n",
              "    .dataframe tbody tr th:only-of-type {\n",
              "        vertical-align: middle;\n",
              "    }\n",
              "\n",
              "    .dataframe tbody tr th {\n",
              "        vertical-align: top;\n",
              "    }\n",
              "\n",
              "    .dataframe thead th {\n",
              "        text-align: right;\n",
              "    }\n",
              "</style>\n",
              "<table border=\"1\" class=\"dataframe\">\n",
              "  <thead>\n",
              "    <tr style=\"text-align: right;\">\n",
              "      <th></th>\n",
              "      <th>0</th>\n",
              "    </tr>\n",
              "  </thead>\n",
              "  <tbody>\n",
              "    <tr>\n",
              "      <th>Attack on Titan</th>\n",
              "      <td>9.0</td>\n",
              "    </tr>\n",
              "    <tr>\n",
              "      <th>Solo Leveling</th>\n",
              "      <td>8.9</td>\n",
              "    </tr>\n",
              "    <tr>\n",
              "      <th>Sacamoto Days</th>\n",
              "      <td>8.8</td>\n",
              "    </tr>\n",
              "  </tbody>\n",
              "</table>\n",
              "</div><br><label><b>dtype:</b> float64</label>"
            ]
          },
          "metadata": {},
          "execution_count": 27
        }
      ]
    },
    {
      "cell_type": "code",
      "source": [
        "lo_anime"
      ],
      "metadata": {
        "colab": {
          "base_uri": "https://localhost:8080/",
          "height": 147
        },
        "id": "VBI6MSr6yQK8",
        "outputId": "55952eb5-8442-456e-9f79-ddf2b16a0f4a"
      },
      "execution_count": 25,
      "outputs": [
        {
          "output_type": "execute_result",
          "data": {
            "text/plain": [
              "Hellish Paradise     7.9\n",
              "Magic and Musculs    7.8\n",
              "dtype: float64"
            ],
            "text/html": [
              "<div>\n",
              "<style scoped>\n",
              "    .dataframe tbody tr th:only-of-type {\n",
              "        vertical-align: middle;\n",
              "    }\n",
              "\n",
              "    .dataframe tbody tr th {\n",
              "        vertical-align: top;\n",
              "    }\n",
              "\n",
              "    .dataframe thead th {\n",
              "        text-align: right;\n",
              "    }\n",
              "</style>\n",
              "<table border=\"1\" class=\"dataframe\">\n",
              "  <thead>\n",
              "    <tr style=\"text-align: right;\">\n",
              "      <th></th>\n",
              "      <th>0</th>\n",
              "    </tr>\n",
              "  </thead>\n",
              "  <tbody>\n",
              "    <tr>\n",
              "      <th>Hellish Paradise</th>\n",
              "      <td>7.9</td>\n",
              "    </tr>\n",
              "    <tr>\n",
              "      <th>Magic and Musculs</th>\n",
              "      <td>7.8</td>\n",
              "    </tr>\n",
              "  </tbody>\n",
              "</table>\n",
              "</div><br><label><b>dtype:</b> float64</label>"
            ]
          },
          "metadata": {},
          "execution_count": 25
        }
      ]
    },
    {
      "cell_type": "code",
      "source": [
        "name = str(input(\"Name: \"))\n",
        "if name in top_anime:\n",
        "  print(f\"Rating: {top_anime[name]}\")\n",
        "else:\n",
        "  print(\"Not in the top!\")"
      ],
      "metadata": {
        "colab": {
          "base_uri": "https://localhost:8080/"
        },
        "id": "wGp2R29Yy1Kd",
        "outputId": "7d666e71-35db-4eb5-bc24-2b9b0398e401"
      },
      "execution_count": 28,
      "outputs": [
        {
          "output_type": "stream",
          "name": "stdout",
          "text": [
            "Name: Solo Leveling\n",
            "Rating: 8.9\n"
          ]
        }
      ]
    }
  ]
}