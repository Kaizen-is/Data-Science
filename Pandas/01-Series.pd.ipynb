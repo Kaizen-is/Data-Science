{
  "nbformat": 4,
  "nbformat_minor": 0,
  "metadata": {
    "colab": {
      "provenance": []
    },
    "kernelspec": {
      "name": "python3",
      "display_name": "Python 3"
    },
    "language_info": {
      "name": "python"
    }
  },
  "cells": [
    {
      "cell_type": "markdown",
      "source": [
        "### Data Science"
      ],
      "metadata": {
        "id": "rPs_3FAXfmzq"
      }
    },
    {
      "cell_type": "markdown",
      "source": [
        "- Pandas"
      ],
      "metadata": {
        "id": "rtOunpJXfpoZ"
      }
    },
    {
      "cell_type": "markdown",
      "source": [
        "`series` set of information"
      ],
      "metadata": {
        "id": "zWmu8mp3fvf2"
      }
    },
    {
      "cell_type": "code",
      "execution_count": 3,
      "metadata": {
        "colab": {
          "base_uri": "https://localhost:8080/"
        },
        "id": "Uhn89WZBfbYi",
        "outputId": "9448ea96-d837-40d9-fc3b-fd473f4f3bb5"
      },
      "outputs": [
        {
          "output_type": "stream",
          "name": "stdout",
          "text": [
            "0     1\n",
            "1     2\n",
            "2     3\n",
            "3     4\n",
            "4     5\n",
            "5     6\n",
            "6     7\n",
            "7     8\n",
            "8     9\n",
            "9    10\n",
            "dtype: int64\n"
          ]
        }
      ],
      "source": [
        "import numpy as np\n",
        "import pandas as pd\n",
        "from pandas import Series\n",
        "\n",
        "obj = Series([1, 2, 3, 4, 5, 6, 7, 8, 9, 10])\n",
        "\n",
        "print(obj) # first colum is an indexes of the elements in the array and the second is a values"
      ]
    },
    {
      "cell_type": "markdown",
      "source": [
        "`Indexes`"
      ],
      "metadata": {
        "id": "SbCPw-Q2gW0R"
      }
    },
    {
      "cell_type": "code",
      "source": [
        "print(obj.index)"
      ],
      "metadata": {
        "colab": {
          "base_uri": "https://localhost:8080/"
        },
        "id": "5Lp7rM51gDPC",
        "outputId": "980c156f-ed5b-46e3-8e60-3462b5a2625c"
      },
      "execution_count": 4,
      "outputs": [
        {
          "output_type": "stream",
          "name": "stdout",
          "text": [
            "RangeIndex(start=0, stop=10, step=1)\n"
          ]
        }
      ]
    },
    {
      "cell_type": "markdown",
      "source": [
        "`values`"
      ],
      "metadata": {
        "id": "BaI2x5khgfoY"
      }
    },
    {
      "cell_type": "code",
      "source": [
        "print(obj.values)"
      ],
      "metadata": {
        "colab": {
          "base_uri": "https://localhost:8080/"
        },
        "id": "FIfj6AzQgdnf",
        "outputId": "ca60ef45-58db-4442-ff1c-86da94bb2114"
      },
      "execution_count": 5,
      "outputs": [
        {
          "output_type": "stream",
          "name": "stdout",
          "text": [
            "[ 1  2  3  4  5  6  7  8  9 10]\n"
          ]
        }
      ]
    },
    {
      "cell_type": "code",
      "source": [
        "print(obj[9])"
      ],
      "metadata": {
        "colab": {
          "base_uri": "https://localhost:8080/"
        },
        "id": "amyDSFGEgl-W",
        "outputId": "cd99975e-0445-4a38-8541-8df395594372"
      },
      "execution_count": 6,
      "outputs": [
        {
          "output_type": "stream",
          "name": "stdout",
          "text": [
            "10\n"
          ]
        }
      ]
    },
    {
      "cell_type": "markdown",
      "source": [
        "Changing `indexes`"
      ],
      "metadata": {
        "id": "Q2fX8p8zg-Y8"
      }
    },
    {
      "cell_type": "code",
      "source": [
        "obj2 = Series([1, 2, 3, 4, 5, 6, 7, 8, 9], index = ['a', 'b', 'c', 'd', 'e', 'f', 'g', 'h', 'i'])\n",
        "obj2['b']"
      ],
      "metadata": {
        "colab": {
          "base_uri": "https://localhost:8080/"
        },
        "id": "rewQg7yrg8yp",
        "outputId": "48c36272-cf79-463e-a2df-307d079e2d64"
      },
      "execution_count": 14,
      "outputs": [
        {
          "output_type": "execute_result",
          "data": {
            "text/plain": [
              "2"
            ]
          },
          "metadata": {},
          "execution_count": 14
        }
      ]
    },
    {
      "cell_type": "code",
      "source": [
        "obj2.index"
      ],
      "metadata": {
        "colab": {
          "base_uri": "https://localhost:8080/"
        },
        "id": "BhwNTTDWh8Ps",
        "outputId": "06614730-d000-48ef-e349-7828dd635582"
      },
      "execution_count": 16,
      "outputs": [
        {
          "output_type": "execute_result",
          "data": {
            "text/plain": [
              "MultiIndex([('a',),\n",
              "            ('b',),\n",
              "            ('c',),\n",
              "            ('d',),\n",
              "            ('e',),\n",
              "            ('f',),\n",
              "            ('g',),\n",
              "            ('h',),\n",
              "            ('i',)],\n",
              "           )"
            ]
          },
          "metadata": {},
          "execution_count": 16
        }
      ]
    },
    {
      "cell_type": "code",
      "source": [
        "print(obj2[['a', 'b', 'c', 'd', 'e', 'f', 'g', 'h', 'i']])"
      ],
      "metadata": {
        "colab": {
          "base_uri": "https://localhost:8080/"
        },
        "id": "W65JUmP7hkiL",
        "outputId": "c49628ad-7e28-4d08-ea6f-3dc9fa467840"
      },
      "execution_count": 18,
      "outputs": [
        {
          "output_type": "stream",
          "name": "stdout",
          "text": [
            "a    1\n",
            "b    2\n",
            "c    3\n",
            "d    4\n",
            "e    5\n",
            "f    6\n",
            "g    7\n",
            "h    8\n",
            "i    9\n",
            "dtype: int64\n"
          ]
        }
      ]
    },
    {
      "cell_type": "markdown",
      "source": [
        "`Sorting`"
      ],
      "metadata": {
        "id": "Q3tYoP4wikCM"
      }
    },
    {
      "cell_type": "code",
      "source": [
        "print(obj2[obj2 > 5])"
      ],
      "metadata": {
        "colab": {
          "base_uri": "https://localhost:8080/"
        },
        "id": "Gx300e5dh-tj",
        "outputId": "cd0fb781-d18b-42ad-e0c7-75cd21b76ded"
      },
      "execution_count": 25,
      "outputs": [
        {
          "output_type": "stream",
          "name": "stdout",
          "text": [
            "f    6\n",
            "g    7\n",
            "h    8\n",
            "i    9\n",
            "dtype: int64\n"
          ]
        }
      ]
    },
    {
      "cell_type": "code",
      "source": [
        "print(obj2[obj2 <= 5])"
      ],
      "metadata": {
        "colab": {
          "base_uri": "https://localhost:8080/"
        },
        "id": "NW6SONE5irfr",
        "outputId": "11f42d0f-dde0-4fc5-eb1e-8838e6f38ca1"
      },
      "execution_count": 24,
      "outputs": [
        {
          "output_type": "stream",
          "name": "stdout",
          "text": [
            "a    1\n",
            "b    2\n",
            "c    3\n",
            "d    4\n",
            "e    5\n",
            "dtype: int64\n"
          ]
        }
      ]
    },
    {
      "cell_type": "code",
      "source": [
        "print(obj2[obj2 % 2 == 0])"
      ],
      "metadata": {
        "colab": {
          "base_uri": "https://localhost:8080/"
        },
        "id": "5AoF9VZqixZB",
        "outputId": "d00a30aa-be18-4ff3-b10c-5c4f4fc134a1"
      },
      "execution_count": 26,
      "outputs": [
        {
          "output_type": "stream",
          "name": "stdout",
          "text": [
            "b    2\n",
            "d    4\n",
            "f    6\n",
            "h    8\n",
            "dtype: int64\n"
          ]
        }
      ]
    },
    {
      "cell_type": "code",
      "source": [
        "seri = Series([3, 4, 5, 6])\n",
        "pow = seri ** 2\n",
        "print(pow)"
      ],
      "metadata": {
        "colab": {
          "base_uri": "https://localhost:8080/"
        },
        "id": "_cUnMY61jAEu",
        "outputId": "1dbdcf69-4637-44e5-8542-41e44f71d6de"
      },
      "execution_count": 36,
      "outputs": [
        {
          "output_type": "stream",
          "name": "stdout",
          "text": [
            "0     9\n",
            "1    16\n",
            "2    25\n",
            "3    36\n",
            "dtype: int64\n"
          ]
        }
      ]
    },
    {
      "cell_type": "code",
      "source": [
        "sq = pow ** 0.5\n",
        "print(sq)"
      ],
      "metadata": {
        "colab": {
          "base_uri": "https://localhost:8080/"
        },
        "id": "evUrjv16jQtz",
        "outputId": "d9348b37-49c5-41ed-bf2f-5a2dacf09ee8"
      },
      "execution_count": 37,
      "outputs": [
        {
          "output_type": "stream",
          "name": "stdout",
          "text": [
            "0    3.0\n",
            "1    4.0\n",
            "2    5.0\n",
            "3    6.0\n",
            "dtype: float64\n"
          ]
        }
      ]
    },
    {
      "cell_type": "code",
      "source": [],
      "metadata": {
        "id": "5vZTNn1pkjBi"
      },
      "execution_count": null,
      "outputs": []
    }
  ]
}