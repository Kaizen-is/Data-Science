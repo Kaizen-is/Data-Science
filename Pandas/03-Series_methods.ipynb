{
  "nbformat": 4,
  "nbformat_minor": 0,
  "metadata": {
    "colab": {
      "provenance": []
    },
    "kernelspec": {
      "name": "python3",
      "display_name": "Python 3"
    },
    "language_info": {
      "name": "python"
    }
  },
  "cells": [
    {
      "cell_type": "markdown",
      "source": [
        "### Data Science"
      ],
      "metadata": {
        "id": "ppr61uZx4Vhq"
      }
    },
    {
      "cell_type": "markdown",
      "source": [
        "Data analytics: Pandas\n",
        "\n",
        "Series Methods"
      ],
      "metadata": {
        "id": "7Kr7TCgj4Yex"
      }
    },
    {
      "cell_type": "code",
      "execution_count": 4,
      "metadata": {
        "colab": {
          "base_uri": "https://localhost:8080/"
        },
        "id": "bdMqC4PH4U7l",
        "outputId": "b9a73219-f9d6-4024-f1db-dee55bba2a29"
      },
      "outputs": [
        {
          "output_type": "stream",
          "name": "stdout",
          "text": [
            "Malibu     36000\n",
            "Camaro     41000\n",
            "Lacetti    12000\n",
            "Cobalt     15000\n",
            "BMW        80000\n",
            "Supra      60000\n",
            "dtype: int64\n",
            "------------------\n",
            "BMW        80000.0\n",
            "Supra      60000.0\n",
            "Camaro     41000.0\n",
            "Malibu     36000.0\n",
            "Cobalt     15000.0\n",
            "Lacetti    12000.0\n",
            "Audi           NaN\n",
            "Lamba          NaN\n",
            "dtype: float64\n"
          ]
        }
      ],
      "source": [
        "import pandas as pd\n",
        "from pandas import Series\n",
        "\n",
        "cars1 = Series({'Malibu':36000, 'Camaro':41000, 'Lacetti':12000, 'Cobalt':15000, 'BMW':80000, 'Supra':60000})\n",
        "\n",
        "cars2 = Series(cars1, index = ['BMW', 'Supra', 'Camaro', 'Malibu', 'Cobalt', 'Lacetti', 'Audi', 'Lamba'])\n",
        "\n",
        "print(cars1)\n",
        "print(\"------------------\")\n",
        "print(cars2)"
      ]
    },
    {
      "cell_type": "markdown",
      "source": [
        "`isnull()`  returns True if NaN"
      ],
      "metadata": {
        "id": "Qa4C6FAs6OqB"
      }
    },
    {
      "cell_type": "code",
      "source": [
        "cars2.isnull()"
      ],
      "metadata": {
        "colab": {
          "base_uri": "https://localhost:8080/",
          "height": 335
        },
        "id": "eHMxXYfg57ry",
        "outputId": "ae6bb3c5-70a0-44a3-bd6d-349a03a9024c"
      },
      "execution_count": 5,
      "outputs": [
        {
          "output_type": "execute_result",
          "data": {
            "text/plain": [
              "BMW        False\n",
              "Supra      False\n",
              "Camaro     False\n",
              "Malibu     False\n",
              "Cobalt     False\n",
              "Lacetti    False\n",
              "Audi        True\n",
              "Lamba       True\n",
              "dtype: bool"
            ],
            "text/html": [
              "<div>\n",
              "<style scoped>\n",
              "    .dataframe tbody tr th:only-of-type {\n",
              "        vertical-align: middle;\n",
              "    }\n",
              "\n",
              "    .dataframe tbody tr th {\n",
              "        vertical-align: top;\n",
              "    }\n",
              "\n",
              "    .dataframe thead th {\n",
              "        text-align: right;\n",
              "    }\n",
              "</style>\n",
              "<table border=\"1\" class=\"dataframe\">\n",
              "  <thead>\n",
              "    <tr style=\"text-align: right;\">\n",
              "      <th></th>\n",
              "      <th>0</th>\n",
              "    </tr>\n",
              "  </thead>\n",
              "  <tbody>\n",
              "    <tr>\n",
              "      <th>BMW</th>\n",
              "      <td>False</td>\n",
              "    </tr>\n",
              "    <tr>\n",
              "      <th>Supra</th>\n",
              "      <td>False</td>\n",
              "    </tr>\n",
              "    <tr>\n",
              "      <th>Camaro</th>\n",
              "      <td>False</td>\n",
              "    </tr>\n",
              "    <tr>\n",
              "      <th>Malibu</th>\n",
              "      <td>False</td>\n",
              "    </tr>\n",
              "    <tr>\n",
              "      <th>Cobalt</th>\n",
              "      <td>False</td>\n",
              "    </tr>\n",
              "    <tr>\n",
              "      <th>Lacetti</th>\n",
              "      <td>False</td>\n",
              "    </tr>\n",
              "    <tr>\n",
              "      <th>Audi</th>\n",
              "      <td>True</td>\n",
              "    </tr>\n",
              "    <tr>\n",
              "      <th>Lamba</th>\n",
              "      <td>True</td>\n",
              "    </tr>\n",
              "  </tbody>\n",
              "</table>\n",
              "</div><br><label><b>dtype:</b> bool</label>"
            ]
          },
          "metadata": {},
          "execution_count": 5
        }
      ]
    },
    {
      "cell_type": "markdown",
      "source": [
        "`notnull()`  returns False if NaN"
      ],
      "metadata": {
        "id": "zArnXXaj6Ymy"
      }
    },
    {
      "cell_type": "code",
      "source": [
        "cars2.notnull()"
      ],
      "metadata": {
        "colab": {
          "base_uri": "https://localhost:8080/",
          "height": 335
        },
        "id": "VPod9wHe6cY3",
        "outputId": "69f8527a-ea99-433a-e90c-d4a304613f3f"
      },
      "execution_count": 6,
      "outputs": [
        {
          "output_type": "execute_result",
          "data": {
            "text/plain": [
              "BMW         True\n",
              "Supra       True\n",
              "Camaro      True\n",
              "Malibu      True\n",
              "Cobalt      True\n",
              "Lacetti     True\n",
              "Audi       False\n",
              "Lamba      False\n",
              "dtype: bool"
            ],
            "text/html": [
              "<div>\n",
              "<style scoped>\n",
              "    .dataframe tbody tr th:only-of-type {\n",
              "        vertical-align: middle;\n",
              "    }\n",
              "\n",
              "    .dataframe tbody tr th {\n",
              "        vertical-align: top;\n",
              "    }\n",
              "\n",
              "    .dataframe thead th {\n",
              "        text-align: right;\n",
              "    }\n",
              "</style>\n",
              "<table border=\"1\" class=\"dataframe\">\n",
              "  <thead>\n",
              "    <tr style=\"text-align: right;\">\n",
              "      <th></th>\n",
              "      <th>0</th>\n",
              "    </tr>\n",
              "  </thead>\n",
              "  <tbody>\n",
              "    <tr>\n",
              "      <th>BMW</th>\n",
              "      <td>True</td>\n",
              "    </tr>\n",
              "    <tr>\n",
              "      <th>Supra</th>\n",
              "      <td>True</td>\n",
              "    </tr>\n",
              "    <tr>\n",
              "      <th>Camaro</th>\n",
              "      <td>True</td>\n",
              "    </tr>\n",
              "    <tr>\n",
              "      <th>Malibu</th>\n",
              "      <td>True</td>\n",
              "    </tr>\n",
              "    <tr>\n",
              "      <th>Cobalt</th>\n",
              "      <td>True</td>\n",
              "    </tr>\n",
              "    <tr>\n",
              "      <th>Lacetti</th>\n",
              "      <td>True</td>\n",
              "    </tr>\n",
              "    <tr>\n",
              "      <th>Audi</th>\n",
              "      <td>False</td>\n",
              "    </tr>\n",
              "    <tr>\n",
              "      <th>Lamba</th>\n",
              "      <td>False</td>\n",
              "    </tr>\n",
              "  </tbody>\n",
              "</table>\n",
              "</div><br><label><b>dtype:</b> bool</label>"
            ]
          },
          "metadata": {},
          "execution_count": 6
        }
      ]
    },
    {
      "cell_type": "code",
      "source": [
        "print(cars1 + cars2) # calculates values of the appropriate indexes"
      ],
      "metadata": {
        "colab": {
          "base_uri": "https://localhost:8080/"
        },
        "id": "fFH0Rmb86XJ7",
        "outputId": "8513327c-6d66-4a58-8e3a-722224378ff7"
      },
      "execution_count": 7,
      "outputs": [
        {
          "output_type": "stream",
          "name": "stdout",
          "text": [
            "Audi            NaN\n",
            "BMW        160000.0\n",
            "Camaro      82000.0\n",
            "Cobalt      30000.0\n",
            "Lacetti     24000.0\n",
            "Lamba           NaN\n",
            "Malibu      72000.0\n",
            "Supra      120000.0\n",
            "dtype: float64\n"
          ]
        }
      ]
    },
    {
      "cell_type": "markdown",
      "source": [
        "`name` `index.name`"
      ],
      "metadata": {
        "id": "ZaQskI1H7Rp_"
      }
    },
    {
      "cell_type": "code",
      "source": [
        "cars1.name = \"Shevrolet\"\n",
        "cars1.index.name = \"Price:\""
      ],
      "metadata": {
        "id": "tWpKpOlT62iI"
      },
      "execution_count": 13,
      "outputs": []
    },
    {
      "cell_type": "code",
      "source": [
        "cars2.name = \"Shevrolet\"\n",
        "cars2.index.name = \"Price:\""
      ],
      "metadata": {
        "id": "yCZFsETv7Kkm"
      },
      "execution_count": 12,
      "outputs": []
    },
    {
      "cell_type": "code",
      "source": [
        "print(f\"{cars1}\\n-----------------------------\\n{cars2}\")"
      ],
      "metadata": {
        "colab": {
          "base_uri": "https://localhost:8080/"
        },
        "id": "u0KDIdiW7XZQ",
        "outputId": "bdb6d9e5-93fc-4250-8ae0-9d4101c30eba"
      },
      "execution_count": 18,
      "outputs": [
        {
          "output_type": "stream",
          "name": "stdout",
          "text": [
            "Price:\n",
            "Malibu     36000\n",
            "Camaro     41000\n",
            "Lacetti    12000\n",
            "Cobalt     15000\n",
            "BMW        80000\n",
            "Supra      60000\n",
            "Name: Shevrolet, dtype: int64\n",
            "-----------------------------\n",
            "Price:\n",
            "BMW        80000.0\n",
            "Supra      60000.0\n",
            "Camaro     41000.0\n",
            "Malibu     36000.0\n",
            "Cobalt     15000.0\n",
            "Lacetti    12000.0\n",
            "Audi           NaN\n",
            "Lamba          NaN\n",
            "Name: Shevrolet, dtype: float64\n"
          ]
        }
      ]
    }
  ]
}