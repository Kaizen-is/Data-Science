{
  "nbformat": 4,
  "nbformat_minor": 0,
  "metadata": {
    "colab": {
      "provenance": [],
      "authorship_tag": "ABX9TyOOjGxpmJl8aVVX3WZVUIzQ",
      "include_colab_link": true
    },
    "kernelspec": {
      "name": "python3",
      "display_name": "Python 3"
    },
    "language_info": {
      "name": "python"
    }
  },
  "cells": [
    {
      "cell_type": "markdown",
      "metadata": {
        "id": "view-in-github",
        "colab_type": "text"
      },
      "source": [
        "<a href=\"https://colab.research.google.com/github/Kaizen-is/Data-Science/blob/main/01_intro.ipynb\" target=\"_parent\"><img src=\"https://colab.research.google.com/assets/colab-badge.svg\" alt=\"Open In Colab\"/></a>"
      ]
    },
    {
      "cell_type": "markdown",
      "source": [
        "**Data Science And AI Practicum**\n"
      ],
      "metadata": {
        "id": "gcIpcWEb4ISl"
      }
    },
    {
      "cell_type": "markdown",
      "source": [
        "Data analytics: Numpy library"
      ],
      "metadata": {
        "id": "i0k4Ro5o4gon"
      }
    },
    {
      "cell_type": "code",
      "source": [
        "import numpy as np\n",
        "\n",
        "my_list = list(range(1000)) # python list 0 ~ 999 => normal\n",
        "npy_arr = np.array(range(1000)) # numpy array 0 ~ 999 => vectorized\n",
        "\n",
        "%time for _ in range(10): [x*2 for x in my_list] # Normal\n",
        "%time for _ in range(10): npy_arr * 2 # Vectorized\n"
      ],
      "metadata": {
        "colab": {
          "base_uri": "https://localhost:8080/"
        },
        "id": "neiRx8bZ46LP",
        "outputId": "a7ae03df-dae2-42d3-b1ad-a254d8d87551"
      },
      "execution_count": null,
      "outputs": [
        {
          "output_type": "stream",
          "name": "stdout",
          "text": [
            "CPU times: user 697 µs, sys: 0 ns, total: 697 µs\n",
            "Wall time: 705 µs\n",
            "CPU times: user 98 µs, sys: 0 ns, total: 98 µs\n",
            "Wall time: 103 µs\n"
          ]
        }
      ]
    },
    {
      "cell_type": "code",
      "source": [
        "705 - 103"
      ],
      "metadata": {
        "colab": {
          "base_uri": "https://localhost:8080/"
        },
        "id": "uXelPCfu7c2e",
        "outputId": "5d1b558e-8476-42e7-ec2a-45f7cb120be7"
      },
      "execution_count": null,
      "outputs": [
        {
          "output_type": "execute_result",
          "data": {
            "text/plain": [
              "602"
            ]
          },
          "metadata": {},
          "execution_count": 10
        }
      ]
    },
    {
      "cell_type": "code",
      "source": [
        "# Vectorized(Numpy) way is 602 times faster than normal(python_list)"
      ],
      "metadata": {
        "id": "4gSD3-bMAv_O"
      },
      "execution_count": null,
      "outputs": []
    }
  ]
}