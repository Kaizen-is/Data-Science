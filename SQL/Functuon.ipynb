{
  "nbformat": 4,
  "nbformat_minor": 0,
  "metadata": {
    "colab": {
      "provenance": []
    },
    "kernelspec": {
      "name": "python3",
      "display_name": "Python 3"
    },
    "language_info": {
      "name": "python"
    }
  },
  "cells": [
    {
      "cell_type": "markdown",
      "source": [
        "### SQL  Functions"
      ],
      "metadata": {
        "id": "-2DiPnF-_TN1"
      }
    },
    {
      "cell_type": "markdown",
      "source": [
        "What is a Function - reusable sql code where it takes an input and gives an output. In SQL Server, select is called only in SELECT part, but in Stored procedure, EXEC is used."
      ],
      "metadata": {
        "id": "ExAWPsDENR-m"
      }
    },
    {
      "cell_type": "markdown",
      "source": [
        "### Types of Function"
      ],
      "metadata": {
        "id": "yrVEEtywOFvQ"
      }
    },
    {
      "cell_type": "markdown",
      "source": [
        "1. Scaler Function - returns only one value\n",
        "2. Table-Valued Function\n",
        "\n",
        "- Inline TVF - throught 1 `SELECT`, we get a `Table`\n",
        "- Multi-Statment TVF - using several statments, returns temporary Tables"
      ],
      "metadata": {
        "id": "2BPm31DBOPli"
      }
    },
    {
      "cell_type": "markdown",
      "source": [
        "### Scalar Dunction"
      ],
      "metadata": {
        "id": "SRJ4iBF9a3aM"
      }
    },
    {
      "cell_type": "code",
      "source": [
        "create function dbo.GetFullName\n",
        "(\n",
        "    @FirstName nvarchar(50),\n",
        "    @LastName nvarchar(50)\n",
        ")\n",
        "\n",
        "return nvarchar(101)\n",
        "as\n",
        "begin\n",
        "      return @FirstName + ' ' + @LastName\n",
        "\n",
        "end"
      ],
      "metadata": {
        "id": "v1VF2CpMPMFZ"
      },
      "execution_count": null,
      "outputs": []
    },
    {
      "cell_type": "code",
      "source": [
        "select dbo.GetFullName('Ali', 'Valiyev') as FullName;"
      ],
      "metadata": {
        "id": "TbRjo4OERRp3"
      },
      "execution_count": null,
      "outputs": []
    },
    {
      "cell_type": "markdown",
      "source": [
        "### Inline Table-Valued Function (Itvf)"
      ],
      "metadata": {
        "id": "MKo2DIuTXaxz"
      }
    },
    {
      "cell_type": "code",
      "source": [
        "create function dbo.GetEmployeesByDept\n",
        "(\n",
        "    @DeptId int\n",
        ")\n",
        "return table\n",
        "as\n",
        "return (\n",
        "    select Id, Name, Salary\n",
        "    from Employees\n",
        "    where DepartmentId = @DeptId\n",
        ")"
      ],
      "metadata": {
        "id": "kuC-fFW3Xlyw"
      },
      "execution_count": null,
      "outputs": []
    },
    {
      "cell_type": "code",
      "source": [
        "select *\n",
        "from dbo.GetEmployeesByDept(3);"
      ],
      "metadata": {
        "id": "Q3wvCiVpZ9ML"
      },
      "execution_count": null,
      "outputs": []
    },
    {
      "cell_type": "markdown",
      "source": [
        "### Multi - Statement Table - Valued Function (MSTVF)"
      ],
      "metadata": {
        "id": "n78zHRj7a9oQ"
      }
    },
    {
      "cell_type": "code",
      "source": [
        "create fucntion dbo.GetTopSellers\n",
        "(\n",
        "    @MinSalesAmount decimal(10, 2)\n",
        ")\n",
        "returns @Result table\n",
        "(\n",
        "    EmployeeId int,\n",
        "    TotalSales decimal(10, 2)\n",
        ")\n",
        "as\n",
        "begin\n",
        "      insert into @Result\n",
        "      select EmployeeId, sum(Amount)\n",
        "      from Sales\n",
        "      group by EmployeeId\n",
        "      having sum(Amount) >= @MinSalesAmount\n",
        "\n",
        "      return\n",
        "end"
      ],
      "metadata": {
        "id": "-T-Obyu6lV8Q"
      },
      "execution_count": null,
      "outputs": []
    },
    {
      "cell_type": "code",
      "source": [
        "select * from dbo.GetTopSellers(10000)"
      ],
      "metadata": {
        "id": "vpnZLeECmjta"
      },
      "execution_count": null,
      "outputs": []
    },
    {
      "cell_type": "markdown",
      "source": [
        "### Real Example"
      ],
      "metadata": {
        "id": "B2RLUCbYoDvd"
      }
    },
    {
      "cell_type": "code",
      "source": [
        "create function dbo.CalculateAge\n",
        "(\n",
        "    @BirthDate date\n",
        ")\n",
        "returns int\n",
        "as\n",
        "begin\n",
        "      return datediff(year, @BirthDate, getdate())\n",
        "end"
      ],
      "metadata": {
        "id": "GyxH0FbpoKq-"
      },
      "execution_count": null,
      "outputs": []
    },
    {
      "cell_type": "code",
      "source": [
        "select Name, dbo.CalculateAge(BirthDate) as Age\n",
        "from Users;"
      ],
      "metadata": {
        "id": "vObhtWAioj7w"
      },
      "execution_count": null,
      "outputs": []
    },
    {
      "cell_type": "markdown",
      "source": [
        "### Deleting The Function"
      ],
      "metadata": {
        "id": "0Ok2p74Foygq"
      }
    },
    {
      "cell_type": "code",
      "source": [
        "drop function dbo.CalculateAge"
      ],
      "metadata": {
        "id": "tY03_npso4Kr"
      },
      "execution_count": null,
      "outputs": []
    },
    {
      "cell_type": "markdown",
      "source": [
        "### Update The Function"
      ],
      "metadata": {
        "id": "r6aEUsC1pI2A"
      }
    },
    {
      "cell_type": "code",
      "source": [
        "alter function dbo.CalculateAge"
      ],
      "metadata": {
        "id": "emSJfGSOpPnD"
      },
      "execution_count": null,
      "outputs": []
    },
    {
      "cell_type": "markdown",
      "source": [
        "### Function vs Stored Procedure"
      ],
      "metadata": {
        "id": "HN0SE5lYqAOz"
      }
    },
    {
      "cell_type": "markdown",
      "source": [
        "| Farqi | Function (UDF) | Stored Procedure (SP) |\n",
        "| --- | --- | --- |\n",
        "| **1. Qaytaruvchi qiymat** | Faqat **1 ta qiymat yoki TABLE** qaytaradi | Nol yoki **bir nechta OUTPUT** qaytarishi mumkin |\n",
        "| **2. RETURN operatori** | `RETURN` majburiy (`scalar`da) | `RETURN` faqat status kodi uchun, natija emas |\n",
        "| **3. SELECT ichida chaqirish** | `SELECT dbo.FunctionName()` |  mumkin emas (faqat `EXEC` bilan) |\n",
        "| **4. INSERT, UPDATE, DELETE** | Yopiq – malumot ozgartira olmaydi | toliq DML (insert/update/delete) mumkin |\n",
        "| **5. Exception Handling** | `TRY..CATCH` ishlamaydi | `TRY..CATCH` mavjud |\n",
        "| **6. Transaction boshqaruvi** | Yoq | `BEGIN TRAN`, `COMMIT`, `ROLLBACK` |\n",
        "| **7. Temporary table** | ishlatib bolmaydi (`#Temp`) | `#Temp` va `@table` ishlatish mumkin |\n",
        "| **8. Caching** | Scalar function **caching** qilinadi | SP – har safar yangi reja (plan) quradi |\n",
        "| **9. Output parametri** | Faqat `RETURN` bilan | `OUTPUT` parametrlar mavjud |\n",
        "| **10. Chaqarish usuli** | `SELECT`, `FROM`, `JOIN`  | `EXEC`, `EXECUTE`  |\n",
        "| **11. Performance** | Inline TVF – juda tez | SP – kop ishga qulay lekin sekinroq bolishi mumkin |"
      ],
      "metadata": {
        "id": "KEmIzIB2p-r9"
      }
    },
    {
      "cell_type": "markdown",
      "source": [
        "### Function"
      ],
      "metadata": {
        "id": "ai1SmUbjqNht"
      }
    },
    {
      "cell_type": "code",
      "source": [
        "create finction dbo.GetDiscountedPrice\n",
        "(\n",
        "    @Price decimal(10, 2),\n",
        "    @Percent int\n",
        ")\n",
        "returns decimal(10, 2)\n",
        "as\n",
        "begin\n",
        "      return @Price - (@Price * @Percent / 100.0)\n",
        "end"
      ],
      "metadata": {
        "id": "YofOnYTAqQeV"
      },
      "execution_count": null,
      "outputs": []
    },
    {
      "cell_type": "code",
      "source": [
        "select Name, dbo.GetDiscountedPrice(Price, 10) as NewPrice\n",
        "from Products"
      ],
      "metadata": {
        "id": "eWCGEG_Xqt8q"
      },
      "execution_count": null,
      "outputs": []
    },
    {
      "cell_type": "markdown",
      "source": [
        "### Stored Procedure"
      ],
      "metadata": {
        "id": "DNFg3yslrBvW"
      }
    },
    {
      "cell_type": "code",
      "source": [
        "create procedure dbo.UpdatePrice\n",
        "      @ProductId int,\n",
        "      @NewPrice Decimal(10, 2)\n",
        "as\n",
        "begin\n",
        "      update Products\n",
        "      set Price = @NewPrice\n",
        "      where Id = @ProductId\n",
        "end"
      ],
      "metadata": {
        "id": "rIxbgThdrGQq"
      },
      "execution_count": null,
      "outputs": []
    },
    {
      "cell_type": "code",
      "source": [
        "exec dbo.UpdatePrice @ProductId = 5, @NewPrice = 12000;"
      ],
      "metadata": {
        "id": "x9FdkjGZsIK8"
      },
      "execution_count": null,
      "outputs": []
    },
    {
      "cell_type": "markdown",
      "source": [
        "### When Funtion is Used"
      ],
      "metadata": {
        "id": "MJdMXLXctTt-"
      }
    },
    {
      "cell_type": "markdown",
      "source": [
        "- Calculations(`tax` `discount` `age`)\n",
        "- Firmating(`get_full_name` `convert_date`)\n",
        "- used in `select`"
      ],
      "metadata": {
        "id": "m4fHmDH9tcW8"
      }
    },
    {
      "cell_type": "markdown",
      "source": [
        "### When Stored Procedure is Used"
      ],
      "metadata": {
        "id": "P3tSFuZWuWiK"
      }
    },
    {
      "cell_type": "markdown",
      "source": [
        "- `insert` `update` `delete`\n",
        "- For long step tables(`log` `audit`)\n",
        "- When for one query several tasks need to be done"
      ],
      "metadata": {
        "id": "LtgGbiS_uchV"
      }
    }
  ]
}