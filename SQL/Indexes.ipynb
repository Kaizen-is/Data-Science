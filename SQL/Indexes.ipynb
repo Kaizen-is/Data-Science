{
  "nbformat": 4,
  "nbformat_minor": 0,
  "metadata": {
    "colab": {
      "provenance": []
    },
    "kernelspec": {
      "name": "python3",
      "display_name": "Python 3"
    },
    "language_info": {
      "name": "python"
    }
  },
  "cells": [
    {
      "cell_type": "markdown",
      "source": [
        "### SQL Server"
      ],
      "metadata": {
        "id": "T5-xjoKyuD1q"
      }
    },
    {
      "cell_type": "markdown",
      "source": [
        "### Index"
      ],
      "metadata": {
        "id": "sF_CIspQuMcn"
      }
    },
    {
      "cell_type": "markdown",
      "source": [
        "In sql server, index is a database object that improves the speed of data retrieval oprations on a table or view.It creates a structure that allows SQL Server to locate rows more efficiently. An index is used to quickly look up data based on the values of one or more columns, significantly speeding up query performance, especially for large datasets."
      ],
      "metadata": {
        "id": "8EG12pjYuiNu"
      }
    },
    {
      "cell_type": "markdown",
      "source": [
        "- Advantages:\n",
        "1. Speeds up the query: `Select, Join, Group by, Order by`\n",
        "\n",
        "2. Cheas for the connection of foreign key\n",
        "\n",
        "3. Clustering: changes phisical order according to the index\n",
        "\n",
        "4. Filtering becomes faster as in a huge tables an exact line will be found in seconds\n",
        "\n",
        "5. Segment elementation: in columnstore indexes, necessery segmentation will be readen"
      ],
      "metadata": {
        "id": "dP7ix8ylvTHq"
      }
    },
    {
      "cell_type": "markdown",
      "source": [
        "### Index Types"
      ],
      "metadata": {
        "id": "3eavG7wZxPZw"
      }
    },
    {
      "cell_type": "markdown",
      "source": [
        "- Clustered Indexing\n",
        "\n",
        "`Clustered Index` in SQL server determines physical order of data rowas in a table: Table can have only one index of this type"
      ],
      "metadata": {
        "id": "TSWPUu41xKAQ"
      }
    },
    {
      "cell_type": "code",
      "source": [
        "create clustered index ix_id on MyTable_id"
      ],
      "metadata": {
        "id": "mNaos_b9yKQs"
      },
      "execution_count": null,
      "outputs": []
    },
    {
      "cell_type": "markdown",
      "source": [
        "Why do we need this: query beomes faster as there is no need to read each row"
      ],
      "metadata": {
        "id": "VV2MENhsyFL9"
      }
    },
    {
      "cell_type": "code",
      "source": [
        "select * from MyTable\n",
        "where id between 2 and 5"
      ],
      "metadata": {
        "id": "NeKukA8dyrm6"
      },
      "execution_count": null,
      "outputs": []
    },
    {
      "cell_type": "markdown",
      "source": [
        "--------------------------------------------------------------------------------"
      ],
      "metadata": {
        "id": "X1JcqaBWF7bJ"
      }
    },
    {
      "cell_type": "markdown",
      "source": [
        "- Non Clustered\n",
        "\n",
        "`Non clustered index` is an index that createsa a seperate structure from the actual data table. It contains a poineter to the table rows rather than storing the data itself. A table can have multiple non-clustered indexes, and they improve query performance by allowing faster lookups based on indexed columns"
      ],
      "metadata": {
        "id": "-Rd5alYW2gtW"
      }
    },
    {
      "cell_type": "code",
      "source": [
        "CREATE NONCLUSTERED INDEX IX_Name ON MyTable(Name);"
      ],
      "metadata": {
        "id": "wCIcUYIS3-hl"
      },
      "execution_count": null,
      "outputs": []
    },
    {
      "cell_type": "markdown",
      "source": [
        "--------------------------------------------------------------------------------"
      ],
      "metadata": {
        "id": "QAgAlEoWF6rj"
      }
    },
    {
      "cell_type": "markdown",
      "source": [
        "- Key Lookup\n",
        "\n",
        "A key lookup in SQL Server occurs when a query requires additional data that is not available in the non-clustered index, so SQL Server must perform a lookup in the clustered index (or table) to retrieve the missing information. This happens when the query includes columns that are not part of the non-clustered index, causing SQL Server to fetch the data from the table using the pointer stored in the non-clustered index. Key lookups can impact performance, especially if the lookup operation is frequent or involves large amounts of data."
      ],
      "metadata": {
        "id": "ro7B4Boe2kWz"
      }
    },
    {
      "cell_type": "markdown",
      "source": [
        "`Include`: is used to avoid key look up as they really slow down the speed"
      ],
      "metadata": {
        "id": "0UsZdlep9IcS"
      }
    },
    {
      "cell_type": "code",
      "source": [
        "CREATE NONCLUSTERED INDEX IX_Name_Email ON Users(Name)\n",
        "INCLUDE (Email);"
      ],
      "metadata": {
        "id": "5nCaEWo_9Fik"
      },
      "execution_count": null,
      "outputs": []
    },
    {
      "cell_type": "markdown",
      "source": [
        "When name column got an index but the other one no, through the index in name column, though all the rows and columns one by one will be checked in order to get the values where index lucks"
      ],
      "metadata": {
        "id": "MYq04E-B9V0k"
      }
    },
    {
      "cell_type": "markdown",
      "source": [
        "Index Disadvantages\n",
        "\n",
        "1. Takes a lot of place in a disk\n",
        "\n",
        "2. `Insert, Update` will be slowed down\n",
        "\n",
        "3. Requires a regular care: `Rebuil, Reorgonize`"
      ],
      "metadata": {
        "id": "cUwodwYq-t2Y"
      }
    },
    {
      "cell_type": "markdown",
      "source": [
        "--------------------------------------------------------------------------------"
      ],
      "metadata": {
        "id": "Qy_HJ6m7F3Rq"
      }
    },
    {
      "cell_type": "markdown",
      "source": [
        "### Index = seperate file"
      ],
      "metadata": {
        "id": "JNQSRJvG_nYL"
      }
    },
    {
      "cell_type": "markdown",
      "source": [
        "Each index is a data scructure in a file, indexes are keeped in fileas .mdf: index is a structure in a file in simple words"
      ],
      "metadata": {
        "id": "dboUYSFJ_2uk"
      }
    },
    {
      "cell_type": "markdown",
      "source": [
        "In SQL Server all information: rows, tables, views, indexes are keept in a pages(.mdf)"
      ],
      "metadata": {
        "id": "8G5Q_nk4ASKX"
      }
    },
    {
      "cell_type": "markdown",
      "source": [
        "- List of all indexes"
      ],
      "metadata": {
        "id": "6Ka1Np1sBA2G"
      }
    },
    {
      "cell_type": "code",
      "source": [
        "SELECT * FROM sys.indexes WHERE object_id = OBJECT_ID('Users');"
      ],
      "metadata": {
        "id": "0jX1RazHBGmV"
      },
      "execution_count": null,
      "outputs": []
    },
    {
      "cell_type": "markdown",
      "source": [
        "--------------------------------------------------------------------------------"
      ],
      "metadata": {
        "id": "YGSed9HLF1Nh"
      }
    },
    {
      "cell_type": "markdown",
      "source": [
        "### B+Tree"
      ],
      "metadata": {
        "id": "170gTfUTBF_U"
      }
    },
    {
      "cell_type": "markdown",
      "source": [
        "A B+ tree is a type of data structure commonly used for indexing in databases, including SQL Server\n",
        "\n",
        "The B+ tree allows for fast searching, insertion, and deletion of records by efficiently navigating the tree using the pointers. It's especially effective for range queries (like finding all records within a certain range) because the leaf nodes are linked, allowing for easy sequential access.\n",
        "\n",
        "In SQL Server, both clustered and non-clustered indexes are typically implemented using B+ trees."
      ],
      "metadata": {
        "id": "APMjUF-hCFB_"
      }
    },
    {
      "cell_type": "markdown",
      "source": [
        "\n",
        "             Root\n",
        "            /    \\\n",
        "         Node    Node\n",
        "        /   \\    /   \\\n",
        "      Page Page Page Page\n",
        "\n"
      ],
      "metadata": {
        "id": "UtmORFM6ByYM"
      }
    },
    {
      "cell_type": "markdown",
      "source": [
        "--------------------------------------------------------------------------------"
      ],
      "metadata": {
        "id": "HPKyOphaFz1K"
      }
    },
    {
      "cell_type": "markdown",
      "source": [
        "### Index Types"
      ],
      "metadata": {
        "id": "X7tvVdBJCfg8"
      }
    },
    {
      "cell_type": "markdown",
      "source": [
        "- Unique Index\n",
        "\n",
        "Provides with uniques values"
      ],
      "metadata": {
        "id": "PnvPOEXsCicm"
      }
    },
    {
      "cell_type": "code",
      "source": [
        "CREATE UNIQUE INDEX IX_Email ON Users(Email);"
      ],
      "metadata": {
        "id": "Jl881hayF68H"
      },
      "execution_count": null,
      "outputs": []
    },
    {
      "cell_type": "markdown",
      "source": [
        "- Filtered Index\n",
        "\n",
        "Results of an exact cond will get an index: City = 'New York'"
      ],
      "metadata": {
        "id": "GdQYY28hCwEy"
      }
    },
    {
      "cell_type": "markdown",
      "source": [
        "- Composite Index\n",
        "\n",
        "Several rows will be indexed together"
      ],
      "metadata": {
        "id": "ASCGLY1JDBGr"
      }
    },
    {
      "cell_type": "markdown",
      "source": [
        "- Included Columns\n",
        "\n",
        "In SQL Server, an **included column** in a non-clustered index is a column that is added to the index for **performance reasons** but is not part of the key of the index. These columns are stored in the index itself, so when a query requests them, SQL Server can retrieve the data directly from the index without needing to access the table. This can improve query performance by reducing the need for lookups."
      ],
      "metadata": {
        "id": "Doj8UUtKDq4D"
      }
    },
    {
      "cell_type": "markdown",
      "source": [
        "- Columnstore Index\n",
        "\n",
        "A Columnstore index in SQL Server is a type of index that stores data in a columnar format rather than the traditional row-based format. This allows for efficient data compression and faster query performance, especially for large data sets or analytical queries. Columnstore indexes are ideal for read-heavy operations, like data warehousing and OLAP (Online Analytical Processing) workloads, where queries typically involve scanning large volumes of data."
      ],
      "metadata": {
        "id": "lqni7WmTDvBu"
      }
    },
    {
      "cell_type": "markdown",
      "source": [
        "- XML Index\n",
        "\n",
        "An XML index in SQL Server is a specialized index used to improve the performance of queries that retrieve or modify XML data stored in an XML column."
      ],
      "metadata": {
        "id": "hTr6dLlyEm28"
      }
    },
    {
      "cell_type": "markdown",
      "source": [
        "- Spatial Index\n",
        "\n",
        "Works with geraphical or geometrical cordinates"
      ],
      "metadata": {
        "id": "obwHQ5czFC0x"
      }
    },
    {
      "cell_type": "markdown",
      "source": [
        "- Full-Text Index"
      ],
      "metadata": {
        "id": "Ubm47HJAFYAg"
      }
    },
    {
      "cell_type": "markdown",
      "source": [
        "Works with txt columns: speeds up `CONTAINS, FREETEXT`"
      ],
      "metadata": {
        "id": "DqFddZuEFdy4"
      }
    },
    {
      "cell_type": "code",
      "source": [
        "# Clustered (changes table order)\n",
        "CREATE CLUSTERED INDEX idx_cust_id ON Customers(CustomerID);\n",
        "\n",
        "# Non-clustered\n",
        "CREATE NONCLUSTERED INDEX idx_cust_name ON Customers(CustomerName);\n",
        "\n",
        "# Unique (no duplicate emails!)\n",
        "CREATE UNIQUE INDEX idx_email ON Customers(Email);\n",
        "\n",
        "# Composite (name + birthdate together)\n",
        "CREATE INDEX idx_name_dob ON Customers(FirstName, BirthDate);\n",
        "\n",
        "# Filtered (only active customers)\n",
        "CREATE NONCLUSTERED INDEX idx_active ON Customers(Status) WHERE Status = 'Active';\n",
        "\n",
        "# Columnstore (for big data tables)\n",
        "CREATE CLUSTERED COLUMNSTORE INDEX idx_sales ON SalesData;"
      ],
      "metadata": {
        "id": "Q6QhIcra8r1u"
      },
      "execution_count": null,
      "outputs": []
    },
    {
      "cell_type": "markdown",
      "source": [
        "### Optimizer Index"
      ],
      "metadata": {
        "id": "Cu1qvDSv7ig0"
      }
    },
    {
      "cell_type": "markdown",
      "source": [
        "- There is no special index type called `optimizer index`\n",
        "\n",
        "- SQL Server Query Optimizer is the brain that decides which index to use to reach a better results\n",
        "\n",
        "- Optimizer Index = not a real index type — it's just the index chosen by the query optimizer during query execution.\n"
      ],
      "metadata": {
        "id": "Yv1o0EMB70BA"
      }
    },
    {
      "cell_type": "markdown",
      "source": [
        "How Optimizer index works: `Seek, Scan, Key Look up, Index Intersection, SARGable`"
      ],
      "metadata": {
        "id": "r0BEC5Cd86K0"
      }
    },
    {
      "cell_type": "markdown",
      "source": [
        "`Index Seek`: Process of getting at once the right value using indexes\n",
        "\n",
        "\"Go straight to the shelf where the book is — not checking every book one by one.\""
      ],
      "metadata": {
        "id": "2zTvQLzC9WeN"
      }
    },
    {
      "cell_type": "code",
      "source": [
        "SELECT * FROM Users WHERE Id = 5;"
      ],
      "metadata": {
        "id": "3FMa5EHsGRNW"
      },
      "execution_count": null,
      "outputs": []
    },
    {
      "cell_type": "markdown",
      "source": [
        "--------------------------------------------------------------------------------"
      ],
      "metadata": {
        "id": "XtkD3imdFt2E"
      }
    },
    {
      "cell_type": "markdown",
      "source": [
        "`Index Scan`: Reades the entire index from top to bottom\n",
        "\n",
        "              - Query cannot directly jump to data.\n",
        "              - Many rows match.\n",
        "              - No good WHERE condition."
      ],
      "metadata": {
        "id": "IVG0c3B5_odN"
      }
    },
    {
      "cell_type": "markdown",
      "source": [
        "`Table Scan`: Reads entire table as no index can help"
      ],
      "metadata": {
        "id": "5DR7Mr_8__Ic"
      }
    },
    {
      "cell_type": "markdown",
      "source": [
        "    - Index Seek\t🎯 Jumps directly to data (Best)\n",
        "    - Index Scan\t📄 Reads all index entries\n",
        "    - Table Scan\t🏛️ Reads all table rows"
      ],
      "metadata": {
        "id": "kc_cUW-1AgCE"
      }
    },
    {
      "cell_type": "code",
      "source": [
        "SELECT * FROM Users WHERE Email LIKE '%mail.com';"
      ],
      "metadata": {
        "id": "6HAw66MhGMKM"
      },
      "execution_count": null,
      "outputs": []
    },
    {
      "cell_type": "markdown",
      "source": [
        "--------------------------------------------------------------------------------"
      ],
      "metadata": {
        "id": "vWxssiLqFqe2"
      }
    },
    {
      "cell_type": "markdown",
      "source": [
        "`Index Intersection`: Index Intersection happens when SQL Server uses two or more indexes together to answer a query instead of just one.\n",
        "\n",
        "\n",
        "           - SQL Server uses idx_first_name to find all employees named 'John'.\n",
        "           - SQL Server uses idx_last_name to find all employees with last name 'Doe'.\n",
        "           - Then it intersects (finds common emp_id) from both results = Index\n",
        "             Intersection."
      ],
      "metadata": {
        "id": "c2i1MHW9Buuw"
      }
    },
    {
      "cell_type": "code",
      "source": [
        "SELECT * FROM Users WHERE Name = 'Bob' AND Age = 30;"
      ],
      "metadata": {
        "id": "zmGydTtaGF9D"
      },
      "execution_count": null,
      "outputs": []
    },
    {
      "cell_type": "markdown",
      "source": [
        "--------------------------------------------------------------------------------"
      ],
      "metadata": {
        "id": "Mj_h1JcXFopS"
      }
    },
    {
      "cell_type": "markdown",
      "source": [
        "`Index Union`: Index Union happens when SQL Server uses multiple indexes to find rows separately, and then combines (UNIONs) the results together.\n",
        "\n",
        "\n",
        "            - One condition uses first_name.\n",
        "            - One condition uses age.\n",
        "            - Searches first_name index for 'John'.\n",
        "            - Searches age index for 30.\n",
        "            - Then combines (UNIONs) all results = Index Uni"
      ],
      "metadata": {
        "id": "csEewUQiCO-D"
      }
    },
    {
      "cell_type": "code",
      "source": [
        "SELECT * FROM Users WHERE Name = 'Bob' OR Age = 30;"
      ],
      "metadata": {
        "id": "54FBcJWIGCJj"
      },
      "execution_count": null,
      "outputs": []
    },
    {
      "cell_type": "markdown",
      "source": [
        "--------------------------------------------------------------------------------"
      ],
      "metadata": {
        "id": "zLBIRaaEFhRT"
      }
    },
    {
      "cell_type": "markdown",
      "source": [
        "`SARGable(Serach Argument able)`:\n",
        "\n",
        "      - 👉 It means SQL Server (or any database engine) can use an index efficiently while executing your query.\n",
        "\n",
        "      - If your WHERE, JOIN, or HAVING condition is SARGable, SQL can seek directly into indexes → FAST 🚀.\n",
        "\n",
        "      - If it’s NOT SARGable, SQL must scan rows → SLOW 🐢."
      ],
      "metadata": {
        "id": "AeYC10elEhkH"
      }
    },
    {
      "cell_type": "code",
      "source": [
        "# Examples: SARGable\n",
        "SELECT * FROM Users WHERE Age = 30;\n",
        "\n",
        "SELECT * FROM Users WHERE Name LIKE 'A%';\n",
        "\n",
        "SELECT * FROM Orders WHERE OrderDate BETWEEN '2023-01-01' AND '2023-12-31';"
      ],
      "metadata": {
        "id": "oCRhSZc_FWRr"
      },
      "execution_count": null,
      "outputs": []
    },
    {
      "cell_type": "markdown",
      "source": [
        "--------------------------------------------------------------------------------"
      ],
      "metadata": {
        "id": "vKxlbLEiGp0F"
      }
    },
    {
      "cell_type": "markdown",
      "source": [
        "`Non-SARGable` examples"
      ],
      "metadata": {
        "id": "YbhcTgu5GfW-"
      }
    },
    {
      "cell_type": "code",
      "source": [
        "# YEAR(BirthDate)vfunc changing the column\n",
        "SELECT * FROM Users WHERE YEAR(BirthDate) = 2020;\n",
        "\n",
        "# starting with %,  index is useless\n",
        "SELECT * FROM Users WHERE Name LIKE '%bob%';\n",
        "\n",
        "# Arithmetics\n",
        "SELECT * FROM Orders WHERE OrderDate + 1 = '2023-01-01';\n",
        "\n",
        "# ISNULL, UPPER, LOWER\n",
        "SELECT * FROM Users WHERE ISNULL(Email, '') = 'example@mail.com';"
      ],
      "metadata": {
        "id": "RMDwoZDJGg7j"
      },
      "execution_count": null,
      "outputs": []
    }
  ]
}