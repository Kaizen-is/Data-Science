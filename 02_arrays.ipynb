{
  "nbformat": 4,
  "nbformat_minor": 0,
  "metadata": {
    "colab": {
      "provenance": [],
      "authorship_tag": "ABX9TyN6rdLyH0ejgzAxBHi3AElT",
      "include_colab_link": true
    },
    "kernelspec": {
      "name": "python3",
      "display_name": "Python 3"
    },
    "language_info": {
      "name": "python"
    }
  },
  "cells": [
    {
      "cell_type": "markdown",
      "metadata": {
        "id": "view-in-github",
        "colab_type": "text"
      },
      "source": [
        "<a href=\"https://colab.research.google.com/github/Kaizen-is/Data-Science/blob/main/02_arrays.ipynb\" target=\"_parent\"><img src=\"https://colab.research.google.com/assets/colab-badge.svg\" alt=\"Open In Colab\"/></a>"
      ]
    },
    {
      "cell_type": "markdown",
      "source": [
        "**Data Scinece and AI Practicum**"
      ],
      "metadata": {
        "id": "JsdUqq1A9LJv"
      }
    },
    {
      "cell_type": "markdown",
      "source": [
        "Data Analytics"
      ],
      "metadata": {
        "id": "IqICQpaW9dDS"
      }
    },
    {
      "cell_type": "markdown",
      "source": [
        "- Creating NumPy Arrays"
      ],
      "metadata": {
        "id": "CM3K-YRp9oyz"
      }
    },
    {
      "cell_type": "code",
      "execution_count": null,
      "metadata": {
        "colab": {
          "base_uri": "https://localhost:8080/"
        },
        "id": "YmVNu61C7_tT",
        "outputId": "d31f2a3e-77d2-4c9f-a898-3345e964fb9b"
      },
      "outputs": [
        {
          "output_type": "stream",
          "name": "stdout",
          "text": [
            "[1, 1, 2, 4, 5]\n",
            "[1 1 2 4 5]\n",
            "<class 'numpy.ndarray'>\n"
          ]
        }
      ],
      "source": [
        "import numpy as np\n",
        "data1 = [1, 1, 2, 4, 5 ] # python simple list\n",
        "arr1 = np.array(data1) # numpy array\n",
        "print(data1)\n",
        "print(arr1)\n",
        "print(type(arr1))"
      ]
    },
    {
      "cell_type": "code",
      "source": [
        "import numpy as np\n",
        "data2 = (\"Kaizen\", \"Jinwoo\", \"Kamado\") # tuple\n",
        "arr2 = np.array(data2) # tuple into array\n",
        "print(type(data2), data2)\n",
        "print(type(arr2))\n",
        "arr2"
      ],
      "metadata": {
        "colab": {
          "base_uri": "https://localhost:8080/"
        },
        "id": "ABS-eiPd-_xT",
        "outputId": "05969b2a-0570-4a2d-c54e-cb2c158ea3b3"
      },
      "execution_count": null,
      "outputs": [
        {
          "output_type": "stream",
          "name": "stdout",
          "text": [
            "<class 'tuple'> ('Kaizen', 'Jinwoo', 'Kamado')\n",
            "<class 'numpy.ndarray'>\n"
          ]
        },
        {
          "output_type": "execute_result",
          "data": {
            "text/plain": [
              "array(['Kaizen', 'Jinwoo', 'Kamado'], dtype='<U6')"
            ]
          },
          "metadata": {},
          "execution_count": 15
        }
      ]
    },
    {
      "cell_type": "markdown",
      "source": [
        "- **Len of the Array**"
      ],
      "metadata": {
        "id": "ZwUJ1EJ2-2Jg"
      }
    },
    {
      "cell_type": "code",
      "source": [
        "arr1.ndim # len of the first array"
      ],
      "metadata": {
        "colab": {
          "base_uri": "https://localhost:8080/"
        },
        "id": "meNK7Sxx-PWT",
        "outputId": "81edc9bc-5369-4efa-ee60-a51d107b039a"
      },
      "execution_count": null,
      "outputs": [
        {
          "output_type": "execute_result",
          "data": {
            "text/plain": [
              "1"
            ]
          },
          "metadata": {},
          "execution_count": 7
        }
      ]
    },
    {
      "cell_type": "markdown",
      "source": [],
      "metadata": {
        "id": "2nFWaDFoIeMr"
      }
    },
    {
      "cell_type": "code",
      "source": [
        "arr2.ndim # len of the second array"
      ],
      "metadata": {
        "colab": {
          "base_uri": "https://localhost:8080/"
        },
        "id": "prq8YdLk_3Ov",
        "outputId": "6970280e-cf2e-4fdb-9f81-908efcb04ed0"
      },
      "execution_count": null,
      "outputs": [
        {
          "output_type": "execute_result",
          "data": {
            "text/plain": [
              "1"
            ]
          },
          "metadata": {},
          "execution_count": 8
        }
      ]
    },
    {
      "cell_type": "markdown",
      "source": [
        "- **Array of two or more dimensions**"
      ],
      "metadata": {
        "id": "U4EIrMLWADHg"
      }
    },
    {
      "cell_type": "code",
      "source": [
        "import numpy as np\n",
        "data3 = [[1, 2, 3, 4, 5], [6, 7, 8, 9, 10]] # list in the list (nested list)\n",
        "arr3 = np.array(data3)\n",
        "print(type(arr3))\n",
        "arr3"
      ],
      "metadata": {
        "colab": {
          "base_uri": "https://localhost:8080/"
        },
        "id": "8Wv0uGUCABjn",
        "outputId": "9b48b3ba-c41f-4145-b414-61edf11a4433"
      },
      "execution_count": null,
      "outputs": [
        {
          "output_type": "stream",
          "name": "stdout",
          "text": [
            "<class 'numpy.ndarray'>\n"
          ]
        },
        {
          "output_type": "execute_result",
          "data": {
            "text/plain": [
              "array([[ 1,  2,  3,  4,  5],\n",
              "       [ 6,  7,  8,  9, 10]])"
            ]
          },
          "metadata": {},
          "execution_count": 16
        }
      ]
    },
    {
      "cell_type": "code",
      "source": [
        "arr3.ndim # len of the third array"
      ],
      "metadata": {
        "colab": {
          "base_uri": "https://localhost:8080/"
        },
        "id": "-ayKl5AkAwJS",
        "outputId": "a4c1feb0-02fb-4fc7-b114-d57d07064d69"
      },
      "execution_count": null,
      "outputs": [
        {
          "output_type": "execute_result",
          "data": {
            "text/plain": [
              "2"
            ]
          },
          "metadata": {},
          "execution_count": 12
        }
      ]
    },
    {
      "cell_type": "markdown",
      "source": [
        "- **Zeros and Ones**"
      ],
      "metadata": {
        "id": "yMOgbhSYFXh8"
      }
    },
    {
      "cell_type": "code",
      "source": [
        "arr4 = np.zeros(shape = (2, 4)) # all elements are equal to zero\n",
        "arr4"
      ],
      "metadata": {
        "colab": {
          "base_uri": "https://localhost:8080/"
        },
        "id": "ozrTfu72FhsS",
        "outputId": "51c06724-db12-47af-c2b8-ba94ec3f5009"
      },
      "execution_count": null,
      "outputs": [
        {
          "output_type": "execute_result",
          "data": {
            "text/plain": [
              "array([[0., 0., 0., 0.],\n",
              "       [0., 0., 0., 0.]])"
            ]
          },
          "metadata": {},
          "execution_count": 22
        }
      ]
    },
    {
      "cell_type": "code",
      "source": [
        "arr5 = np.ones(shape = (3, 4)) # all elements are equal to one\n",
        "arr5"
      ],
      "metadata": {
        "colab": {
          "base_uri": "https://localhost:8080/"
        },
        "id": "MEAMIkaFGjNL",
        "outputId": "131c70d9-59a6-4835-9111-80fdb4075562"
      },
      "execution_count": null,
      "outputs": [
        {
          "output_type": "execute_result",
          "data": {
            "text/plain": [
              "array([[1., 1., 1., 1.],\n",
              "       [1., 1., 1., 1.],\n",
              "       [1., 1., 1., 1.]])"
            ]
          },
          "metadata": {},
          "execution_count": 23
        }
      ]
    },
    {
      "cell_type": "markdown",
      "source": [
        "- **Shape and Size**"
      ],
      "metadata": {
        "id": "7HpvBcxrDwyp"
      }
    },
    {
      "cell_type": "markdown",
      "source": [
        "*shape and size give an info(array)*"
      ],
      "metadata": {
        "id": "2ZfhZPyiECsV"
      }
    },
    {
      "cell_type": "code",
      "source": [
        "arr4.shape # (2, 4) (the length, all elements in 1 line)"
      ],
      "metadata": {
        "colab": {
          "base_uri": "https://localhost:8080/"
        },
        "id": "exg6QJeTByky",
        "outputId": "6285b09c-f65a-44b5-eb65-80e89c64eefb"
      },
      "execution_count": null,
      "outputs": [
        {
          "output_type": "execute_result",
          "data": {
            "text/plain": [
              "(2, 4)"
            ]
          },
          "metadata": {},
          "execution_count": 27
        }
      ]
    },
    {
      "cell_type": "code",
      "source": [
        "arr5.size # amount of all elements in array"
      ],
      "metadata": {
        "colab": {
          "base_uri": "https://localhost:8080/"
        },
        "id": "swilpIBXEa0O",
        "outputId": "e7ba9fce-7f2a-460e-ffd2-83fcfd0ce045"
      },
      "execution_count": null,
      "outputs": [
        {
          "output_type": "execute_result",
          "data": {
            "text/plain": [
              "12"
            ]
          },
          "metadata": {},
          "execution_count": 29
        }
      ]
    },
    {
      "cell_type": "code",
      "source": [
        "arr6 = np.arange(2, 20, 2) # ([start], [end], [step])\n",
        "arr6"
      ],
      "metadata": {
        "colab": {
          "base_uri": "https://localhost:8080/"
        },
        "id": "SinW2A2dHeUp",
        "outputId": "cd9ddd3a-300e-4537-c0aa-a00cc03919a9"
      },
      "execution_count": null,
      "outputs": [
        {
          "output_type": "execute_result",
          "data": {
            "text/plain": [
              "array([ 2,  4,  6,  8, 10, 12, 14, 16, 18])"
            ]
          },
          "metadata": {},
          "execution_count": 32
        }
      ]
    },
    {
      "cell_type": "code",
      "source": [
        "arr7 = np.arange(10) # each number from 0 to 9\n",
        "arr7"
      ],
      "metadata": {
        "colab": {
          "base_uri": "https://localhost:8080/"
        },
        "id": "iPu-3PJCHwW9",
        "outputId": "e9705683-3d99-486c-d78b-693e0ca76fb6"
      },
      "execution_count": null,
      "outputs": [
        {
          "output_type": "execute_result",
          "data": {
            "text/plain": [
              "array([0, 1, 2, 3, 4, 5, 6, 7, 8, 9])"
            ]
          },
          "metadata": {},
          "execution_count": 35
        }
      ]
    }
  ]
}